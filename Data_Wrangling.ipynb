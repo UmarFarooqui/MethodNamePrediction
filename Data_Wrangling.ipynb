{
  "nbformat": 4,
  "nbformat_minor": 0,
  "metadata": {
    "colab": {
      "name": "Data_Wrangling.ipynb",
      "provenance": [],
      "collapsed_sections": [],
      "include_colab_link": true
    },
    "kernelspec": {
      "name": "python3",
      "display_name": "Python 3"
    }
  },
  "cells": [
    {
      "cell_type": "markdown",
      "metadata": {
        "id": "view-in-github",
        "colab_type": "text"
      },
      "source": [
        "<a href=\"https://colab.research.google.com/github/UmarFarooqui/Springboard/blob/master/Data_Wrangling.ipynb\" target=\"_parent\"><img src=\"https://colab.research.google.com/assets/colab-badge.svg\" alt=\"Open In Colab\"/></a>"
      ]
    },
    {
      "cell_type": "code",
      "metadata": {
        "id": "bZHSpPRZe6S8",
        "colab_type": "code",
        "colab": {}
      },
      "source": [
        "from pprint import pprint\n",
        "import json\n",
        "from pathlib import Path\n",
        "import pandas as pd"
      ],
      "execution_count": 0,
      "outputs": []
    },
    {
      "cell_type": "code",
      "metadata": {
        "id": "0BVqz5V0Xymp",
        "colab_type": "code",
        "colab": {
          "base_uri": "https://localhost:8080/",
          "height": 34
        },
        "outputId": "5dadaa4e-1b2d-4156-ae1b-244b7d196629"
      },
      "source": [
        "# Mounting the google drive\n",
        "from google.colab import drive\n",
        "drive.mount('/content/drive')"
      ],
      "execution_count": 25,
      "outputs": [
        {
          "output_type": "stream",
          "text": [
            "Drive already mounted at /content/drive; to attempt to forcibly remount, call drive.mount(\"/content/drive\", force_remount=True).\n"
          ],
          "name": "stdout"
        }
      ]
    },
    {
      "cell_type": "code",
      "metadata": {
        "id": "2Cyo08SEacmY",
        "colab_type": "code",
        "colab": {
          "base_uri": "https://localhost:8080/",
          "height": 34
        },
        "outputId": "9df19a06-adc4-47f3-b002-cdea4982d19a"
      },
      "source": [
        "# Uploaded the dataset to google drive. Checking.\n",
        "!ls \"/content/drive/My Drive/data\""
      ],
      "execution_count": 26,
      "outputs": [
        {
          "output_type": "stream",
          "text": [
            "codesearchnet_python.zip\n"
          ],
          "name": "stdout"
        }
      ]
    },
    {
      "cell_type": "code",
      "metadata": {
        "id": "PkNaFKp9c3D7",
        "colab_type": "code",
        "colab": {
          "base_uri": "https://localhost:8080/",
          "height": 340
        },
        "outputId": "df89f00f-2260-4535-83b3-a41250a00cd6"
      },
      "source": [
        "!unzip \"/content/drive/My Drive/data/codesearchnet_python.zip\""
      ],
      "execution_count": 28,
      "outputs": [
        {
          "output_type": "stream",
          "text": [
            "Archive:  /content/drive/My Drive/data/codesearchnet_python.zip\n",
            "replace python/final/jsonl/train/python_train_9.jsonl.gz? [y]es, [n]o, [A]ll, [N]one, [r]ename: n\n",
            "replace python/final/jsonl/train/python_train_12.jsonl.gz? [y]es, [n]o, [A]ll, [N]one, [r]ename: n\n",
            "replace python/final/jsonl/train/python_train_10.jsonl.gz? [y]es, [n]o, [A]ll, [N]one, [r]ename: n\n",
            "replace python/final/jsonl/train/python_train_0.jsonl.gz? [y]es, [n]o, [A]ll, [N]one, [r]ename: n\n",
            "replace python/final/jsonl/train/python_train_6.jsonl.gz? [y]es, [n]o, [A]ll, [N]one, [r]ename: n\n",
            "replace python/final/jsonl/train/python_train_2.jsonl.gz? [y]es, [n]o, [A]ll, [N]one, [r]ename: n\n",
            "replace python/final/jsonl/train/python_train_4.jsonl.gz? [y]es, [n]o, [A]ll, [N]one, [r]ename: n\n",
            "replace python/final/jsonl/train/python_train_8.jsonl.gz? [y]es, [n]o, [A]ll, [N]one, [r]ename: n\n",
            "replace python/final/jsonl/train/python_train_11.jsonl.gz? [y]es, [n]o, [A]ll, [N]one, [r]ename: n\n",
            "replace python/final/jsonl/train/python_train_5.jsonl.gz? [y]es, [n]o, [A]ll, [N]one, [r]ename: n\n",
            "replace python/final/jsonl/train/python_train_13.jsonl.gz? [y]es, [n]o, [A]ll, [N]one, [r]ename: n\n",
            "replace python/final/jsonl/train/python_train_3.jsonl.gz? [y]es, [n]o, [A]ll, [N]one, [r]ename: n\n",
            "replace python/final/jsonl/train/python_train_1.jsonl.gz? [y]es, [n]o, [A]ll, [N]one, [r]ename: n\n",
            "replace python/final/jsonl/train/python_train_7.jsonl.gz? [y]es, [n]o, [A]ll, [N]one, [r]ename: n\n",
            "  inflating: python/final/jsonl/test/python_test_0.jsonl.gz  \n",
            "replace python/final/jsonl/valid/python_valid_0.jsonl.gz? [y]es, [n]o, [A]ll, [N]one, [r]ename: n\n",
            "replace python_dedupe_definitions_v2.pkl? [y]es, [n]o, [A]ll, [N]one, [r]ename: n\n",
            "replace python_licenses.pkl? [y]es, [n]o, [A]ll, [N]one, [r]ename: n\n"
          ],
          "name": "stdout"
        }
      ]
    },
    {
      "cell_type": "code",
      "metadata": {
        "id": "dcxXTIRgeZeT",
        "colab_type": "code",
        "colab": {}
      },
      "source": [
        "# Exploring the full dataset\n",
        "python_files = sorted(Path('python/').glob('**/*.gz'))"
      ],
      "execution_count": 0,
      "outputs": []
    },
    {
      "cell_type": "code",
      "metadata": {
        "id": "J6J_UNP9xhiJ",
        "colab_type": "code",
        "colab": {
          "base_uri": "https://localhost:8080/",
          "height": 289
        },
        "outputId": "c2a7158e-2bd7-492a-a845-48cd89b2b43c"
      },
      "source": [
        "python_files"
      ],
      "execution_count": 36,
      "outputs": [
        {
          "output_type": "execute_result",
          "data": {
            "text/plain": [
              "[PosixPath('python/final/jsonl/test/python_test_0.jsonl.gz'),\n",
              " PosixPath('python/final/jsonl/train/python_train_0.jsonl.gz'),\n",
              " PosixPath('python/final/jsonl/train/python_train_1.jsonl.gz'),\n",
              " PosixPath('python/final/jsonl/train/python_train_10.jsonl.gz'),\n",
              " PosixPath('python/final/jsonl/train/python_train_11.jsonl.gz'),\n",
              " PosixPath('python/final/jsonl/train/python_train_12.jsonl.gz'),\n",
              " PosixPath('python/final/jsonl/train/python_train_13.jsonl.gz'),\n",
              " PosixPath('python/final/jsonl/train/python_train_2.jsonl.gz'),\n",
              " PosixPath('python/final/jsonl/train/python_train_3.jsonl.gz'),\n",
              " PosixPath('python/final/jsonl/train/python_train_4.jsonl.gz'),\n",
              " PosixPath('python/final/jsonl/train/python_train_5.jsonl.gz'),\n",
              " PosixPath('python/final/jsonl/train/python_train_6.jsonl.gz'),\n",
              " PosixPath('python/final/jsonl/train/python_train_7.jsonl.gz'),\n",
              " PosixPath('python/final/jsonl/train/python_train_8.jsonl.gz'),\n",
              " PosixPath('python/final/jsonl/train/python_train_9.jsonl.gz'),\n",
              " PosixPath('python/final/jsonl/valid/python_valid_0.jsonl.gz')]"
            ]
          },
          "metadata": {
            "tags": []
          },
          "execution_count": 36
        }
      ]
    },
    {
      "cell_type": "code",
      "metadata": {
        "id": "MIMzWL-bxwx-",
        "colab_type": "code",
        "colab": {
          "base_uri": "https://localhost:8080/",
          "height": 34
        },
        "outputId": "62902bee-1525-465d-887c-9bea3b359038"
      },
      "source": [
        "print(f'Total number of files: {len(python_files)}')"
      ],
      "execution_count": 37,
      "outputs": [
        {
          "output_type": "stream",
          "text": [
            "Total number of files: 16\n"
          ],
          "name": "stdout"
        }
      ]
    },
    {
      "cell_type": "code",
      "metadata": {
        "id": "zAAGuPgJzKFC",
        "colab_type": "code",
        "colab": {}
      },
      "source": [
        "columns_list = ['repo', 'path', 'url', 'func_name', 'code', 'code_tokens', 'docstring', 'docstring_tokens']"
      ],
      "execution_count": 0,
      "outputs": []
    },
    {
      "cell_type": "code",
      "metadata": {
        "id": "MPuHC-fZztIS",
        "colab_type": "code",
        "colab": {}
      },
      "source": [
        "def jsonl_list_to_dataframe(file_list, columns=columns_list):\n",
        "  \"\"\"Load a list of jsonl.gz files into a pandas dataframe.\"\"\"\n",
        "  return pd.concat([pd.read_json(f, orient='records', compression='gzip', lines=True)[columns] for f in file_list], sort=False) "
      ],
      "execution_count": 0,
      "outputs": []
    },
    {
      "cell_type": "code",
      "metadata": {
        "id": "3ySkokME0cd6",
        "colab_type": "code",
        "colab": {}
      },
      "source": [
        "pydf = jsonl_list_to_dataframe(all_files)"
      ],
      "execution_count": 0,
      "outputs": []
    },
    {
      "cell_type": "code",
      "metadata": {
        "id": "NHtXH6QQ0inj",
        "colab_type": "code",
        "colab": {
          "base_uri": "https://localhost:8080/",
          "height": 193
        },
        "outputId": "477b61a7-19d7-4f3f-d395-68d50155bfac"
      },
      "source": [
        "pydf.head(3)"
      ],
      "execution_count": 60,
      "outputs": [
        {
          "output_type": "execute_result",
          "data": {
            "text/html": [
              "<div>\n",
              "<style scoped>\n",
              "    .dataframe tbody tr th:only-of-type {\n",
              "        vertical-align: middle;\n",
              "    }\n",
              "\n",
              "    .dataframe tbody tr th {\n",
              "        vertical-align: top;\n",
              "    }\n",
              "\n",
              "    .dataframe thead th {\n",
              "        text-align: right;\n",
              "    }\n",
              "</style>\n",
              "<table border=\"1\" class=\"dataframe\">\n",
              "  <thead>\n",
              "    <tr style=\"text-align: right;\">\n",
              "      <th></th>\n",
              "      <th>repo</th>\n",
              "      <th>path</th>\n",
              "      <th>url</th>\n",
              "      <th>func_name</th>\n",
              "      <th>code</th>\n",
              "      <th>code_tokens</th>\n",
              "      <th>docstring</th>\n",
              "      <th>docstring_tokens</th>\n",
              "    </tr>\n",
              "  </thead>\n",
              "  <tbody>\n",
              "    <tr>\n",
              "      <th>0</th>\n",
              "      <td>soimort/you-get</td>\n",
              "      <td>src/you_get/extractors/youtube.py</td>\n",
              "      <td>https://github.com/soimort/you-get/blob/b746ac...</td>\n",
              "      <td>YouTube.get_vid_from_url</td>\n",
              "      <td>def get_vid_from_url(url):\\n        \"\"\"Extract...</td>\n",
              "      <td>[def, get_vid_from_url, (, url, ), :, return, ...</td>\n",
              "      <td>Extracts video ID from URL.</td>\n",
              "      <td>[Extracts, video, ID, from, URL, .]</td>\n",
              "    </tr>\n",
              "    <tr>\n",
              "      <th>1</th>\n",
              "      <td>soimort/you-get</td>\n",
              "      <td>src/you_get/extractors/miomio.py</td>\n",
              "      <td>https://github.com/soimort/you-get/blob/b746ac...</td>\n",
              "      <td>sina_xml_to_url_list</td>\n",
              "      <td>def sina_xml_to_url_list(xml_data):\\n    \"\"\"st...</td>\n",
              "      <td>[def, sina_xml_to_url_list, (, xml_data, ), :,...</td>\n",
              "      <td>str-&gt;list\\n    Convert XML to URL List.\\n    F...</td>\n",
              "      <td>[str, -, &gt;, list, Convert, XML, to, URL, List,...</td>\n",
              "    </tr>\n",
              "    <tr>\n",
              "      <th>2</th>\n",
              "      <td>soimort/you-get</td>\n",
              "      <td>src/you_get/extractors/fc2video.py</td>\n",
              "      <td>https://github.com/soimort/you-get/blob/b746ac...</td>\n",
              "      <td>makeMimi</td>\n",
              "      <td>def makeMimi(upid):\\n    \"\"\"From http://cdn37....</td>\n",
              "      <td>[def, makeMimi, (, upid, ), :, strSeed, =, \"gG...</td>\n",
              "      <td>From http://cdn37.atwikiimg.com/sitescript/pub...</td>\n",
              "      <td>[From, http, :, //, cdn37, ., atwikiimg, ., co...</td>\n",
              "    </tr>\n",
              "  </tbody>\n",
              "</table>\n",
              "</div>"
            ],
            "text/plain": [
              "              repo  ...                                   docstring_tokens\n",
              "0  soimort/you-get  ...                [Extracts, video, ID, from, URL, .]\n",
              "1  soimort/you-get  ...  [str, -, >, list, Convert, XML, to, URL, List,...\n",
              "2  soimort/you-get  ...  [From, http, :, //, cdn37, ., atwikiimg, ., co...\n",
              "\n",
              "[3 rows x 8 columns]"
            ]
          },
          "metadata": {
            "tags": []
          },
          "execution_count": 60
        }
      ]
    },
    {
      "cell_type": "code",
      "metadata": {
        "id": "R_f038v-1LL0",
        "colab_type": "code",
        "colab": {}
      },
      "source": [
        "# The columns which will be used for our purpose would be func_name, code, code_tokens, docstring, docstring_tokens"
      ],
      "execution_count": 0,
      "outputs": []
    }
  ]
}