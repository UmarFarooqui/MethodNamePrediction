{
  "nbformat": 4,
  "nbformat_minor": 0,
  "metadata": {
    "colab": {
      "name": "Data_Wrangling.ipynb",
      "provenance": [],
      "collapsed_sections": [],
      "include_colab_link": true
    },
    "kernelspec": {
      "name": "python3",
      "display_name": "Python 3"
    }
  },
  "cells": [
    {
      "cell_type": "markdown",
      "metadata": {
        "id": "view-in-github",
        "colab_type": "text"
      },
      "source": [
        "<a href=\"https://colab.research.google.com/github/UmarFarooqui/Springboard/blob/master/Data_Wrangling.ipynb\" target=\"_parent\"><img src=\"https://colab.research.google.com/assets/colab-badge.svg\" alt=\"Open In Colab\"/></a>"
      ]
    },
    {
      "cell_type": "code",
      "metadata": {
        "id": "bZHSpPRZe6S8",
        "colab_type": "code",
        "colab": {}
      },
      "source": [
        "from pprint import pprint\n",
        "import json\n",
        "from pathlib import Path\n",
        "import pandas as pd\n",
        "import requests\n",
        "from google.colab import files\n",
        "import subprocess"
      ],
      "execution_count": 0,
      "outputs": []
    },
    {
      "cell_type": "code",
      "metadata": {
        "id": "0BVqz5V0Xymp",
        "colab_type": "code",
        "outputId": "a9ddf07d-8ec1-4d15-c964-9b2c5701bb51",
        "colab": {
          "base_uri": "https://localhost:8080/",
          "height": 34
        }
      },
      "source": [
        "# Mounting the google drive\n",
        "from google.colab import drive\n",
        "drive.mount('/content/drive')"
      ],
      "execution_count": 119,
      "outputs": [
        {
          "output_type": "stream",
          "text": [
            "Drive already mounted at /content/drive; to attempt to forcibly remount, call drive.mount(\"/content/drive\", force_remount=True).\n"
          ],
          "name": "stdout"
        }
      ]
    },
    {
      "cell_type": "code",
      "metadata": {
        "id": "2Cyo08SEacmY",
        "colab_type": "code",
        "outputId": "5fba3af3-f0a1-4ab5-99d6-27a10eda58a8",
        "colab": {
          "base_uri": "https://localhost:8080/",
          "height": 34
        }
      },
      "source": [
        "# Uploaded the dataset to google drive. Checking.\n",
        "!ls \"/content/drive/My Drive/data\""
      ],
      "execution_count": 120,
      "outputs": [
        {
          "output_type": "stream",
          "text": [
            "codesearchnet_python.zip  repository_star_info.json\n"
          ],
          "name": "stdout"
        }
      ]
    },
    {
      "cell_type": "code",
      "metadata": {
        "id": "PkNaFKp9c3D7",
        "colab_type": "code",
        "outputId": "488c8025-c43b-434d-e8e7-27d8b2183b4a",
        "colab": {
          "base_uri": "https://localhost:8080/",
          "height": 340
        }
      },
      "source": [
        "!unzip \"/content/drive/My Drive/data/codesearchnet_python.zip\""
      ],
      "execution_count": 121,
      "outputs": [
        {
          "output_type": "stream",
          "text": [
            "Archive:  /content/drive/My Drive/data/codesearchnet_python.zip\n",
            "replace python/final/jsonl/train/python_train_9.jsonl.gz? [y]es, [n]o, [A]ll, [N]one, [r]ename: n\n",
            "replace python/final/jsonl/train/python_train_12.jsonl.gz? [y]es, [n]o, [A]ll, [N]one, [r]ename: n\n",
            "replace python/final/jsonl/train/python_train_10.jsonl.gz? [y]es, [n]o, [A]ll, [N]one, [r]ename: n\n",
            "replace python/final/jsonl/train/python_train_0.jsonl.gz? [y]es, [n]o, [A]ll, [N]one, [r]ename: n\n",
            "replace python/final/jsonl/train/python_train_6.jsonl.gz? [y]es, [n]o, [A]ll, [N]one, [r]ename: n\n",
            "replace python/final/jsonl/train/python_train_2.jsonl.gz? [y]es, [n]o, [A]ll, [N]one, [r]ename: n\n",
            "replace python/final/jsonl/train/python_train_4.jsonl.gz? [y]es, [n]o, [A]ll, [N]one, [r]ename: n\n",
            "replace python/final/jsonl/train/python_train_8.jsonl.gz? [y]es, [n]o, [A]ll, [N]one, [r]ename: n\n",
            "replace python/final/jsonl/train/python_train_11.jsonl.gz? [y]es, [n]o, [A]ll, [N]one, [r]ename: n\n",
            "replace python/final/jsonl/train/python_train_5.jsonl.gz? [y]es, [n]o, [A]ll, [N]one, [r]ename: n\n",
            "replace python/final/jsonl/train/python_train_13.jsonl.gz? [y]es, [n]o, [A]ll, [N]one, [r]ename: n\n",
            "replace python/final/jsonl/train/python_train_3.jsonl.gz? [y]es, [n]o, [A]ll, [N]one, [r]ename: n\n",
            "replace python/final/jsonl/train/python_train_1.jsonl.gz? [y]es, [n]o, [A]ll, [N]one, [r]ename: n\n",
            "replace python/final/jsonl/train/python_train_7.jsonl.gz? [y]es, [n]o, [A]ll, [N]one, [r]ename: n\n",
            "replace python/final/jsonl/test/python_test_0.jsonl.gz? [y]es, [n]o, [A]ll, [N]one, [r]ename: n\n",
            "replace python/final/jsonl/valid/python_valid_0.jsonl.gz? [y]es, [n]o, [A]ll, [N]one, [r]ename: n\n",
            "replace python_dedupe_definitions_v2.pkl? [y]es, [n]o, [A]ll, [N]one, [r]ename: n\n",
            "replace python_licenses.pkl? [y]es, [n]o, [A]ll, [N]one, [r]ename: n\n"
          ],
          "name": "stdout"
        }
      ]
    },
    {
      "cell_type": "code",
      "metadata": {
        "id": "dcxXTIRgeZeT",
        "colab_type": "code",
        "colab": {}
      },
      "source": [
        "# Exploring the full dataset\n",
        "python_files = sorted(Path('python/').glob('**/*.gz'))"
      ],
      "execution_count": 0,
      "outputs": []
    },
    {
      "cell_type": "code",
      "metadata": {
        "id": "J6J_UNP9xhiJ",
        "colab_type": "code",
        "outputId": "52f5d7b6-42f6-48a3-95fe-ee160836bf36",
        "colab": {
          "base_uri": "https://localhost:8080/",
          "height": 289
        }
      },
      "source": [
        "python_files"
      ],
      "execution_count": 0,
      "outputs": [
        {
          "output_type": "execute_result",
          "data": {
            "text/plain": [
              "[PosixPath('python/final/jsonl/test/python_test_0.jsonl.gz'),\n",
              " PosixPath('python/final/jsonl/train/python_train_0.jsonl.gz'),\n",
              " PosixPath('python/final/jsonl/train/python_train_1.jsonl.gz'),\n",
              " PosixPath('python/final/jsonl/train/python_train_10.jsonl.gz'),\n",
              " PosixPath('python/final/jsonl/train/python_train_11.jsonl.gz'),\n",
              " PosixPath('python/final/jsonl/train/python_train_12.jsonl.gz'),\n",
              " PosixPath('python/final/jsonl/train/python_train_13.jsonl.gz'),\n",
              " PosixPath('python/final/jsonl/train/python_train_2.jsonl.gz'),\n",
              " PosixPath('python/final/jsonl/train/python_train_3.jsonl.gz'),\n",
              " PosixPath('python/final/jsonl/train/python_train_4.jsonl.gz'),\n",
              " PosixPath('python/final/jsonl/train/python_train_5.jsonl.gz'),\n",
              " PosixPath('python/final/jsonl/train/python_train_6.jsonl.gz'),\n",
              " PosixPath('python/final/jsonl/train/python_train_7.jsonl.gz'),\n",
              " PosixPath('python/final/jsonl/train/python_train_8.jsonl.gz'),\n",
              " PosixPath('python/final/jsonl/train/python_train_9.jsonl.gz'),\n",
              " PosixPath('python/final/jsonl/valid/python_valid_0.jsonl.gz')]"
            ]
          },
          "metadata": {
            "tags": []
          },
          "execution_count": 6
        }
      ]
    },
    {
      "cell_type": "code",
      "metadata": {
        "id": "MIMzWL-bxwx-",
        "colab_type": "code",
        "outputId": "419d1ba2-9670-4506-e373-14193b904298",
        "colab": {
          "base_uri": "https://localhost:8080/",
          "height": 34
        }
      },
      "source": [
        "print(f'Total number of files: {len(python_files)}')"
      ],
      "execution_count": 124,
      "outputs": [
        {
          "output_type": "stream",
          "text": [
            "Total number of files: 16\n"
          ],
          "name": "stdout"
        }
      ]
    },
    {
      "cell_type": "code",
      "metadata": {
        "id": "zAAGuPgJzKFC",
        "colab_type": "code",
        "colab": {}
      },
      "source": [
        "columns_list = ['repo', 'path', 'url', 'func_name', 'code', 'code_tokens', 'docstring', 'docstring_tokens']"
      ],
      "execution_count": 0,
      "outputs": []
    },
    {
      "cell_type": "code",
      "metadata": {
        "id": "MPuHC-fZztIS",
        "colab_type": "code",
        "colab": {}
      },
      "source": [
        "def jsonl_list_to_dataframe(file_list, columns=columns_list):\n",
        "  \"\"\"Load a list of jsonl.gz files into a pandas dataframe.\"\"\"\n",
        "  return pd.concat([pd.read_json(f, orient='records', compression='gzip', lines=True)[columns] for f in file_list], sort=False) "
      ],
      "execution_count": 0,
      "outputs": []
    },
    {
      "cell_type": "code",
      "metadata": {
        "id": "3ySkokME0cd6",
        "colab_type": "code",
        "colab": {}
      },
      "source": [
        "pydf = jsonl_list_to_dataframe(python_files)"
      ],
      "execution_count": 0,
      "outputs": []
    },
    {
      "cell_type": "code",
      "metadata": {
        "id": "NHtXH6QQ0inj",
        "colab_type": "code",
        "outputId": "97b5c0e7-2fae-41cd-a15e-faee2c8c9a97",
        "colab": {
          "base_uri": "https://localhost:8080/",
          "height": 193
        }
      },
      "source": [
        "pydf.head(3)"
      ],
      "execution_count": 128,
      "outputs": [
        {
          "output_type": "execute_result",
          "data": {
            "text/html": [
              "<div>\n",
              "<style scoped>\n",
              "    .dataframe tbody tr th:only-of-type {\n",
              "        vertical-align: middle;\n",
              "    }\n",
              "\n",
              "    .dataframe tbody tr th {\n",
              "        vertical-align: top;\n",
              "    }\n",
              "\n",
              "    .dataframe thead th {\n",
              "        text-align: right;\n",
              "    }\n",
              "</style>\n",
              "<table border=\"1\" class=\"dataframe\">\n",
              "  <thead>\n",
              "    <tr style=\"text-align: right;\">\n",
              "      <th></th>\n",
              "      <th>repo</th>\n",
              "      <th>path</th>\n",
              "      <th>url</th>\n",
              "      <th>func_name</th>\n",
              "      <th>code</th>\n",
              "      <th>code_tokens</th>\n",
              "      <th>docstring</th>\n",
              "      <th>docstring_tokens</th>\n",
              "    </tr>\n",
              "  </thead>\n",
              "  <tbody>\n",
              "    <tr>\n",
              "      <th>0</th>\n",
              "      <td>soimort/you-get</td>\n",
              "      <td>src/you_get/extractors/youtube.py</td>\n",
              "      <td>https://github.com/soimort/you-get/blob/b746ac...</td>\n",
              "      <td>YouTube.get_vid_from_url</td>\n",
              "      <td>def get_vid_from_url(url):\\n        \"\"\"Extract...</td>\n",
              "      <td>[def, get_vid_from_url, (, url, ), :, return, ...</td>\n",
              "      <td>Extracts video ID from URL.</td>\n",
              "      <td>[Extracts, video, ID, from, URL, .]</td>\n",
              "    </tr>\n",
              "    <tr>\n",
              "      <th>1</th>\n",
              "      <td>soimort/you-get</td>\n",
              "      <td>src/you_get/extractors/miomio.py</td>\n",
              "      <td>https://github.com/soimort/you-get/blob/b746ac...</td>\n",
              "      <td>sina_xml_to_url_list</td>\n",
              "      <td>def sina_xml_to_url_list(xml_data):\\n    \"\"\"st...</td>\n",
              "      <td>[def, sina_xml_to_url_list, (, xml_data, ), :,...</td>\n",
              "      <td>str-&gt;list\\n    Convert XML to URL List.\\n    F...</td>\n",
              "      <td>[str, -, &gt;, list, Convert, XML, to, URL, List,...</td>\n",
              "    </tr>\n",
              "    <tr>\n",
              "      <th>2</th>\n",
              "      <td>soimort/you-get</td>\n",
              "      <td>src/you_get/extractors/fc2video.py</td>\n",
              "      <td>https://github.com/soimort/you-get/blob/b746ac...</td>\n",
              "      <td>makeMimi</td>\n",
              "      <td>def makeMimi(upid):\\n    \"\"\"From http://cdn37....</td>\n",
              "      <td>[def, makeMimi, (, upid, ), :, strSeed, =, \"gG...</td>\n",
              "      <td>From http://cdn37.atwikiimg.com/sitescript/pub...</td>\n",
              "      <td>[From, http, :, //, cdn37, ., atwikiimg, ., co...</td>\n",
              "    </tr>\n",
              "  </tbody>\n",
              "</table>\n",
              "</div>"
            ],
            "text/plain": [
              "              repo  ...                                   docstring_tokens\n",
              "0  soimort/you-get  ...                [Extracts, video, ID, from, URL, .]\n",
              "1  soimort/you-get  ...  [str, -, >, list, Convert, XML, to, URL, List,...\n",
              "2  soimort/you-get  ...  [From, http, :, //, cdn37, ., atwikiimg, ., co...\n",
              "\n",
              "[3 rows x 8 columns]"
            ]
          },
          "metadata": {
            "tags": []
          },
          "execution_count": 128
        }
      ]
    },
    {
      "cell_type": "code",
      "metadata": {
        "id": "R_f038v-1LL0",
        "colab_type": "code",
        "outputId": "7a1ff5cf-20ef-4d39-d85d-7ea9164a0df8",
        "colab": {
          "base_uri": "https://localhost:8080/",
          "height": 238
        }
      },
      "source": [
        "# The columns which will be used for our purpose would be func_name, code, code_tokens, docstring, docstring_tokens\n",
        "pydf.groupby(['repo'])['code'].count()"
      ],
      "execution_count": 129,
      "outputs": [
        {
          "output_type": "execute_result",
          "data": {
            "text/plain": [
              "repo\n",
              "0101/pipetools                   12\n",
              "02strich/django-auth-kerberos     1\n",
              "05bit/peewee-async               42\n",
              "0compute/xtraceback               2\n",
              "0k/kids.cache                     4\n",
              "                                 ..\n",
              "zyga/python-glibc                32\n",
              "zyga/python-phablet               6\n",
              "zzyztyy/pyIGRF                    6\n",
              "zzzsochi/includer                 2\n",
              "zzzsochi/resolver_deco            1\n",
              "Name: code, Length: 13590, dtype: int64"
            ]
          },
          "metadata": {
            "tags": []
          },
          "execution_count": 129
        }
      ]
    },
    {
      "cell_type": "code",
      "metadata": {
        "id": "SoE9mDnB7LDJ",
        "colab_type": "code",
        "outputId": "0b5edc76-7dd2-486b-92bd-71f6dc60896e",
        "colab": {
          "base_uri": "https://localhost:8080/",
          "height": 34
        }
      },
      "source": [
        "# As a starting point we will use the repos with a high star count\n",
        "# Example of how to do it\n",
        "url = 'http://api.github.com/repos/'\n",
        "repo_name = '0101/pipetools'\n",
        "r = requests.get(url + repo_name)\n",
        "r_json = r.json()\n",
        "r_json['stargazers_count']"
      ],
      "execution_count": 130,
      "outputs": [
        {
          "output_type": "execute_result",
          "data": {
            "text/plain": [
              "81"
            ]
          },
          "metadata": {
            "tags": []
          },
          "execution_count": 130
        }
      ]
    },
    {
      "cell_type": "code",
      "metadata": {
        "id": "heKZTqdKCbhW",
        "colab_type": "code",
        "outputId": "b6b47ad2-36f0-4aec-8204-4a301ff06c9f",
        "colab": {
          "base_uri": "https://localhost:8080/",
          "height": 34
        }
      },
      "source": [
        "# Now we will add this as the last column in our dataframe\n",
        "# First check if we have no null values in the repo column\n",
        "pydf.repo.isnull().any()"
      ],
      "execution_count": 131,
      "outputs": [
        {
          "output_type": "execute_result",
          "data": {
            "text/plain": [
              "False"
            ]
          },
          "metadata": {
            "tags": []
          },
          "execution_count": 131
        }
      ]
    },
    {
      "cell_type": "code",
      "metadata": {
        "id": "fle1H_cbDH9-",
        "colab_type": "code",
        "outputId": "84cf71b3-27c2-41e7-b139-d07a457a9c77",
        "colab": {
          "base_uri": "https://localhost:8080/",
          "height": 49
        }
      },
      "source": [
        "pydf[pydf['repo'] == '']"
      ],
      "execution_count": 132,
      "outputs": [
        {
          "output_type": "execute_result",
          "data": {
            "text/html": [
              "<div>\n",
              "<style scoped>\n",
              "    .dataframe tbody tr th:only-of-type {\n",
              "        vertical-align: middle;\n",
              "    }\n",
              "\n",
              "    .dataframe tbody tr th {\n",
              "        vertical-align: top;\n",
              "    }\n",
              "\n",
              "    .dataframe thead th {\n",
              "        text-align: right;\n",
              "    }\n",
              "</style>\n",
              "<table border=\"1\" class=\"dataframe\">\n",
              "  <thead>\n",
              "    <tr style=\"text-align: right;\">\n",
              "      <th></th>\n",
              "      <th>repo</th>\n",
              "      <th>path</th>\n",
              "      <th>url</th>\n",
              "      <th>func_name</th>\n",
              "      <th>code</th>\n",
              "      <th>code_tokens</th>\n",
              "      <th>docstring</th>\n",
              "      <th>docstring_tokens</th>\n",
              "    </tr>\n",
              "  </thead>\n",
              "  <tbody>\n",
              "  </tbody>\n",
              "</table>\n",
              "</div>"
            ],
            "text/plain": [
              "Empty DataFrame\n",
              "Columns: [repo, path, url, func_name, code, code_tokens, docstring, docstring_tokens]\n",
              "Index: []"
            ]
          },
          "metadata": {
            "tags": []
          },
          "execution_count": 132
        }
      ]
    },
    {
      "cell_type": "code",
      "metadata": {
        "id": "i8r22_VXDeN1",
        "colab_type": "code",
        "outputId": "4096f4b9-4d11-4fd7-da37-7005a1d87d17",
        "colab": {
          "base_uri": "https://localhost:8080/",
          "height": 238
        }
      },
      "source": [
        "# So looks like the repo column is having no null values or empty string\n",
        "# Taking a look at the dataframe\n",
        "pydf.info()"
      ],
      "execution_count": 133,
      "outputs": [
        {
          "output_type": "stream",
          "text": [
            "<class 'pandas.core.frame.DataFrame'>\n",
            "Int64Index: 457461 entries, 0 to 23106\n",
            "Data columns (total 8 columns):\n",
            "repo                457461 non-null object\n",
            "path                457461 non-null object\n",
            "url                 457461 non-null object\n",
            "func_name           457461 non-null object\n",
            "code                457461 non-null object\n",
            "code_tokens         457461 non-null object\n",
            "docstring           457461 non-null object\n",
            "docstring_tokens    457461 non-null object\n",
            "dtypes: object(8)\n",
            "memory usage: 31.4+ MB\n"
          ],
          "name": "stdout"
        }
      ]
    },
    {
      "cell_type": "code",
      "metadata": {
        "id": "WZ4xKxx3D0w9",
        "colab_type": "code",
        "outputId": "88a3b7e7-b11b-4b95-ec37-e4a5d7007d21",
        "colab": {
          "base_uri": "https://localhost:8080/",
          "height": 34
        }
      },
      "source": [
        "# Looks like we have no null values\n",
        "# Length of the dataframe\n",
        "len(pydf)"
      ],
      "execution_count": 134,
      "outputs": [
        {
          "output_type": "execute_result",
          "data": {
            "text/plain": [
              "457461"
            ]
          },
          "metadata": {
            "tags": []
          },
          "execution_count": 134
        }
      ]
    },
    {
      "cell_type": "code",
      "metadata": {
        "id": "Gzjcg__kEOdu",
        "colab_type": "code",
        "outputId": "ba4a0afe-1501-4d3e-9d6b-e33aff71cbbb",
        "colab": {
          "base_uri": "https://localhost:8080/",
          "height": 221
        }
      },
      "source": [
        "# So we have 0.45M samples, we will increase our dataset if we need to by exploring more repos.\n",
        "unique_repo_name_series = pydf.repo.drop_duplicates()\n",
        "unique_repo_name_series"
      ],
      "execution_count": 135,
      "outputs": [
        {
          "output_type": "execute_result",
          "data": {
            "text/plain": [
              "0                       soimort/you-get\n",
              "52                       apache/airflow\n",
              "849                      pytorch/vision\n",
              "900                      asciimoo/searx\n",
              "910              tensorflow/probability\n",
              "                      ...              \n",
              "23018           praekelt/python-ambient\n",
              "23024                   zenreach/py-era\n",
              "23090    TakesxiSximada/custom_settings\n",
              "23095              openpermissions/bass\n",
              "23099                 xnuinside/clifier\n",
              "Name: repo, Length: 13590, dtype: object"
            ]
          },
          "metadata": {
            "tags": []
          },
          "execution_count": 135
        }
      ]
    },
    {
      "cell_type": "code",
      "metadata": {
        "id": "iQLau5TCY3-F",
        "colab_type": "code",
        "outputId": "3166f237-1e62-45e9-8825-cc73f583e3bd",
        "colab": {
          "base_uri": "https://localhost:8080/",
          "height": 34
        }
      },
      "source": [
        "# Uploaded the downloaded file to the gdrive, checking if the system recognizes it\n",
        "!ls \"/content/drive/My Drive/data\""
      ],
      "execution_count": 136,
      "outputs": [
        {
          "output_type": "stream",
          "text": [
            "codesearchnet_python.zip  repository_star_info.json\n"
          ],
          "name": "stdout"
        }
      ]
    },
    {
      "cell_type": "code",
      "metadata": {
        "id": "YsLkeqmdZNez",
        "colab_type": "code",
        "outputId": "b8676c70-c3f5-4a29-9d64-9ebb86af2ecf",
        "colab": {
          "base_uri": "https://localhost:8080/",
          "height": 986
        }
      },
      "source": [
        "# Reading the json from the file\n",
        "with open('/content/drive/My Drive/data/repository_star_info.json') as json_file:\n",
        "  repository_metadata_info = json.load(json_file)\n",
        "repository_metadata_info"
      ],
      "execution_count": 137,
      "outputs": [
        {
          "output_type": "execute_result",
          "data": {
            "text/plain": [
              "{'3DLIRIOUS/MeshLabXML': 117,\n",
              " 'Azure/azure-sdk-for-python': 909,\n",
              " 'CITGuru/PyInquirer': 561,\n",
              " 'Danielhiversen/PyXiaomiGateway': 102,\n",
              " 'Microsoft/botbuilder-python': 265,\n",
              " 'Nekmo/amazon-dash': 567,\n",
              " 'PyCQA/pylint': 2417,\n",
              " 'Qiskit/qiskit-terra': 2634,\n",
              " 'SectorLabs/django-postgres-extra': 254,\n",
              " 'Tivix/django-rest-auth': 1848,\n",
              " 'alpacahq/alpaca-trade-api-python': 224,\n",
              " 'ansible/ansible-lint': 1859,\n",
              " 'apache/airflow': 14535,\n",
              " 'asciimoo/searx': 5598,\n",
              " 'bloomreach/s4cmd': 929,\n",
              " 'bluedisk/hangul-toolkit': 154,\n",
              " 'celiao/tmdbsimple': 250,\n",
              " 'chaoss/grimoirelab-perceval': 140,\n",
              " 'dagster-io/dagster': 983,\n",
              " 'deepmipt/DeepPavlov': 3668,\n",
              " 'ekzhu/datasketch': 1087,\n",
              " 'geopython/OWSLib': 187,\n",
              " 'google/brotli': 7916,\n",
              " 'google/gin-config': 581,\n",
              " 'graphql-python/graphene-sqlalchemy': 603,\n",
              " 'h2oai/h2o-3': 4434,\n",
              " 'howie6879/ruia': 1028,\n",
              " 'instagrambot/instabot': 2705,\n",
              " 'intel-analytics/BigDL': 3182,\n",
              " 'kennethreitz/twitter-scraper': 1886,\n",
              " 'lensacom/sparkit-learn': 989,\n",
              " 'lepture/flask-oauthlib': 1384,\n",
              " 'librosa/librosa': 3115,\n",
              " 'maxcountryman/flask-uploads': 144,\n",
              " 'mopidy/mopidy-spotify': 626,\n",
              " 'mordred-descriptor/mordred': 75,\n",
              " 'mozilla-iot/webthing-python': 127,\n",
              " 'nesdis/djongo': 713,\n",
              " 'nvdv/vprof': 3545,\n",
              " 'open-mmlab/mmcv': 1172,\n",
              " 'pltrdy/rouge': 208,\n",
              " 'pyca/pyopenssl': 626,\n",
              " 'pydanny/cookiecutter-django': 6003,\n",
              " 'python/performance': 289,\n",
              " 'pytorch/vision': 4840,\n",
              " 'ralphbean/bugwarrior': 444,\n",
              " 'rollbar/pyrollbar': 158,\n",
              " 'rsennrich/Bleualign': 146,\n",
              " 'savoirfairelinux/num2words': 302,\n",
              " 'scrapinghub/dateparser': 1331,\n",
              " 'soimort/you-get': 27926,\n",
              " 'streamlink/streamlink': 3985,\n",
              " 'tensorflow/probability': 2543,\n",
              " 'vaexio/vaex': 1722,\n",
              " 'williamFalcon/test-tube': 511,\n",
              " 'yandex/yandex-tank': 1780,\n",
              " 'zqfang/GSEApy': 123}"
            ]
          },
          "metadata": {
            "tags": []
          },
          "execution_count": 137
        }
      ]
    },
    {
      "cell_type": "code",
      "metadata": {
        "id": "0z1Um4IST6F3",
        "colab_type": "code",
        "outputId": "c48b3e34-3264-4a17-f93d-82b7634994f8",
        "colab": {
          "base_uri": "https://localhost:8080/",
          "height": 193
        }
      },
      "source": [
        "# Append a column in the pydf dataframe called star that contains the star information we have discovered so far\n",
        "pydf.head(3)"
      ],
      "execution_count": 138,
      "outputs": [
        {
          "output_type": "execute_result",
          "data": {
            "text/html": [
              "<div>\n",
              "<style scoped>\n",
              "    .dataframe tbody tr th:only-of-type {\n",
              "        vertical-align: middle;\n",
              "    }\n",
              "\n",
              "    .dataframe tbody tr th {\n",
              "        vertical-align: top;\n",
              "    }\n",
              "\n",
              "    .dataframe thead th {\n",
              "        text-align: right;\n",
              "    }\n",
              "</style>\n",
              "<table border=\"1\" class=\"dataframe\">\n",
              "  <thead>\n",
              "    <tr style=\"text-align: right;\">\n",
              "      <th></th>\n",
              "      <th>repo</th>\n",
              "      <th>path</th>\n",
              "      <th>url</th>\n",
              "      <th>func_name</th>\n",
              "      <th>code</th>\n",
              "      <th>code_tokens</th>\n",
              "      <th>docstring</th>\n",
              "      <th>docstring_tokens</th>\n",
              "    </tr>\n",
              "  </thead>\n",
              "  <tbody>\n",
              "    <tr>\n",
              "      <th>0</th>\n",
              "      <td>soimort/you-get</td>\n",
              "      <td>src/you_get/extractors/youtube.py</td>\n",
              "      <td>https://github.com/soimort/you-get/blob/b746ac...</td>\n",
              "      <td>YouTube.get_vid_from_url</td>\n",
              "      <td>def get_vid_from_url(url):\\n        \"\"\"Extract...</td>\n",
              "      <td>[def, get_vid_from_url, (, url, ), :, return, ...</td>\n",
              "      <td>Extracts video ID from URL.</td>\n",
              "      <td>[Extracts, video, ID, from, URL, .]</td>\n",
              "    </tr>\n",
              "    <tr>\n",
              "      <th>1</th>\n",
              "      <td>soimort/you-get</td>\n",
              "      <td>src/you_get/extractors/miomio.py</td>\n",
              "      <td>https://github.com/soimort/you-get/blob/b746ac...</td>\n",
              "      <td>sina_xml_to_url_list</td>\n",
              "      <td>def sina_xml_to_url_list(xml_data):\\n    \"\"\"st...</td>\n",
              "      <td>[def, sina_xml_to_url_list, (, xml_data, ), :,...</td>\n",
              "      <td>str-&gt;list\\n    Convert XML to URL List.\\n    F...</td>\n",
              "      <td>[str, -, &gt;, list, Convert, XML, to, URL, List,...</td>\n",
              "    </tr>\n",
              "    <tr>\n",
              "      <th>2</th>\n",
              "      <td>soimort/you-get</td>\n",
              "      <td>src/you_get/extractors/fc2video.py</td>\n",
              "      <td>https://github.com/soimort/you-get/blob/b746ac...</td>\n",
              "      <td>makeMimi</td>\n",
              "      <td>def makeMimi(upid):\\n    \"\"\"From http://cdn37....</td>\n",
              "      <td>[def, makeMimi, (, upid, ), :, strSeed, =, \"gG...</td>\n",
              "      <td>From http://cdn37.atwikiimg.com/sitescript/pub...</td>\n",
              "      <td>[From, http, :, //, cdn37, ., atwikiimg, ., co...</td>\n",
              "    </tr>\n",
              "  </tbody>\n",
              "</table>\n",
              "</div>"
            ],
            "text/plain": [
              "              repo  ...                                   docstring_tokens\n",
              "0  soimort/you-get  ...                [Extracts, video, ID, from, URL, .]\n",
              "1  soimort/you-get  ...  [str, -, >, list, Convert, XML, to, URL, List,...\n",
              "2  soimort/you-get  ...  [From, http, :, //, cdn37, ., atwikiimg, ., co...\n",
              "\n",
              "[3 rows x 8 columns]"
            ]
          },
          "metadata": {
            "tags": []
          },
          "execution_count": 138
        }
      ]
    },
    {
      "cell_type": "code",
      "metadata": {
        "id": "eR_SBgnzVXO7",
        "colab_type": "code",
        "outputId": "83975f14-fe7a-46f1-fb38-b77d7ce46115",
        "colab": {
          "base_uri": "https://localhost:8080/",
          "height": 745
        }
      },
      "source": [
        "pydf_with_star = pydf\n",
        "pydf_with_star['star'] = \"\"\n",
        "for index, row in pydf_with_star.iterrows():\n",
        "  if row['repo'] in repository_metadata_info:\n",
        "    row['star'] = repository_metadata_info[row['repo']]\n",
        "pydf_with_star"
      ],
      "execution_count": 139,
      "outputs": [
        {
          "output_type": "execute_result",
          "data": {
            "text/html": [
              "<div>\n",
              "<style scoped>\n",
              "    .dataframe tbody tr th:only-of-type {\n",
              "        vertical-align: middle;\n",
              "    }\n",
              "\n",
              "    .dataframe tbody tr th {\n",
              "        vertical-align: top;\n",
              "    }\n",
              "\n",
              "    .dataframe thead th {\n",
              "        text-align: right;\n",
              "    }\n",
              "</style>\n",
              "<table border=\"1\" class=\"dataframe\">\n",
              "  <thead>\n",
              "    <tr style=\"text-align: right;\">\n",
              "      <th></th>\n",
              "      <th>repo</th>\n",
              "      <th>path</th>\n",
              "      <th>url</th>\n",
              "      <th>func_name</th>\n",
              "      <th>code</th>\n",
              "      <th>code_tokens</th>\n",
              "      <th>docstring</th>\n",
              "      <th>docstring_tokens</th>\n",
              "      <th>star</th>\n",
              "    </tr>\n",
              "  </thead>\n",
              "  <tbody>\n",
              "    <tr>\n",
              "      <th>0</th>\n",
              "      <td>soimort/you-get</td>\n",
              "      <td>src/you_get/extractors/youtube.py</td>\n",
              "      <td>https://github.com/soimort/you-get/blob/b746ac...</td>\n",
              "      <td>YouTube.get_vid_from_url</td>\n",
              "      <td>def get_vid_from_url(url):\\n        \"\"\"Extract...</td>\n",
              "      <td>[def, get_vid_from_url, (, url, ), :, return, ...</td>\n",
              "      <td>Extracts video ID from URL.</td>\n",
              "      <td>[Extracts, video, ID, from, URL, .]</td>\n",
              "      <td>27926</td>\n",
              "    </tr>\n",
              "    <tr>\n",
              "      <th>1</th>\n",
              "      <td>soimort/you-get</td>\n",
              "      <td>src/you_get/extractors/miomio.py</td>\n",
              "      <td>https://github.com/soimort/you-get/blob/b746ac...</td>\n",
              "      <td>sina_xml_to_url_list</td>\n",
              "      <td>def sina_xml_to_url_list(xml_data):\\n    \"\"\"st...</td>\n",
              "      <td>[def, sina_xml_to_url_list, (, xml_data, ), :,...</td>\n",
              "      <td>str-&gt;list\\n    Convert XML to URL List.\\n    F...</td>\n",
              "      <td>[str, -, &gt;, list, Convert, XML, to, URL, List,...</td>\n",
              "      <td>27926</td>\n",
              "    </tr>\n",
              "    <tr>\n",
              "      <th>2</th>\n",
              "      <td>soimort/you-get</td>\n",
              "      <td>src/you_get/extractors/fc2video.py</td>\n",
              "      <td>https://github.com/soimort/you-get/blob/b746ac...</td>\n",
              "      <td>makeMimi</td>\n",
              "      <td>def makeMimi(upid):\\n    \"\"\"From http://cdn37....</td>\n",
              "      <td>[def, makeMimi, (, upid, ), :, strSeed, =, \"gG...</td>\n",
              "      <td>From http://cdn37.atwikiimg.com/sitescript/pub...</td>\n",
              "      <td>[From, http, :, //, cdn37, ., atwikiimg, ., co...</td>\n",
              "      <td>27926</td>\n",
              "    </tr>\n",
              "    <tr>\n",
              "      <th>3</th>\n",
              "      <td>soimort/you-get</td>\n",
              "      <td>src/you_get/extractors/fc2video.py</td>\n",
              "      <td>https://github.com/soimort/you-get/blob/b746ac...</td>\n",
              "      <td>fc2video_download</td>\n",
              "      <td>def fc2video_download(url, output_dir = '.', m...</td>\n",
              "      <td>[def, fc2video_download, (, url, ,, output_dir...</td>\n",
              "      <td>wrapper</td>\n",
              "      <td>[wrapper]</td>\n",
              "      <td>27926</td>\n",
              "    </tr>\n",
              "    <tr>\n",
              "      <th>4</th>\n",
              "      <td>soimort/you-get</td>\n",
              "      <td>src/you_get/extractors/dailymotion.py</td>\n",
              "      <td>https://github.com/soimort/you-get/blob/b746ac...</td>\n",
              "      <td>dailymotion_download</td>\n",
              "      <td>def dailymotion_download(url, output_dir='.', ...</td>\n",
              "      <td>[def, dailymotion_download, (, url, ,, output_...</td>\n",
              "      <td>Downloads Dailymotion videos by URL.</td>\n",
              "      <td>[Downloads, Dailymotion, videos, by, URL, .]</td>\n",
              "      <td>27926</td>\n",
              "    </tr>\n",
              "    <tr>\n",
              "      <th>...</th>\n",
              "      <td>...</td>\n",
              "      <td>...</td>\n",
              "      <td>...</td>\n",
              "      <td>...</td>\n",
              "      <td>...</td>\n",
              "      <td>...</td>\n",
              "      <td>...</td>\n",
              "      <td>...</td>\n",
              "      <td>...</td>\n",
              "    </tr>\n",
              "    <tr>\n",
              "      <th>23102</th>\n",
              "      <td>xnuinside/clifier</td>\n",
              "      <td>clifier/clifier.py</td>\n",
              "      <td>https://github.com/xnuinside/clifier/blob/3d70...</td>\n",
              "      <td>Clifier.show_version</td>\n",
              "      <td>def show_version(self):\\n        \"\"\" custom co...</td>\n",
              "      <td>[def, show_version, (, self, ), :, class, Show...</td>\n",
              "      <td>custom command line  action to show version</td>\n",
              "      <td>[custom, command, line, action, to, show, vers...</td>\n",
              "      <td></td>\n",
              "    </tr>\n",
              "    <tr>\n",
              "      <th>23103</th>\n",
              "      <td>xnuinside/clifier</td>\n",
              "      <td>clifier/clifier.py</td>\n",
              "      <td>https://github.com/xnuinside/clifier/blob/3d70...</td>\n",
              "      <td>Clifier.check_path_action</td>\n",
              "      <td>def check_path_action(self):\\n        \"\"\" cust...</td>\n",
              "      <td>[def, check_path_action, (, self, ), :, class,...</td>\n",
              "      <td>custom command line action to check file exist</td>\n",
              "      <td>[custom, command, line, action, to, check, fil...</td>\n",
              "      <td></td>\n",
              "    </tr>\n",
              "    <tr>\n",
              "      <th>23104</th>\n",
              "      <td>tklovett/PyShirtsIO</td>\n",
              "      <td>interactive_console.py</td>\n",
              "      <td>https://github.com/tklovett/PyShirtsIO/blob/ff...</td>\n",
              "      <td>new_user</td>\n",
              "      <td>def new_user(yaml_path):\\n    '''\\n    Return ...</td>\n",
              "      <td>[def, new_user, (, yaml_path, ), :, print, 'Re...</td>\n",
              "      <td>Return the consumer and oauth tokens with thre...</td>\n",
              "      <td>[Return, the, consumer, and, oauth, tokens, wi...</td>\n",
              "      <td></td>\n",
              "    </tr>\n",
              "    <tr>\n",
              "      <th>23105</th>\n",
              "      <td>ibelie/typy</td>\n",
              "      <td>typy/google/protobuf/internal/python_message.py</td>\n",
              "      <td>https://github.com/ibelie/typy/blob/3616845fb9...</td>\n",
              "      <td>_AddPropertiesForExtensions</td>\n",
              "      <td>def _AddPropertiesForExtensions(descriptor, cl...</td>\n",
              "      <td>[def, _AddPropertiesForExtensions, (, descript...</td>\n",
              "      <td>Adds properties for all fields in this protoco...</td>\n",
              "      <td>[Adds, properties, for, all, fields, in, this,...</td>\n",
              "      <td></td>\n",
              "    </tr>\n",
              "    <tr>\n",
              "      <th>23106</th>\n",
              "      <td>ibelie/typy</td>\n",
              "      <td>typy/google/protobuf/internal/python_message.py</td>\n",
              "      <td>https://github.com/ibelie/typy/blob/3616845fb9...</td>\n",
              "      <td>_InternalUnpackAny</td>\n",
              "      <td>def _InternalUnpackAny(msg):\\n  \"\"\"Unpacks Any...</td>\n",
              "      <td>[def, _InternalUnpackAny, (, msg, ), :, type_u...</td>\n",
              "      <td>Unpacks Any message and returns the unpacked m...</td>\n",
              "      <td>[Unpacks, Any, message, and, returns, the, unp...</td>\n",
              "      <td></td>\n",
              "    </tr>\n",
              "  </tbody>\n",
              "</table>\n",
              "<p>457461 rows × 9 columns</p>\n",
              "</div>"
            ],
            "text/plain": [
              "                      repo  ...   star\n",
              "0          soimort/you-get  ...  27926\n",
              "1          soimort/you-get  ...  27926\n",
              "2          soimort/you-get  ...  27926\n",
              "3          soimort/you-get  ...  27926\n",
              "4          soimort/you-get  ...  27926\n",
              "...                    ...  ...    ...\n",
              "23102    xnuinside/clifier  ...       \n",
              "23103    xnuinside/clifier  ...       \n",
              "23104  tklovett/PyShirtsIO  ...       \n",
              "23105          ibelie/typy  ...       \n",
              "23106          ibelie/typy  ...       \n",
              "\n",
              "[457461 rows x 9 columns]"
            ]
          },
          "metadata": {
            "tags": []
          },
          "execution_count": 139
        }
      ]
    },
    {
      "cell_type": "code",
      "metadata": {
        "id": "ivGY7EXXWPnI",
        "colab_type": "code",
        "outputId": "f231ffcd-2261-4563-ab07-1d7d435ab8bb",
        "colab": {
          "base_uri": "https://localhost:8080/",
          "height": 606
        }
      },
      "source": [
        "# Lets sort on the stars to see what are the high ranked repos we have so far\n",
        "pydf_valid_star_df = pydf_with_star[pydf_with_star['star'] != '']\n",
        "pydf_valid_star_df"
      ],
      "execution_count": 140,
      "outputs": [
        {
          "output_type": "execute_result",
          "data": {
            "text/html": [
              "<div>\n",
              "<style scoped>\n",
              "    .dataframe tbody tr th:only-of-type {\n",
              "        vertical-align: middle;\n",
              "    }\n",
              "\n",
              "    .dataframe tbody tr th {\n",
              "        vertical-align: top;\n",
              "    }\n",
              "\n",
              "    .dataframe thead th {\n",
              "        text-align: right;\n",
              "    }\n",
              "</style>\n",
              "<table border=\"1\" class=\"dataframe\">\n",
              "  <thead>\n",
              "    <tr style=\"text-align: right;\">\n",
              "      <th></th>\n",
              "      <th>repo</th>\n",
              "      <th>path</th>\n",
              "      <th>url</th>\n",
              "      <th>func_name</th>\n",
              "      <th>code</th>\n",
              "      <th>code_tokens</th>\n",
              "      <th>docstring</th>\n",
              "      <th>docstring_tokens</th>\n",
              "      <th>star</th>\n",
              "    </tr>\n",
              "  </thead>\n",
              "  <tbody>\n",
              "    <tr>\n",
              "      <th>0</th>\n",
              "      <td>soimort/you-get</td>\n",
              "      <td>src/you_get/extractors/youtube.py</td>\n",
              "      <td>https://github.com/soimort/you-get/blob/b746ac...</td>\n",
              "      <td>YouTube.get_vid_from_url</td>\n",
              "      <td>def get_vid_from_url(url):\\n        \"\"\"Extract...</td>\n",
              "      <td>[def, get_vid_from_url, (, url, ), :, return, ...</td>\n",
              "      <td>Extracts video ID from URL.</td>\n",
              "      <td>[Extracts, video, ID, from, URL, .]</td>\n",
              "      <td>27926</td>\n",
              "    </tr>\n",
              "    <tr>\n",
              "      <th>1</th>\n",
              "      <td>soimort/you-get</td>\n",
              "      <td>src/you_get/extractors/miomio.py</td>\n",
              "      <td>https://github.com/soimort/you-get/blob/b746ac...</td>\n",
              "      <td>sina_xml_to_url_list</td>\n",
              "      <td>def sina_xml_to_url_list(xml_data):\\n    \"\"\"st...</td>\n",
              "      <td>[def, sina_xml_to_url_list, (, xml_data, ), :,...</td>\n",
              "      <td>str-&gt;list\\n    Convert XML to URL List.\\n    F...</td>\n",
              "      <td>[str, -, &gt;, list, Convert, XML, to, URL, List,...</td>\n",
              "      <td>27926</td>\n",
              "    </tr>\n",
              "    <tr>\n",
              "      <th>2</th>\n",
              "      <td>soimort/you-get</td>\n",
              "      <td>src/you_get/extractors/fc2video.py</td>\n",
              "      <td>https://github.com/soimort/you-get/blob/b746ac...</td>\n",
              "      <td>makeMimi</td>\n",
              "      <td>def makeMimi(upid):\\n    \"\"\"From http://cdn37....</td>\n",
              "      <td>[def, makeMimi, (, upid, ), :, strSeed, =, \"gG...</td>\n",
              "      <td>From http://cdn37.atwikiimg.com/sitescript/pub...</td>\n",
              "      <td>[From, http, :, //, cdn37, ., atwikiimg, ., co...</td>\n",
              "      <td>27926</td>\n",
              "    </tr>\n",
              "    <tr>\n",
              "      <th>3</th>\n",
              "      <td>soimort/you-get</td>\n",
              "      <td>src/you_get/extractors/fc2video.py</td>\n",
              "      <td>https://github.com/soimort/you-get/blob/b746ac...</td>\n",
              "      <td>fc2video_download</td>\n",
              "      <td>def fc2video_download(url, output_dir = '.', m...</td>\n",
              "      <td>[def, fc2video_download, (, url, ,, output_dir...</td>\n",
              "      <td>wrapper</td>\n",
              "      <td>[wrapper]</td>\n",
              "      <td>27926</td>\n",
              "    </tr>\n",
              "    <tr>\n",
              "      <th>4</th>\n",
              "      <td>soimort/you-get</td>\n",
              "      <td>src/you_get/extractors/dailymotion.py</td>\n",
              "      <td>https://github.com/soimort/you-get/blob/b746ac...</td>\n",
              "      <td>dailymotion_download</td>\n",
              "      <td>def dailymotion_download(url, output_dir='.', ...</td>\n",
              "      <td>[def, dailymotion_download, (, url, ,, output_...</td>\n",
              "      <td>Downloads Dailymotion videos by URL.</td>\n",
              "      <td>[Downloads, Dailymotion, videos, by, URL, .]</td>\n",
              "      <td>27926</td>\n",
              "    </tr>\n",
              "    <tr>\n",
              "      <th>...</th>\n",
              "      <td>...</td>\n",
              "      <td>...</td>\n",
              "      <td>...</td>\n",
              "      <td>...</td>\n",
              "      <td>...</td>\n",
              "      <td>...</td>\n",
              "      <td>...</td>\n",
              "      <td>...</td>\n",
              "      <td>...</td>\n",
              "    </tr>\n",
              "    <tr>\n",
              "      <th>6547</th>\n",
              "      <td>Nekmo/amazon-dash</td>\n",
              "      <td>amazon_dash/listener.py</td>\n",
              "      <td>https://github.com/Nekmo/amazon-dash/blob/0e2b...</td>\n",
              "      <td>Device.send_confirmation</td>\n",
              "      <td>def send_confirmation(self, message, success=T...</td>\n",
              "      <td>[def, send_confirmation, (, self, ,, message, ...</td>\n",
              "      <td>Send success or error message to configured co...</td>\n",
              "      <td>[Send, success, or, error, message, to, config...</td>\n",
              "      <td>567</td>\n",
              "    </tr>\n",
              "    <tr>\n",
              "      <th>6548</th>\n",
              "      <td>Nekmo/amazon-dash</td>\n",
              "      <td>amazon_dash/listener.py</td>\n",
              "      <td>https://github.com/Nekmo/amazon-dash/blob/0e2b...</td>\n",
              "      <td>Listener.on_push</td>\n",
              "      <td>def on_push(self, device):\\n        \"\"\"Press b...</td>\n",
              "      <td>[def, on_push, (, self, ,, device, ), :, src, ...</td>\n",
              "      <td>Press button. Check DEFAULT_DELAY.\\n\\n        ...</td>\n",
              "      <td>[Press, button, ., Check, DEFAULT_DELAY, .]</td>\n",
              "      <td>567</td>\n",
              "    </tr>\n",
              "    <tr>\n",
              "      <th>6549</th>\n",
              "      <td>Nekmo/amazon-dash</td>\n",
              "      <td>amazon_dash/listener.py</td>\n",
              "      <td>https://github.com/Nekmo/amazon-dash/blob/0e2b...</td>\n",
              "      <td>Listener.execute</td>\n",
              "      <td>def execute(self, device):\\n        \"\"\"Execute...</td>\n",
              "      <td>[def, execute, (, self, ,, device, ), :, src, ...</td>\n",
              "      <td>Execute a device. Used if the time between exe...</td>\n",
              "      <td>[Execute, a, device, ., Used, if, the, time, b...</td>\n",
              "      <td>567</td>\n",
              "    </tr>\n",
              "    <tr>\n",
              "      <th>6550</th>\n",
              "      <td>Nekmo/amazon-dash</td>\n",
              "      <td>amazon_dash/listener.py</td>\n",
              "      <td>https://github.com/Nekmo/amazon-dash/blob/0e2b...</td>\n",
              "      <td>Listener.run</td>\n",
              "      <td>def run(self, root_allowed=False):\\n        \"\"...</td>\n",
              "      <td>[def, run, (, self, ,, root_allowed, =, False,...</td>\n",
              "      <td>Start daemon mode\\n\\n        :param bool root_...</td>\n",
              "      <td>[Start, daemon, mode]</td>\n",
              "      <td>567</td>\n",
              "    </tr>\n",
              "    <tr>\n",
              "      <th>6551</th>\n",
              "      <td>Nekmo/amazon-dash</td>\n",
              "      <td>amazon_dash/scan.py</td>\n",
              "      <td>https://github.com/Nekmo/amazon-dash/blob/0e2b...</td>\n",
              "      <td>scan_devices</td>\n",
              "      <td>def scan_devices(fn, lfilter, iface=None):\\n  ...</td>\n",
              "      <td>[def, scan_devices, (, fn, ,, lfilter, ,, ifac...</td>\n",
              "      <td>Sniff packages\\n\\n    :param fn: callback on p...</td>\n",
              "      <td>[Sniff, packages]</td>\n",
              "      <td>567</td>\n",
              "    </tr>\n",
              "  </tbody>\n",
              "</table>\n",
              "<p>6552 rows × 9 columns</p>\n",
              "</div>"
            ],
            "text/plain": [
              "                   repo  ...   star\n",
              "0       soimort/you-get  ...  27926\n",
              "1       soimort/you-get  ...  27926\n",
              "2       soimort/you-get  ...  27926\n",
              "3       soimort/you-get  ...  27926\n",
              "4       soimort/you-get  ...  27926\n",
              "...                 ...  ...    ...\n",
              "6547  Nekmo/amazon-dash  ...    567\n",
              "6548  Nekmo/amazon-dash  ...    567\n",
              "6549  Nekmo/amazon-dash  ...    567\n",
              "6550  Nekmo/amazon-dash  ...    567\n",
              "6551  Nekmo/amazon-dash  ...    567\n",
              "\n",
              "[6552 rows x 9 columns]"
            ]
          },
          "metadata": {
            "tags": []
          },
          "execution_count": 140
        }
      ]
    },
    {
      "cell_type": "code",
      "metadata": {
        "id": "ObuZEAKC8atO",
        "colab_type": "code",
        "outputId": "23ca6bcf-56c9-4297-a0fe-d70c2a1a7b33",
        "colab": {
          "base_uri": "https://localhost:8080/",
          "height": 34
        }
      },
      "source": [
        "pydf_valid_star_df['star'].max()"
      ],
      "execution_count": 141,
      "outputs": [
        {
          "output_type": "execute_result",
          "data": {
            "text/plain": [
              "27926"
            ]
          },
          "metadata": {
            "tags": []
          },
          "execution_count": 141
        }
      ]
    },
    {
      "cell_type": "code",
      "metadata": {
        "id": "vGF3PpPu88JV",
        "colab_type": "code",
        "outputId": "f74d185b-0635-428d-d134-4f719d28d217",
        "colab": {
          "base_uri": "https://localhost:8080/",
          "height": 34
        }
      },
      "source": [
        "pydf_valid_star_df['star'].min()"
      ],
      "execution_count": 142,
      "outputs": [
        {
          "output_type": "execute_result",
          "data": {
            "text/plain": [
              "75"
            ]
          },
          "metadata": {
            "tags": []
          },
          "execution_count": 142
        }
      ]
    },
    {
      "cell_type": "code",
      "metadata": {
        "id": "2oQWjKu99jNf",
        "colab_type": "code",
        "outputId": "1932f73f-83a4-4485-8aca-aea9c0b8136c",
        "colab": {
          "base_uri": "https://localhost:8080/",
          "height": 1000
        }
      },
      "source": [
        "# For testing, choosing the top rated repository\n",
        "pydf_highest_star_df = pydf_valid_star_df[pydf_valid_star_df['star'] == pydf_valid_star_df['star'].max()]\n",
        "pydf_highest_star_df"
      ],
      "execution_count": 143,
      "outputs": [
        {
          "output_type": "execute_result",
          "data": {
            "text/html": [
              "<div>\n",
              "<style scoped>\n",
              "    .dataframe tbody tr th:only-of-type {\n",
              "        vertical-align: middle;\n",
              "    }\n",
              "\n",
              "    .dataframe tbody tr th {\n",
              "        vertical-align: top;\n",
              "    }\n",
              "\n",
              "    .dataframe thead th {\n",
              "        text-align: right;\n",
              "    }\n",
              "</style>\n",
              "<table border=\"1\" class=\"dataframe\">\n",
              "  <thead>\n",
              "    <tr style=\"text-align: right;\">\n",
              "      <th></th>\n",
              "      <th>repo</th>\n",
              "      <th>path</th>\n",
              "      <th>url</th>\n",
              "      <th>func_name</th>\n",
              "      <th>code</th>\n",
              "      <th>code_tokens</th>\n",
              "      <th>docstring</th>\n",
              "      <th>docstring_tokens</th>\n",
              "      <th>star</th>\n",
              "    </tr>\n",
              "  </thead>\n",
              "  <tbody>\n",
              "    <tr>\n",
              "      <th>0</th>\n",
              "      <td>soimort/you-get</td>\n",
              "      <td>src/you_get/extractors/youtube.py</td>\n",
              "      <td>https://github.com/soimort/you-get/blob/b746ac...</td>\n",
              "      <td>YouTube.get_vid_from_url</td>\n",
              "      <td>def get_vid_from_url(url):\\n        \"\"\"Extract...</td>\n",
              "      <td>[def, get_vid_from_url, (, url, ), :, return, ...</td>\n",
              "      <td>Extracts video ID from URL.</td>\n",
              "      <td>[Extracts, video, ID, from, URL, .]</td>\n",
              "      <td>27926</td>\n",
              "    </tr>\n",
              "    <tr>\n",
              "      <th>1</th>\n",
              "      <td>soimort/you-get</td>\n",
              "      <td>src/you_get/extractors/miomio.py</td>\n",
              "      <td>https://github.com/soimort/you-get/blob/b746ac...</td>\n",
              "      <td>sina_xml_to_url_list</td>\n",
              "      <td>def sina_xml_to_url_list(xml_data):\\n    \"\"\"st...</td>\n",
              "      <td>[def, sina_xml_to_url_list, (, xml_data, ), :,...</td>\n",
              "      <td>str-&gt;list\\n    Convert XML to URL List.\\n    F...</td>\n",
              "      <td>[str, -, &gt;, list, Convert, XML, to, URL, List,...</td>\n",
              "      <td>27926</td>\n",
              "    </tr>\n",
              "    <tr>\n",
              "      <th>2</th>\n",
              "      <td>soimort/you-get</td>\n",
              "      <td>src/you_get/extractors/fc2video.py</td>\n",
              "      <td>https://github.com/soimort/you-get/blob/b746ac...</td>\n",
              "      <td>makeMimi</td>\n",
              "      <td>def makeMimi(upid):\\n    \"\"\"From http://cdn37....</td>\n",
              "      <td>[def, makeMimi, (, upid, ), :, strSeed, =, \"gG...</td>\n",
              "      <td>From http://cdn37.atwikiimg.com/sitescript/pub...</td>\n",
              "      <td>[From, http, :, //, cdn37, ., atwikiimg, ., co...</td>\n",
              "      <td>27926</td>\n",
              "    </tr>\n",
              "    <tr>\n",
              "      <th>3</th>\n",
              "      <td>soimort/you-get</td>\n",
              "      <td>src/you_get/extractors/fc2video.py</td>\n",
              "      <td>https://github.com/soimort/you-get/blob/b746ac...</td>\n",
              "      <td>fc2video_download</td>\n",
              "      <td>def fc2video_download(url, output_dir = '.', m...</td>\n",
              "      <td>[def, fc2video_download, (, url, ,, output_dir...</td>\n",
              "      <td>wrapper</td>\n",
              "      <td>[wrapper]</td>\n",
              "      <td>27926</td>\n",
              "    </tr>\n",
              "    <tr>\n",
              "      <th>4</th>\n",
              "      <td>soimort/you-get</td>\n",
              "      <td>src/you_get/extractors/dailymotion.py</td>\n",
              "      <td>https://github.com/soimort/you-get/blob/b746ac...</td>\n",
              "      <td>dailymotion_download</td>\n",
              "      <td>def dailymotion_download(url, output_dir='.', ...</td>\n",
              "      <td>[def, dailymotion_download, (, url, ,, output_...</td>\n",
              "      <td>Downloads Dailymotion videos by URL.</td>\n",
              "      <td>[Downloads, Dailymotion, videos, by, URL, .]</td>\n",
              "      <td>27926</td>\n",
              "    </tr>\n",
              "    <tr>\n",
              "      <th>5</th>\n",
              "      <td>soimort/you-get</td>\n",
              "      <td>src/you_get/extractors/ucas.py</td>\n",
              "      <td>https://github.com/soimort/you-get/blob/b746ac...</td>\n",
              "      <td>dictify</td>\n",
              "      <td>def dictify(r,root=True):\\n    \"\"\"http://stack...</td>\n",
              "      <td>[def, dictify, (, r, ,, root, =, True, ), :, i...</td>\n",
              "      <td>http://stackoverflow.com/a/30923963/2946714</td>\n",
              "      <td>[http, :, //, stackoverflow, ., com, /, a, /, ...</td>\n",
              "      <td>27926</td>\n",
              "    </tr>\n",
              "    <tr>\n",
              "      <th>6</th>\n",
              "      <td>soimort/you-get</td>\n",
              "      <td>src/you_get/extractors/ucas.py</td>\n",
              "      <td>https://github.com/soimort/you-get/blob/b746ac...</td>\n",
              "      <td>ucas_download_single</td>\n",
              "      <td>def ucas_download_single(url, output_dir = '.'...</td>\n",
              "      <td>[def, ucas_download_single, (, url, ,, output_...</td>\n",
              "      <td>video page</td>\n",
              "      <td>[video, page]</td>\n",
              "      <td>27926</td>\n",
              "    </tr>\n",
              "    <tr>\n",
              "      <th>7</th>\n",
              "      <td>soimort/you-get</td>\n",
              "      <td>src/you_get/extractors/ucas.py</td>\n",
              "      <td>https://github.com/soimort/you-get/blob/b746ac...</td>\n",
              "      <td>ucas_download_playlist</td>\n",
              "      <td>def ucas_download_playlist(url, output_dir = '...</td>\n",
              "      <td>[def, ucas_download_playlist, (, url, ,, outpu...</td>\n",
              "      <td>course page</td>\n",
              "      <td>[course, page]</td>\n",
              "      <td>27926</td>\n",
              "    </tr>\n",
              "    <tr>\n",
              "      <th>8</th>\n",
              "      <td>soimort/you-get</td>\n",
              "      <td>src/you_get/extractors/sina.py</td>\n",
              "      <td>https://github.com/soimort/you-get/blob/b746ac...</td>\n",
              "      <td>sina_download_by_vid</td>\n",
              "      <td>def sina_download_by_vid(vid, title=None, outp...</td>\n",
              "      <td>[def, sina_download_by_vid, (, vid, ,, title, ...</td>\n",
              "      <td>Downloads a Sina video by its unique vid.\\n   ...</td>\n",
              "      <td>[Downloads, a, Sina, video, by, its, unique, v...</td>\n",
              "      <td>27926</td>\n",
              "    </tr>\n",
              "    <tr>\n",
              "      <th>9</th>\n",
              "      <td>soimort/you-get</td>\n",
              "      <td>src/you_get/extractors/sina.py</td>\n",
              "      <td>https://github.com/soimort/you-get/blob/b746ac...</td>\n",
              "      <td>sina_download_by_vkey</td>\n",
              "      <td>def sina_download_by_vkey(vkey, title=None, ou...</td>\n",
              "      <td>[def, sina_download_by_vkey, (, vkey, ,, title...</td>\n",
              "      <td>Downloads a Sina video by its unique vkey.\\n  ...</td>\n",
              "      <td>[Downloads, a, Sina, video, by, its, unique, v...</td>\n",
              "      <td>27926</td>\n",
              "    </tr>\n",
              "    <tr>\n",
              "      <th>10</th>\n",
              "      <td>soimort/you-get</td>\n",
              "      <td>src/you_get/extractors/sina.py</td>\n",
              "      <td>https://github.com/soimort/you-get/blob/b746ac...</td>\n",
              "      <td>sina_download</td>\n",
              "      <td>def sina_download(url, output_dir='.', merge=T...</td>\n",
              "      <td>[def, sina_download, (, url, ,, output_dir, =,...</td>\n",
              "      <td>Downloads Sina videos by URL.</td>\n",
              "      <td>[Downloads, Sina, videos, by, URL, .]</td>\n",
              "      <td>27926</td>\n",
              "    </tr>\n",
              "    <tr>\n",
              "      <th>11</th>\n",
              "      <td>soimort/you-get</td>\n",
              "      <td>src/you_get/extractors/yixia.py</td>\n",
              "      <td>https://github.com/soimort/you-get/blob/b746ac...</td>\n",
              "      <td>yixia_download</td>\n",
              "      <td>def yixia_download(url, output_dir = '.', merg...</td>\n",
              "      <td>[def, yixia_download, (, url, ,, output_dir, =...</td>\n",
              "      <td>wrapper</td>\n",
              "      <td>[wrapper]</td>\n",
              "      <td>27926</td>\n",
              "    </tr>\n",
              "    <tr>\n",
              "      <th>12</th>\n",
              "      <td>soimort/you-get</td>\n",
              "      <td>src/you_get/extractors/veoh.py</td>\n",
              "      <td>https://github.com/soimort/you-get/blob/b746ac...</td>\n",
              "      <td>veoh_download</td>\n",
              "      <td>def veoh_download(url, output_dir = '.', merge...</td>\n",
              "      <td>[def, veoh_download, (, url, ,, output_dir, =,...</td>\n",
              "      <td>Get item_id</td>\n",
              "      <td>[Get, item_id]</td>\n",
              "      <td>27926</td>\n",
              "    </tr>\n",
              "    <tr>\n",
              "      <th>13</th>\n",
              "      <td>soimort/you-get</td>\n",
              "      <td>src/you_get/extractors/veoh.py</td>\n",
              "      <td>https://github.com/soimort/you-get/blob/b746ac...</td>\n",
              "      <td>veoh_download_by_id</td>\n",
              "      <td>def veoh_download_by_id(item_id, output_dir = ...</td>\n",
              "      <td>[def, veoh_download_by_id, (, item_id, ,, outp...</td>\n",
              "      <td>Source: Android mobile</td>\n",
              "      <td>[Source, :, Android, mobile]</td>\n",
              "      <td>27926</td>\n",
              "    </tr>\n",
              "    <tr>\n",
              "      <th>14</th>\n",
              "      <td>soimort/you-get</td>\n",
              "      <td>src/you_get/extractors/bokecc.py</td>\n",
              "      <td>https://github.com/soimort/you-get/blob/b746ac...</td>\n",
              "      <td>BokeCC.download_by_id</td>\n",
              "      <td>def download_by_id(self, vid = '', title = Non...</td>\n",
              "      <td>[def, download_by_id, (, self, ,, vid, =, '', ...</td>\n",
              "      <td>self, str-&gt;None\\n        \\n        Keyword arg...</td>\n",
              "      <td>[self, str, -, &gt;, None, Keyword, arguments, :,...</td>\n",
              "      <td>27926</td>\n",
              "    </tr>\n",
              "    <tr>\n",
              "      <th>15</th>\n",
              "      <td>soimort/you-get</td>\n",
              "      <td>src/you_get/extractors/qie.py</td>\n",
              "      <td>https://github.com/soimort/you-get/blob/b746ac...</td>\n",
              "      <td>QiE.get_vid_from_url</td>\n",
              "      <td>def get_vid_from_url(self, url):\\n        \"\"\"E...</td>\n",
              "      <td>[def, get_vid_from_url, (, self, ,, url, ), :,...</td>\n",
              "      <td>Extracts video ID from live.qq.com.</td>\n",
              "      <td>[Extracts, video, ID, from, live, ., qq, ., co...</td>\n",
              "      <td>27926</td>\n",
              "    </tr>\n",
              "    <tr>\n",
              "      <th>16</th>\n",
              "      <td>soimort/you-get</td>\n",
              "      <td>src/you_get/util/log.py</td>\n",
              "      <td>https://github.com/soimort/you-get/blob/b746ac...</td>\n",
              "      <td>sprint</td>\n",
              "      <td>def sprint(text, *colors):\\n    \"\"\"Format text...</td>\n",
              "      <td>[def, sprint, (, text, ,, *, colors, ), :, ret...</td>\n",
              "      <td>Format text with color or other effects into A...</td>\n",
              "      <td>[Format, text, with, color, or, other, effects...</td>\n",
              "      <td>27926</td>\n",
              "    </tr>\n",
              "    <tr>\n",
              "      <th>17</th>\n",
              "      <td>soimort/you-get</td>\n",
              "      <td>src/you_get/util/log.py</td>\n",
              "      <td>https://github.com/soimort/you-get/blob/b746ac...</td>\n",
              "      <td>print_log</td>\n",
              "      <td>def print_log(text, *colors):\\n    \"\"\"Print a ...</td>\n",
              "      <td>[def, print_log, (, text, ,, *, colors, ), :, ...</td>\n",
              "      <td>Print a log message to standard error.</td>\n",
              "      <td>[Print, a, log, message, to, standard, error, .]</td>\n",
              "      <td>27926</td>\n",
              "    </tr>\n",
              "    <tr>\n",
              "      <th>18</th>\n",
              "      <td>soimort/you-get</td>\n",
              "      <td>src/you_get/util/log.py</td>\n",
              "      <td>https://github.com/soimort/you-get/blob/b746ac...</td>\n",
              "      <td>e</td>\n",
              "      <td>def e(message, exit_code=None):\\n    \"\"\"Print ...</td>\n",
              "      <td>[def, e, (, message, ,, exit_code, =, None, ),...</td>\n",
              "      <td>Print an error log message.</td>\n",
              "      <td>[Print, an, error, log, message, .]</td>\n",
              "      <td>27926</td>\n",
              "    </tr>\n",
              "    <tr>\n",
              "      <th>19</th>\n",
              "      <td>soimort/you-get</td>\n",
              "      <td>src/you_get/util/log.py</td>\n",
              "      <td>https://github.com/soimort/you-get/blob/b746ac...</td>\n",
              "      <td>wtf</td>\n",
              "      <td>def wtf(message, exit_code=1):\\n    \"\"\"What a ...</td>\n",
              "      <td>[def, wtf, (, message, ,, exit_code, =, 1, ), ...</td>\n",
              "      <td>What a Terrible Failure!</td>\n",
              "      <td>[What, a, Terrible, Failure!]</td>\n",
              "      <td>27926</td>\n",
              "    </tr>\n",
              "    <tr>\n",
              "      <th>20</th>\n",
              "      <td>soimort/you-get</td>\n",
              "      <td>src/you_get/util/os.py</td>\n",
              "      <td>https://github.com/soimort/you-get/blob/b746ac...</td>\n",
              "      <td>detect_os</td>\n",
              "      <td>def detect_os():\\n    \"\"\"Detect operating syst...</td>\n",
              "      <td>[def, detect_os, (, ), :, # Inspired by:, # ht...</td>\n",
              "      <td>Detect operating system.</td>\n",
              "      <td>[Detect, operating, system, .]</td>\n",
              "      <td>27926</td>\n",
              "    </tr>\n",
              "    <tr>\n",
              "      <th>21</th>\n",
              "      <td>soimort/you-get</td>\n",
              "      <td>src/you_get/extractors/miaopai.py</td>\n",
              "      <td>https://github.com/soimort/you-get/blob/b746ac...</td>\n",
              "      <td>miaopai_download_by_fid</td>\n",
              "      <td>def miaopai_download_by_fid(fid, output_dir = ...</td>\n",
              "      <td>[def, miaopai_download_by_fid, (, fid, ,, outp...</td>\n",
              "      <td>Source: Android mobile</td>\n",
              "      <td>[Source, :, Android, mobile]</td>\n",
              "      <td>27926</td>\n",
              "    </tr>\n",
              "    <tr>\n",
              "      <th>22</th>\n",
              "      <td>soimort/you-get</td>\n",
              "      <td>src/you_get/extractors/vimeo.py</td>\n",
              "      <td>https://github.com/soimort/you-get/blob/b746ac...</td>\n",
              "      <td>vimeo_download_by_channel</td>\n",
              "      <td>def vimeo_download_by_channel(url, output_dir=...</td>\n",
              "      <td>[def, vimeo_download_by_channel, (, url, ,, ou...</td>\n",
              "      <td>str-&gt;None</td>\n",
              "      <td>[str, -, &gt;, None]</td>\n",
              "      <td>27926</td>\n",
              "    </tr>\n",
              "    <tr>\n",
              "      <th>23</th>\n",
              "      <td>soimort/you-get</td>\n",
              "      <td>src/you_get/extractors/vimeo.py</td>\n",
              "      <td>https://github.com/soimort/you-get/blob/b746ac...</td>\n",
              "      <td>vimeo_download_by_channel_id</td>\n",
              "      <td>def vimeo_download_by_channel_id(channel_id, o...</td>\n",
              "      <td>[def, vimeo_download_by_channel_id, (, channel...</td>\n",
              "      <td>str/int-&gt;None</td>\n",
              "      <td>[str, /, int, -, &gt;, None]</td>\n",
              "      <td>27926</td>\n",
              "    </tr>\n",
              "    <tr>\n",
              "      <th>24</th>\n",
              "      <td>soimort/you-get</td>\n",
              "      <td>src/you_get/extractors/vimeo.py</td>\n",
              "      <td>https://github.com/soimort/you-get/blob/b746ac...</td>\n",
              "      <td>vimeo_download_by_id</td>\n",
              "      <td>def vimeo_download_by_id(id, title=None, outpu...</td>\n",
              "      <td>[def, vimeo_download_by_id, (, id, ,, title, =...</td>\n",
              "      <td>try:\\n        # normal Vimeo video\\n        ht...</td>\n",
              "      <td>[try, :, #, normal, Vimeo, video, html, =, get...</td>\n",
              "      <td>27926</td>\n",
              "    </tr>\n",
              "    <tr>\n",
              "      <th>25</th>\n",
              "      <td>soimort/you-get</td>\n",
              "      <td>src/you_get/extractors/ckplayer.py</td>\n",
              "      <td>https://github.com/soimort/you-get/blob/b746ac...</td>\n",
              "      <td>ckplayer_get_info_by_xml</td>\n",
              "      <td>def ckplayer_get_info_by_xml(ckinfo):\\n    \"\"\"...</td>\n",
              "      <td>[def, ckplayer_get_info_by_xml, (, ckinfo, ), ...</td>\n",
              "      <td>str-&gt;dict\\n    Information for CKPlayer API co...</td>\n",
              "      <td>[str, -, &gt;, dict, Information, for, CKPlayer, ...</td>\n",
              "      <td>27926</td>\n",
              "    </tr>\n",
              "    <tr>\n",
              "      <th>26</th>\n",
              "      <td>soimort/you-get</td>\n",
              "      <td>src/you_get/extractors/ixigua.py</td>\n",
              "      <td>https://github.com/soimort/you-get/blob/b746ac...</td>\n",
              "      <td>get_video_url_from_video_id</td>\n",
              "      <td>def get_video_url_from_video_id(video_id):\\n  ...</td>\n",
              "      <td>[def, get_video_url_from_video_id, (, video_id...</td>\n",
              "      <td>Splicing URLs according to video ID to get vid...</td>\n",
              "      <td>[Splicing, URLs, according, to, video, ID, to,...</td>\n",
              "      <td>27926</td>\n",
              "    </tr>\n",
              "    <tr>\n",
              "      <th>27</th>\n",
              "      <td>soimort/you-get</td>\n",
              "      <td>src/you_get/extractors/mgtv.py</td>\n",
              "      <td>https://github.com/soimort/you-get/blob/b746ac...</td>\n",
              "      <td>MGTV.get_vid_from_url</td>\n",
              "      <td>def get_vid_from_url(url):\\n        \"\"\"Extract...</td>\n",
              "      <td>[def, get_vid_from_url, (, url, ), :, vid, =, ...</td>\n",
              "      <td>Extracts video ID from URL.</td>\n",
              "      <td>[Extracts, video, ID, from, URL, .]</td>\n",
              "      <td>27926</td>\n",
              "    </tr>\n",
              "    <tr>\n",
              "      <th>28</th>\n",
              "      <td>soimort/you-get</td>\n",
              "      <td>src/you_get/extractors/mgtv.py</td>\n",
              "      <td>https://github.com/soimort/you-get/blob/b746ac...</td>\n",
              "      <td>MGTV.get_mgtv_real_url</td>\n",
              "      <td>def get_mgtv_real_url(url):\\n        \"\"\"str-&gt;l...</td>\n",
              "      <td>[def, get_mgtv_real_url, (, url, ), :, content...</td>\n",
              "      <td>str-&gt;list of str\\n        Give you the real URLs.</td>\n",
              "      <td>[str, -, &gt;, list, of, str, Give, you, the, rea...</td>\n",
              "      <td>27926</td>\n",
              "    </tr>\n",
              "    <tr>\n",
              "      <th>29</th>\n",
              "      <td>soimort/you-get</td>\n",
              "      <td>src/you_get/util/git.py</td>\n",
              "      <td>https://github.com/soimort/you-get/blob/b746ac...</td>\n",
              "      <td>get_head</td>\n",
              "      <td>def get_head(repo_path):\\n    \"\"\"Get (branch, ...</td>\n",
              "      <td>[def, get_head, (, repo_path, ), :, try, :, re...</td>\n",
              "      <td>Get (branch, commit) from HEAD of a git repo.</td>\n",
              "      <td>[Get, (, branch, commit, ), from, HEAD, of, a,...</td>\n",
              "      <td>27926</td>\n",
              "    </tr>\n",
              "    <tr>\n",
              "      <th>30</th>\n",
              "      <td>soimort/you-get</td>\n",
              "      <td>src/you_get/util/fs.py</td>\n",
              "      <td>https://github.com/soimort/you-get/blob/b746ac...</td>\n",
              "      <td>legitimize</td>\n",
              "      <td>def legitimize(text, os=detect_os()):\\n    \"\"\"...</td>\n",
              "      <td>[def, legitimize, (, text, ,, os, =, detect_os...</td>\n",
              "      <td>Converts a string to a valid filename.</td>\n",
              "      <td>[Converts, a, string, to, a, valid, filename, .]</td>\n",
              "      <td>27926</td>\n",
              "    </tr>\n",
              "    <tr>\n",
              "      <th>31</th>\n",
              "      <td>soimort/you-get</td>\n",
              "      <td>src/you_get/util/term.py</td>\n",
              "      <td>https://github.com/soimort/you-get/blob/b746ac...</td>\n",
              "      <td>get_terminal_size</td>\n",
              "      <td>def get_terminal_size():\\n    \"\"\"Get (width, h...</td>\n",
              "      <td>[def, get_terminal_size, (, ), :, try, :, impo...</td>\n",
              "      <td>Get (width, height) of the current terminal.</td>\n",
              "      <td>[Get, (, width, height, ), of, the, current, t...</td>\n",
              "      <td>27926</td>\n",
              "    </tr>\n",
              "    <tr>\n",
              "      <th>32</th>\n",
              "      <td>soimort/you-get</td>\n",
              "      <td>src/you_get/extractors/cbs.py</td>\n",
              "      <td>https://github.com/soimort/you-get/blob/b746ac...</td>\n",
              "      <td>cbs_download</td>\n",
              "      <td>def cbs_download(url, output_dir='.', merge=Tr...</td>\n",
              "      <td>[def, cbs_download, (, url, ,, output_dir, =, ...</td>\n",
              "      <td>Downloads CBS videos by URL.</td>\n",
              "      <td>[Downloads, CBS, videos, by, URL, .]</td>\n",
              "      <td>27926</td>\n",
              "    </tr>\n",
              "    <tr>\n",
              "      <th>33</th>\n",
              "      <td>soimort/you-get</td>\n",
              "      <td>src/you_get/extractors/iqiyi.py</td>\n",
              "      <td>https://github.com/soimort/you-get/blob/b746ac...</td>\n",
              "      <td>Iqiyi.download</td>\n",
              "      <td>def download(self, **kwargs):\\n        \"\"\"Over...</td>\n",
              "      <td>[def, download, (, self, ,, *, *, kwargs, ), :...</td>\n",
              "      <td>Override the original one\\n        Ugly ugly d...</td>\n",
              "      <td>[Override, the, original, one, Ugly, ugly, dir...</td>\n",
              "      <td>27926</td>\n",
              "    </tr>\n",
              "    <tr>\n",
              "      <th>34</th>\n",
              "      <td>soimort/you-get</td>\n",
              "      <td>src/you_get/extractors/acfun.py</td>\n",
              "      <td>https://github.com/soimort/you-get/blob/b746ac...</td>\n",
              "      <td>acfun_download_by_vid</td>\n",
              "      <td>def acfun_download_by_vid(vid, title, output_d...</td>\n",
              "      <td>[def, acfun_download_by_vid, (, vid, ,, title,...</td>\n",
              "      <td>str, str, str, bool, bool -&gt;None\\n\\n    Downlo...</td>\n",
              "      <td>[str, str, str, bool, bool, -, &gt;, None]</td>\n",
              "      <td>27926</td>\n",
              "    </tr>\n",
              "    <tr>\n",
              "      <th>35</th>\n",
              "      <td>soimort/you-get</td>\n",
              "      <td>src/you_get/__main__.py</td>\n",
              "      <td>https://github.com/soimort/you-get/blob/b746ac...</td>\n",
              "      <td>main_dev</td>\n",
              "      <td>def main_dev(**kwargs):\\n    \"\"\"Main entry poi...</td>\n",
              "      <td>[def, main_dev, (, *, *, kwargs, ), :, # Get (...</td>\n",
              "      <td>Main entry point.\\n    you-get-dev</td>\n",
              "      <td>[Main, entry, point, ., you, -, get, -, dev]</td>\n",
              "      <td>27926</td>\n",
              "    </tr>\n",
              "    <tr>\n",
              "      <th>36</th>\n",
              "      <td>soimort/you-get</td>\n",
              "      <td>src/you_get/processor/ffmpeg.py</td>\n",
              "      <td>https://github.com/soimort/you-get/blob/b746ac...</td>\n",
              "      <td>ffmpeg_download_stream</td>\n",
              "      <td>def ffmpeg_download_stream(files, title, ext, ...</td>\n",
              "      <td>[def, ffmpeg_download_stream, (, files, ,, tit...</td>\n",
              "      <td>str, str-&gt;True\\n    WARNING: NOT THE SAME PARM...</td>\n",
              "      <td>[str, str, -, &gt;, True, WARNING, :, NOT, THE, S...</td>\n",
              "      <td>27926</td>\n",
              "    </tr>\n",
              "    <tr>\n",
              "      <th>37</th>\n",
              "      <td>soimort/you-get</td>\n",
              "      <td>src/you_get/common.py</td>\n",
              "      <td>https://github.com/soimort/you-get/blob/b746ac...</td>\n",
              "      <td>match1</td>\n",
              "      <td>def match1(text, *patterns):\\n    \"\"\"Scans thr...</td>\n",
              "      <td>[def, match1, (, text, ,, *, patterns, ), :, i...</td>\n",
              "      <td>Scans through a string for substrings matched ...</td>\n",
              "      <td>[Scans, through, a, string, for, substrings, m...</td>\n",
              "      <td>27926</td>\n",
              "    </tr>\n",
              "    <tr>\n",
              "      <th>38</th>\n",
              "      <td>soimort/you-get</td>\n",
              "      <td>src/you_get/common.py</td>\n",
              "      <td>https://github.com/soimort/you-get/blob/b746ac...</td>\n",
              "      <td>matchall</td>\n",
              "      <td>def matchall(text, patterns):\\n    \"\"\"Scans th...</td>\n",
              "      <td>[def, matchall, (, text, ,, patterns, ), :, re...</td>\n",
              "      <td>Scans through a string for substrings matched ...</td>\n",
              "      <td>[Scans, through, a, string, for, substrings, m...</td>\n",
              "      <td>27926</td>\n",
              "    </tr>\n",
              "    <tr>\n",
              "      <th>39</th>\n",
              "      <td>soimort/you-get</td>\n",
              "      <td>src/you_get/common.py</td>\n",
              "      <td>https://github.com/soimort/you-get/blob/b746ac...</td>\n",
              "      <td>parse_query_param</td>\n",
              "      <td>def parse_query_param(url, param):\\n    \"\"\"Par...</td>\n",
              "      <td>[def, parse_query_param, (, url, ,, param, ), ...</td>\n",
              "      <td>Parses the query string of a URL and returns t...</td>\n",
              "      <td>[Parses, the, query, string, of, a, URL, and, ...</td>\n",
              "      <td>27926</td>\n",
              "    </tr>\n",
              "    <tr>\n",
              "      <th>40</th>\n",
              "      <td>soimort/you-get</td>\n",
              "      <td>src/you_get/common.py</td>\n",
              "      <td>https://github.com/soimort/you-get/blob/b746ac...</td>\n",
              "      <td>ungzip</td>\n",
              "      <td>def ungzip(data):\\n    \"\"\"Decompresses data fo...</td>\n",
              "      <td>[def, ungzip, (, data, ), :, from, io, import,...</td>\n",
              "      <td>Decompresses data for Content-Encoding: gzip.</td>\n",
              "      <td>[Decompresses, data, for, Content, -, Encoding...</td>\n",
              "      <td>27926</td>\n",
              "    </tr>\n",
              "    <tr>\n",
              "      <th>41</th>\n",
              "      <td>soimort/you-get</td>\n",
              "      <td>src/you_get/common.py</td>\n",
              "      <td>https://github.com/soimort/you-get/blob/b746ac...</td>\n",
              "      <td>undeflate</td>\n",
              "      <td>def undeflate(data):\\n    \"\"\"Decompresses data...</td>\n",
              "      <td>[def, undeflate, (, data, ), :, import, zlib, ...</td>\n",
              "      <td>Decompresses data for Content-Encoding: deflat...</td>\n",
              "      <td>[Decompresses, data, for, Content, -, Encoding...</td>\n",
              "      <td>27926</td>\n",
              "    </tr>\n",
              "    <tr>\n",
              "      <th>42</th>\n",
              "      <td>soimort/you-get</td>\n",
              "      <td>src/you_get/common.py</td>\n",
              "      <td>https://github.com/soimort/you-get/blob/b746ac...</td>\n",
              "      <td>get_content</td>\n",
              "      <td>def get_content(url, headers={}, decoded=True)...</td>\n",
              "      <td>[def, get_content, (, url, ,, headers, =, {, }...</td>\n",
              "      <td>Gets the content of a URL via sending a HTTP G...</td>\n",
              "      <td>[Gets, the, content, of, a, URL, via, sending,...</td>\n",
              "      <td>27926</td>\n",
              "    </tr>\n",
              "    <tr>\n",
              "      <th>43</th>\n",
              "      <td>soimort/you-get</td>\n",
              "      <td>src/you_get/common.py</td>\n",
              "      <td>https://github.com/soimort/you-get/blob/b746ac...</td>\n",
              "      <td>post_content</td>\n",
              "      <td>def post_content(url, headers={}, post_data={}...</td>\n",
              "      <td>[def, post_content, (, url, ,, headers, =, {, ...</td>\n",
              "      <td>Post the content of a URL via sending a HTTP P...</td>\n",
              "      <td>[Post, the, content, of, a, URL, via, sending,...</td>\n",
              "      <td>27926</td>\n",
              "    </tr>\n",
              "    <tr>\n",
              "      <th>44</th>\n",
              "      <td>soimort/you-get</td>\n",
              "      <td>src/you_get/common.py</td>\n",
              "      <td>https://github.com/soimort/you-get/blob/b746ac...</td>\n",
              "      <td>parse_host</td>\n",
              "      <td>def parse_host(host):\\n    \"\"\"Parses host name...</td>\n",
              "      <td>[def, parse_host, (, host, ), :, if, re, ., ma...</td>\n",
              "      <td>Parses host name and port number from a string.</td>\n",
              "      <td>[Parses, host, name, and, port, number, from, ...</td>\n",
              "      <td>27926</td>\n",
              "    </tr>\n",
              "    <tr>\n",
              "      <th>45</th>\n",
              "      <td>soimort/you-get</td>\n",
              "      <td>src/you_get/common.py</td>\n",
              "      <td>https://github.com/soimort/you-get/blob/b746ac...</td>\n",
              "      <td>print_more_compatible</td>\n",
              "      <td>def print_more_compatible(*args, **kwargs):\\n ...</td>\n",
              "      <td>[def, print_more_compatible, (, *, args, ,, *,...</td>\n",
              "      <td>Overload default print function as py (&lt;3.3) d...</td>\n",
              "      <td>[Overload, default, print, function, as, py, (...</td>\n",
              "      <td>27926</td>\n",
              "    </tr>\n",
              "    <tr>\n",
              "      <th>46</th>\n",
              "      <td>soimort/you-get</td>\n",
              "      <td>src/you_get/extractors/showroom.py</td>\n",
              "      <td>https://github.com/soimort/you-get/blob/b746ac...</td>\n",
              "      <td>showroom_get_roomid_by_room_url_key</td>\n",
              "      <td>def showroom_get_roomid_by_room_url_key(room_u...</td>\n",
              "      <td>[def, showroom_get_roomid_by_room_url_key, (, ...</td>\n",
              "      <td>str-&gt;str</td>\n",
              "      <td>[str, -, &gt;, str]</td>\n",
              "      <td>27926</td>\n",
              "    </tr>\n",
              "    <tr>\n",
              "      <th>47</th>\n",
              "      <td>soimort/you-get</td>\n",
              "      <td>src/you_get/extractors/showroom.py</td>\n",
              "      <td>https://github.com/soimort/you-get/blob/b746ac...</td>\n",
              "      <td>showroom_download_by_room_id</td>\n",
              "      <td>def showroom_download_by_room_id(room_id, outp...</td>\n",
              "      <td>[def, showroom_download_by_room_id, (, room_id...</td>\n",
              "      <td>Source: Android mobile</td>\n",
              "      <td>[Source, :, Android, mobile]</td>\n",
              "      <td>27926</td>\n",
              "    </tr>\n",
              "    <tr>\n",
              "      <th>48</th>\n",
              "      <td>soimort/you-get</td>\n",
              "      <td>src/you_get/extractors/wanmen.py</td>\n",
              "      <td>https://github.com/soimort/you-get/blob/b746ac...</td>\n",
              "      <td>_wanmen_get_title_by_json_topic_part</td>\n",
              "      <td>def _wanmen_get_title_by_json_topic_part(json_...</td>\n",
              "      <td>[def, _wanmen_get_title_by_json_topic_part, (,...</td>\n",
              "      <td>JSON, int, int, int-&gt;str\\n    \\n    Get a prop...</td>\n",
              "      <td>[JSON, int, int, int, -, &gt;, str, Get, a, prope...</td>\n",
              "      <td>27926</td>\n",
              "    </tr>\n",
              "    <tr>\n",
              "      <th>49</th>\n",
              "      <td>soimort/you-get</td>\n",
              "      <td>src/you_get/extractors/wanmen.py</td>\n",
              "      <td>https://github.com/soimort/you-get/blob/b746ac...</td>\n",
              "      <td>wanmen_download_by_course</td>\n",
              "      <td>def wanmen_download_by_course(json_api_content...</td>\n",
              "      <td>[def, wanmen_download_by_course, (, json_api_c...</td>\n",
              "      <td>int-&gt;None\\n    \\n    Download a WHOLE course.\\...</td>\n",
              "      <td>[int, -, &gt;, None, Download, a, WHOLE, course, ...</td>\n",
              "      <td>27926</td>\n",
              "    </tr>\n",
              "    <tr>\n",
              "      <th>50</th>\n",
              "      <td>soimort/you-get</td>\n",
              "      <td>src/you_get/extractors/wanmen.py</td>\n",
              "      <td>https://github.com/soimort/you-get/blob/b746ac...</td>\n",
              "      <td>wanmen_download_by_course_topic_part</td>\n",
              "      <td>def wanmen_download_by_course_topic_part(json_...</td>\n",
              "      <td>[def, wanmen_download_by_course_topic_part, (,...</td>\n",
              "      <td>int, int, int-&gt;None\\n    \\n    Download ONE PA...</td>\n",
              "      <td>[int, int, int, -, &gt;, None, Download, ONE, PAR...</td>\n",
              "      <td>27926</td>\n",
              "    </tr>\n",
              "    <tr>\n",
              "      <th>51</th>\n",
              "      <td>soimort/you-get</td>\n",
              "      <td>src/you_get/extractors/bigthink.py</td>\n",
              "      <td>https://github.com/soimort/you-get/blob/b746ac...</td>\n",
              "      <td>Bigthink.get_streams_by_id</td>\n",
              "      <td>def get_streams_by_id(account_number, video_id...</td>\n",
              "      <td>[def, get_streams_by_id, (, account_number, ,,...</td>\n",
              "      <td>int, int-&gt;list\\n        \\n        Get the heig...</td>\n",
              "      <td>[int, int, -, &gt;, list, Get, the, height, of, t...</td>\n",
              "      <td>27926</td>\n",
              "    </tr>\n",
              "  </tbody>\n",
              "</table>\n",
              "</div>"
            ],
            "text/plain": [
              "               repo  ...   star\n",
              "0   soimort/you-get  ...  27926\n",
              "1   soimort/you-get  ...  27926\n",
              "2   soimort/you-get  ...  27926\n",
              "3   soimort/you-get  ...  27926\n",
              "4   soimort/you-get  ...  27926\n",
              "5   soimort/you-get  ...  27926\n",
              "6   soimort/you-get  ...  27926\n",
              "7   soimort/you-get  ...  27926\n",
              "8   soimort/you-get  ...  27926\n",
              "9   soimort/you-get  ...  27926\n",
              "10  soimort/you-get  ...  27926\n",
              "11  soimort/you-get  ...  27926\n",
              "12  soimort/you-get  ...  27926\n",
              "13  soimort/you-get  ...  27926\n",
              "14  soimort/you-get  ...  27926\n",
              "15  soimort/you-get  ...  27926\n",
              "16  soimort/you-get  ...  27926\n",
              "17  soimort/you-get  ...  27926\n",
              "18  soimort/you-get  ...  27926\n",
              "19  soimort/you-get  ...  27926\n",
              "20  soimort/you-get  ...  27926\n",
              "21  soimort/you-get  ...  27926\n",
              "22  soimort/you-get  ...  27926\n",
              "23  soimort/you-get  ...  27926\n",
              "24  soimort/you-get  ...  27926\n",
              "25  soimort/you-get  ...  27926\n",
              "26  soimort/you-get  ...  27926\n",
              "27  soimort/you-get  ...  27926\n",
              "28  soimort/you-get  ...  27926\n",
              "29  soimort/you-get  ...  27926\n",
              "30  soimort/you-get  ...  27926\n",
              "31  soimort/you-get  ...  27926\n",
              "32  soimort/you-get  ...  27926\n",
              "33  soimort/you-get  ...  27926\n",
              "34  soimort/you-get  ...  27926\n",
              "35  soimort/you-get  ...  27926\n",
              "36  soimort/you-get  ...  27926\n",
              "37  soimort/you-get  ...  27926\n",
              "38  soimort/you-get  ...  27926\n",
              "39  soimort/you-get  ...  27926\n",
              "40  soimort/you-get  ...  27926\n",
              "41  soimort/you-get  ...  27926\n",
              "42  soimort/you-get  ...  27926\n",
              "43  soimort/you-get  ...  27926\n",
              "44  soimort/you-get  ...  27926\n",
              "45  soimort/you-get  ...  27926\n",
              "46  soimort/you-get  ...  27926\n",
              "47  soimort/you-get  ...  27926\n",
              "48  soimort/you-get  ...  27926\n",
              "49  soimort/you-get  ...  27926\n",
              "50  soimort/you-get  ...  27926\n",
              "51  soimort/you-get  ...  27926\n",
              "\n",
              "[52 rows x 9 columns]"
            ]
          },
          "metadata": {
            "tags": []
          },
          "execution_count": 143
        }
      ]
    },
    {
      "cell_type": "code",
      "metadata": {
        "id": "36385D4G-L8X",
        "colab_type": "code",
        "outputId": "8f1eb96a-707e-4f9a-c223-ec750a05e3e1",
        "colab": {
          "base_uri": "https://localhost:8080/",
          "height": 255
        }
      },
      "source": [
        "pydf_highest_star_df.info()"
      ],
      "execution_count": 144,
      "outputs": [
        {
          "output_type": "stream",
          "text": [
            "<class 'pandas.core.frame.DataFrame'>\n",
            "Int64Index: 52 entries, 0 to 51\n",
            "Data columns (total 9 columns):\n",
            "repo                52 non-null object\n",
            "path                52 non-null object\n",
            "url                 52 non-null object\n",
            "func_name           52 non-null object\n",
            "code                52 non-null object\n",
            "code_tokens         52 non-null object\n",
            "docstring           52 non-null object\n",
            "docstring_tokens    52 non-null object\n",
            "star                52 non-null object\n",
            "dtypes: object(9)\n",
            "memory usage: 4.1+ KB\n"
          ],
          "name": "stdout"
        }
      ]
    },
    {
      "cell_type": "code",
      "metadata": {
        "id": "RvY9B3Nm-ahg",
        "colab_type": "code",
        "outputId": "07d9edd5-127d-4be7-bff6-74a2b673b6c0",
        "colab": {
          "base_uri": "https://localhost:8080/",
          "height": 34
        }
      },
      "source": [
        "# Checking how many unique repositories are having the highest star value we got from last step\n",
        "pydf_highest_star_df.repo.unique()"
      ],
      "execution_count": 145,
      "outputs": [
        {
          "output_type": "execute_result",
          "data": {
            "text/plain": [
              "array(['soimort/you-get'], dtype=object)"
            ]
          },
          "metadata": {
            "tags": []
          },
          "execution_count": 145
        }
      ]
    },
    {
      "cell_type": "code",
      "metadata": {
        "id": "GkDCFLhF-6RZ",
        "colab_type": "code",
        "outputId": "4abea445-c13f-4efb-d316-7634805b53be",
        "colab": {
          "base_uri": "https://localhost:8080/",
          "height": 34
        }
      },
      "source": [
        "# Now lets get the AST path representation of this dataframe using the AST miner tool\n",
        "# The command is: java -jar cli.jar code2vec --lang py --project path/to/project --output path/to/results --maxH H --maxW W --maxContexts C --maxTokens T --maxPaths P\n",
        "# Uploaded the astminer cli jar file to the gdrive, checking if the system recognizes it\n",
        "!ls \"/content/drive/My Drive/astminer/\""
      ],
      "execution_count": 146,
      "outputs": [
        {
          "output_type": "stream",
          "text": [
            "cli.jar  code  code_astminer_result  sample\n"
          ],
          "name": "stdout"
        }
      ]
    },
    {
      "cell_type": "code",
      "metadata": {
        "id": "bVW5A94rEkbz",
        "colab_type": "code",
        "outputId": "747bc914-f26b-485a-c4b6-1e8f1350ca2c",
        "colab": {
          "base_uri": "https://localhost:8080/",
          "height": 34
        }
      },
      "source": [
        "# Checking for the presence of java JDK\n",
        "!which java"
      ],
      "execution_count": 147,
      "outputs": [
        {
          "output_type": "stream",
          "text": [
            "/usr/bin/java\n"
          ],
          "name": "stdout"
        }
      ]
    },
    {
      "cell_type": "code",
      "metadata": {
        "id": "MzRfBtw2Es_Z",
        "colab_type": "code",
        "outputId": "f57d4e8b-425b-4968-9d15-bdf220fdbd1a",
        "colab": {
          "base_uri": "https://localhost:8080/",
          "height": 68
        }
      },
      "source": [
        "# Checking the version of java \n",
        "!java --version"
      ],
      "execution_count": 148,
      "outputs": [
        {
          "output_type": "stream",
          "text": [
            "openjdk 11.0.4 2019-07-16\n",
            "OpenJDK Runtime Environment (build 11.0.4+11-post-Ubuntu-1ubuntu218.04.3)\n",
            "OpenJDK 64-Bit Server VM (build 11.0.4+11-post-Ubuntu-1ubuntu218.04.3, mixed mode, sharing)\n"
          ],
          "name": "stdout"
        }
      ]
    },
    {
      "cell_type": "code",
      "metadata": {
        "id": "e3IEvjAJE9UY",
        "colab_type": "code",
        "outputId": "731fc585-be0f-486a-9aea-759c577a47bf",
        "colab": {
          "base_uri": "https://localhost:8080/",
          "height": 68
        }
      },
      "source": [
        "# Running the jar file without any argument to see if it works\n",
        "!java -jar \"/content/drive/My Drive/astminer/cli.jar\" code2vec"
      ],
      "execution_count": 150,
      "outputs": [
        {
          "output_type": "stream",
          "text": [
            "Usage: code2vecextractor [OPTIONS]\n",
            "\n",
            "Error: Missing option \"--methodContent\".\n"
          ],
          "name": "stdout"
        }
      ]
    },
    {
      "cell_type": "code",
      "metadata": {
        "id": "OiLel7lzkoWD",
        "colab_type": "code",
        "colab": {}
      },
      "source": [
        "# Remove the previous results\n",
        "!rm -rf \"/content/drive/My Drive/astminer/sample/HelloWorldProjectResults/*\""
      ],
      "execution_count": 0,
      "outputs": []
    },
    {
      "cell_type": "code",
      "metadata": {
        "id": "fapEh5KoGElR",
        "colab_type": "code",
        "outputId": "7542b0c4-f668-46bd-dc6a-95ad86e75172",
        "colab": {
          "base_uri": "https://localhost:8080/",
          "height": 54
        }
      },
      "source": [
        "# See how the code looks like\n",
        "method_content = pydf_highest_star_df.loc[0, 'code']\n",
        "method_content"
      ],
      "execution_count": 152,
      "outputs": [
        {
          "output_type": "execute_result",
          "data": {
            "text/plain": [
              "'def get_vid_from_url(url):\\n        \"\"\"Extracts video ID from URL.\\n        \"\"\"\\n        return match1(url, r\\'youtu\\\\.be/([^?/]+)\\') or \\\\\\n          match1(url, r\\'youtube\\\\.com/embed/([^/?]+)\\') or \\\\\\n          match1(url, r\\'youtube\\\\.com/v/([^/?]+)\\') or \\\\\\n          match1(url, r\\'youtube\\\\.com/watch/([^/?]+)\\') or \\\\\\n          parse_query_param(url, \\'v\\') or \\\\\\n          parse_query_param(parse_query_param(url, \\'u\\'), \\'v\\')'"
            ]
          },
          "metadata": {
            "tags": []
          },
          "execution_count": 152
        }
      ]
    },
    {
      "cell_type": "code",
      "metadata": {
        "id": "O_v2XoY2FGOP",
        "colab_type": "code",
        "outputId": "a0d00c5d-7dcf-4605-fb86-6dbe1acf76a2",
        "colab": {
          "base_uri": "https://localhost:8080/",
          "height": 34
        }
      },
      "source": [
        "comm = ['java', '-jar', '/content/drive/My Drive/astminer/cli.jar', 'code2vec', '--methodContent', method_content, '--output', '/content/drive/My Drive/astminer/sample/HelloWorldProjectResults/']\n",
        "try:\n",
        "  output_msg = subprocess.check_output(comm, stderr=subprocess.STDOUT)\n",
        "  print(output_msg.decode(\"utf-8\"))\n",
        "except subprocess.CalledProcessError as e:\n",
        "  print(\"Exception occured: {0}\", e.output)"
      ],
      "execution_count": 153,
      "outputs": [
        {
          "output_type": "stream",
          "text": [
            "\n"
          ],
          "name": "stdout"
        }
      ]
    },
    {
      "cell_type": "code",
      "metadata": {
        "id": "yglZ9q_rnF4x",
        "colab_type": "code",
        "outputId": "8df1ca11-68dd-48f0-e06d-dd5774b8df46",
        "colab": {
          "base_uri": "https://localhost:8080/",
          "height": 34
        }
      },
      "source": [
        "# Check if the results are there\n",
        "!ls \"/content/drive/My Drive/astminer/sample/HelloWorldProjectResults\""
      ],
      "execution_count": 154,
      "outputs": [
        {
          "output_type": "stream",
          "text": [
            "node_types.csv\tpath_contexts_0.csv  paths.csv\ttokens.csv\n"
          ],
          "name": "stdout"
        }
      ]
    },
    {
      "cell_type": "code",
      "metadata": {
        "id": "d9FHK-Q66AIT",
        "colab_type": "code",
        "colab": {}
      },
      "source": [
        ""
      ],
      "execution_count": 0,
      "outputs": []
    }
  ]
}