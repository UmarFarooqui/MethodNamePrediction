{
  "nbformat": 4,
  "nbformat_minor": 0,
  "metadata": {
    "colab": {
      "name": "Data_Wrangling.ipynb",
      "provenance": [],
      "collapsed_sections": [],
      "include_colab_link": true
    },
    "kernelspec": {
      "name": "python3",
      "display_name": "Python 3"
    }
  },
  "cells": [
    {
      "cell_type": "markdown",
      "metadata": {
        "id": "view-in-github",
        "colab_type": "text"
      },
      "source": [
        "<a href=\"https://colab.research.google.com/github/UmarFarooqui/Springboard/blob/master/Data_Wrangling.ipynb\" target=\"_parent\"><img src=\"https://colab.research.google.com/assets/colab-badge.svg\" alt=\"Open In Colab\"/></a>"
      ]
    },
    {
      "cell_type": "code",
      "metadata": {
        "id": "bZHSpPRZe6S8",
        "colab_type": "code",
        "colab": {}
      },
      "source": [
        "from pprint import pprint\n",
        "import json\n",
        "from pathlib import Path\n",
        "import pandas as pd\n",
        "import requests"
      ],
      "execution_count": 0,
      "outputs": []
    },
    {
      "cell_type": "code",
      "metadata": {
        "id": "0BVqz5V0Xymp",
        "colab_type": "code",
        "colab": {
          "base_uri": "https://localhost:8080/",
          "height": 34
        },
        "outputId": "5dadaa4e-1b2d-4156-ae1b-244b7d196629"
      },
      "source": [
        "# Mounting the google drive\n",
        "from google.colab import drive\n",
        "drive.mount('/content/drive')"
      ],
      "execution_count": 25,
      "outputs": [
        {
          "output_type": "stream",
          "text": [
            "Drive already mounted at /content/drive; to attempt to forcibly remount, call drive.mount(\"/content/drive\", force_remount=True).\n"
          ],
          "name": "stdout"
        }
      ]
    },
    {
      "cell_type": "code",
      "metadata": {
        "id": "2Cyo08SEacmY",
        "colab_type": "code",
        "colab": {
          "base_uri": "https://localhost:8080/",
          "height": 34
        },
        "outputId": "9df19a06-adc4-47f3-b002-cdea4982d19a"
      },
      "source": [
        "# Uploaded the dataset to google drive. Checking.\n",
        "!ls \"/content/drive/My Drive/data\""
      ],
      "execution_count": 26,
      "outputs": [
        {
          "output_type": "stream",
          "text": [
            "codesearchnet_python.zip\n"
          ],
          "name": "stdout"
        }
      ]
    },
    {
      "cell_type": "code",
      "metadata": {
        "id": "PkNaFKp9c3D7",
        "colab_type": "code",
        "colab": {
          "base_uri": "https://localhost:8080/",
          "height": 340
        },
        "outputId": "df89f00f-2260-4535-83b3-a41250a00cd6"
      },
      "source": [
        "!unzip \"/content/drive/My Drive/data/codesearchnet_python.zip\""
      ],
      "execution_count": 28,
      "outputs": [
        {
          "output_type": "stream",
          "text": [
            "Archive:  /content/drive/My Drive/data/codesearchnet_python.zip\n",
            "replace python/final/jsonl/train/python_train_9.jsonl.gz? [y]es, [n]o, [A]ll, [N]one, [r]ename: n\n",
            "replace python/final/jsonl/train/python_train_12.jsonl.gz? [y]es, [n]o, [A]ll, [N]one, [r]ename: n\n",
            "replace python/final/jsonl/train/python_train_10.jsonl.gz? [y]es, [n]o, [A]ll, [N]one, [r]ename: n\n",
            "replace python/final/jsonl/train/python_train_0.jsonl.gz? [y]es, [n]o, [A]ll, [N]one, [r]ename: n\n",
            "replace python/final/jsonl/train/python_train_6.jsonl.gz? [y]es, [n]o, [A]ll, [N]one, [r]ename: n\n",
            "replace python/final/jsonl/train/python_train_2.jsonl.gz? [y]es, [n]o, [A]ll, [N]one, [r]ename: n\n",
            "replace python/final/jsonl/train/python_train_4.jsonl.gz? [y]es, [n]o, [A]ll, [N]one, [r]ename: n\n",
            "replace python/final/jsonl/train/python_train_8.jsonl.gz? [y]es, [n]o, [A]ll, [N]one, [r]ename: n\n",
            "replace python/final/jsonl/train/python_train_11.jsonl.gz? [y]es, [n]o, [A]ll, [N]one, [r]ename: n\n",
            "replace python/final/jsonl/train/python_train_5.jsonl.gz? [y]es, [n]o, [A]ll, [N]one, [r]ename: n\n",
            "replace python/final/jsonl/train/python_train_13.jsonl.gz? [y]es, [n]o, [A]ll, [N]one, [r]ename: n\n",
            "replace python/final/jsonl/train/python_train_3.jsonl.gz? [y]es, [n]o, [A]ll, [N]one, [r]ename: n\n",
            "replace python/final/jsonl/train/python_train_1.jsonl.gz? [y]es, [n]o, [A]ll, [N]one, [r]ename: n\n",
            "replace python/final/jsonl/train/python_train_7.jsonl.gz? [y]es, [n]o, [A]ll, [N]one, [r]ename: n\n",
            "  inflating: python/final/jsonl/test/python_test_0.jsonl.gz  \n",
            "replace python/final/jsonl/valid/python_valid_0.jsonl.gz? [y]es, [n]o, [A]ll, [N]one, [r]ename: n\n",
            "replace python_dedupe_definitions_v2.pkl? [y]es, [n]o, [A]ll, [N]one, [r]ename: n\n",
            "replace python_licenses.pkl? [y]es, [n]o, [A]ll, [N]one, [r]ename: n\n"
          ],
          "name": "stdout"
        }
      ]
    },
    {
      "cell_type": "code",
      "metadata": {
        "id": "dcxXTIRgeZeT",
        "colab_type": "code",
        "colab": {}
      },
      "source": [
        "# Exploring the full dataset\n",
        "python_files = sorted(Path('python/').glob('**/*.gz'))"
      ],
      "execution_count": 0,
      "outputs": []
    },
    {
      "cell_type": "code",
      "metadata": {
        "id": "J6J_UNP9xhiJ",
        "colab_type": "code",
        "colab": {
          "base_uri": "https://localhost:8080/",
          "height": 289
        },
        "outputId": "c2a7158e-2bd7-492a-a845-48cd89b2b43c"
      },
      "source": [
        "python_files"
      ],
      "execution_count": 36,
      "outputs": [
        {
          "output_type": "execute_result",
          "data": {
            "text/plain": [
              "[PosixPath('python/final/jsonl/test/python_test_0.jsonl.gz'),\n",
              " PosixPath('python/final/jsonl/train/python_train_0.jsonl.gz'),\n",
              " PosixPath('python/final/jsonl/train/python_train_1.jsonl.gz'),\n",
              " PosixPath('python/final/jsonl/train/python_train_10.jsonl.gz'),\n",
              " PosixPath('python/final/jsonl/train/python_train_11.jsonl.gz'),\n",
              " PosixPath('python/final/jsonl/train/python_train_12.jsonl.gz'),\n",
              " PosixPath('python/final/jsonl/train/python_train_13.jsonl.gz'),\n",
              " PosixPath('python/final/jsonl/train/python_train_2.jsonl.gz'),\n",
              " PosixPath('python/final/jsonl/train/python_train_3.jsonl.gz'),\n",
              " PosixPath('python/final/jsonl/train/python_train_4.jsonl.gz'),\n",
              " PosixPath('python/final/jsonl/train/python_train_5.jsonl.gz'),\n",
              " PosixPath('python/final/jsonl/train/python_train_6.jsonl.gz'),\n",
              " PosixPath('python/final/jsonl/train/python_train_7.jsonl.gz'),\n",
              " PosixPath('python/final/jsonl/train/python_train_8.jsonl.gz'),\n",
              " PosixPath('python/final/jsonl/train/python_train_9.jsonl.gz'),\n",
              " PosixPath('python/final/jsonl/valid/python_valid_0.jsonl.gz')]"
            ]
          },
          "metadata": {
            "tags": []
          },
          "execution_count": 36
        }
      ]
    },
    {
      "cell_type": "code",
      "metadata": {
        "id": "MIMzWL-bxwx-",
        "colab_type": "code",
        "colab": {
          "base_uri": "https://localhost:8080/",
          "height": 34
        },
        "outputId": "62902bee-1525-465d-887c-9bea3b359038"
      },
      "source": [
        "print(f'Total number of files: {len(python_files)}')"
      ],
      "execution_count": 37,
      "outputs": [
        {
          "output_type": "stream",
          "text": [
            "Total number of files: 16\n"
          ],
          "name": "stdout"
        }
      ]
    },
    {
      "cell_type": "code",
      "metadata": {
        "id": "zAAGuPgJzKFC",
        "colab_type": "code",
        "colab": {}
      },
      "source": [
        "columns_list = ['repo', 'path', 'url', 'func_name', 'code', 'code_tokens', 'docstring', 'docstring_tokens']"
      ],
      "execution_count": 0,
      "outputs": []
    },
    {
      "cell_type": "code",
      "metadata": {
        "id": "MPuHC-fZztIS",
        "colab_type": "code",
        "colab": {}
      },
      "source": [
        "def jsonl_list_to_dataframe(file_list, columns=columns_list):\n",
        "  \"\"\"Load a list of jsonl.gz files into a pandas dataframe.\"\"\"\n",
        "  return pd.concat([pd.read_json(f, orient='records', compression='gzip', lines=True)[columns] for f in file_list], sort=False) "
      ],
      "execution_count": 0,
      "outputs": []
    },
    {
      "cell_type": "code",
      "metadata": {
        "id": "3ySkokME0cd6",
        "colab_type": "code",
        "colab": {}
      },
      "source": [
        "pydf = jsonl_list_to_dataframe(all_files)"
      ],
      "execution_count": 0,
      "outputs": []
    },
    {
      "cell_type": "code",
      "metadata": {
        "id": "NHtXH6QQ0inj",
        "colab_type": "code",
        "colab": {
          "base_uri": "https://localhost:8080/",
          "height": 193
        },
        "outputId": "477b61a7-19d7-4f3f-d395-68d50155bfac"
      },
      "source": [
        "pydf.head(3)"
      ],
      "execution_count": 60,
      "outputs": [
        {
          "output_type": "execute_result",
          "data": {
            "text/html": [
              "<div>\n",
              "<style scoped>\n",
              "    .dataframe tbody tr th:only-of-type {\n",
              "        vertical-align: middle;\n",
              "    }\n",
              "\n",
              "    .dataframe tbody tr th {\n",
              "        vertical-align: top;\n",
              "    }\n",
              "\n",
              "    .dataframe thead th {\n",
              "        text-align: right;\n",
              "    }\n",
              "</style>\n",
              "<table border=\"1\" class=\"dataframe\">\n",
              "  <thead>\n",
              "    <tr style=\"text-align: right;\">\n",
              "      <th></th>\n",
              "      <th>repo</th>\n",
              "      <th>path</th>\n",
              "      <th>url</th>\n",
              "      <th>func_name</th>\n",
              "      <th>code</th>\n",
              "      <th>code_tokens</th>\n",
              "      <th>docstring</th>\n",
              "      <th>docstring_tokens</th>\n",
              "    </tr>\n",
              "  </thead>\n",
              "  <tbody>\n",
              "    <tr>\n",
              "      <th>0</th>\n",
              "      <td>soimort/you-get</td>\n",
              "      <td>src/you_get/extractors/youtube.py</td>\n",
              "      <td>https://github.com/soimort/you-get/blob/b746ac...</td>\n",
              "      <td>YouTube.get_vid_from_url</td>\n",
              "      <td>def get_vid_from_url(url):\\n        \"\"\"Extract...</td>\n",
              "      <td>[def, get_vid_from_url, (, url, ), :, return, ...</td>\n",
              "      <td>Extracts video ID from URL.</td>\n",
              "      <td>[Extracts, video, ID, from, URL, .]</td>\n",
              "    </tr>\n",
              "    <tr>\n",
              "      <th>1</th>\n",
              "      <td>soimort/you-get</td>\n",
              "      <td>src/you_get/extractors/miomio.py</td>\n",
              "      <td>https://github.com/soimort/you-get/blob/b746ac...</td>\n",
              "      <td>sina_xml_to_url_list</td>\n",
              "      <td>def sina_xml_to_url_list(xml_data):\\n    \"\"\"st...</td>\n",
              "      <td>[def, sina_xml_to_url_list, (, xml_data, ), :,...</td>\n",
              "      <td>str-&gt;list\\n    Convert XML to URL List.\\n    F...</td>\n",
              "      <td>[str, -, &gt;, list, Convert, XML, to, URL, List,...</td>\n",
              "    </tr>\n",
              "    <tr>\n",
              "      <th>2</th>\n",
              "      <td>soimort/you-get</td>\n",
              "      <td>src/you_get/extractors/fc2video.py</td>\n",
              "      <td>https://github.com/soimort/you-get/blob/b746ac...</td>\n",
              "      <td>makeMimi</td>\n",
              "      <td>def makeMimi(upid):\\n    \"\"\"From http://cdn37....</td>\n",
              "      <td>[def, makeMimi, (, upid, ), :, strSeed, =, \"gG...</td>\n",
              "      <td>From http://cdn37.atwikiimg.com/sitescript/pub...</td>\n",
              "      <td>[From, http, :, //, cdn37, ., atwikiimg, ., co...</td>\n",
              "    </tr>\n",
              "  </tbody>\n",
              "</table>\n",
              "</div>"
            ],
            "text/plain": [
              "              repo  ...                                   docstring_tokens\n",
              "0  soimort/you-get  ...                [Extracts, video, ID, from, URL, .]\n",
              "1  soimort/you-get  ...  [str, -, >, list, Convert, XML, to, URL, List,...\n",
              "2  soimort/you-get  ...  [From, http, :, //, cdn37, ., atwikiimg, ., co...\n",
              "\n",
              "[3 rows x 8 columns]"
            ]
          },
          "metadata": {
            "tags": []
          },
          "execution_count": 60
        }
      ]
    },
    {
      "cell_type": "code",
      "metadata": {
        "id": "R_f038v-1LL0",
        "colab_type": "code",
        "colab": {
          "base_uri": "https://localhost:8080/",
          "height": 238
        },
        "outputId": "cc67abab-8a9c-484f-c8cc-27e7c585861f"
      },
      "source": [
        "# The columns which will be used for our purpose would be func_name, code, code_tokens, docstring, docstring_tokens\n",
        "pydf.groupby(['repo'])['code'].count()"
      ],
      "execution_count": 85,
      "outputs": [
        {
          "output_type": "execute_result",
          "data": {
            "text/plain": [
              "repo\n",
              "0101/pipetools                   12\n",
              "02strich/django-auth-kerberos     1\n",
              "05bit/peewee-async               42\n",
              "0compute/xtraceback               2\n",
              "0k/kids.cache                     4\n",
              "                                 ..\n",
              "zyga/python-glibc                32\n",
              "zyga/python-phablet               6\n",
              "zzyztyy/pyIGRF                    6\n",
              "zzzsochi/includer                 2\n",
              "zzzsochi/resolver_deco            1\n",
              "Name: code, Length: 13590, dtype: int64"
            ]
          },
          "metadata": {
            "tags": []
          },
          "execution_count": 85
        }
      ]
    },
    {
      "cell_type": "code",
      "metadata": {
        "id": "SoE9mDnB7LDJ",
        "colab_type": "code",
        "colab": {}
      },
      "source": [
        "# As a starting point we will use the repos with a high star count\n",
        "# Example of how to do it\n",
        "url = 'http://api.github.com/repos/'\n",
        "repo_name = '0101/pipetools'\n",
        "r = requests.get(url + repo_name)\n",
        "r_json = r.json()\n",
        "r_json['stargazers_count']"
      ],
      "execution_count": 0,
      "outputs": []
    },
    {
      "cell_type": "code",
      "metadata": {
        "id": "heKZTqdKCbhW",
        "colab_type": "code",
        "colab": {
          "base_uri": "https://localhost:8080/",
          "height": 34
        },
        "outputId": "b74cb442-a448-41c6-c7e5-f37af6f61156"
      },
      "source": [
        "# Now we will add this as the last column in our dataframe\n",
        "# First check if we have no null values in the repo column\n",
        "pydf.repo.isnull().any()"
      ],
      "execution_count": 100,
      "outputs": [
        {
          "output_type": "execute_result",
          "data": {
            "text/plain": [
              "False"
            ]
          },
          "metadata": {
            "tags": []
          },
          "execution_count": 100
        }
      ]
    },
    {
      "cell_type": "code",
      "metadata": {
        "id": "fle1H_cbDH9-",
        "colab_type": "code",
        "colab": {
          "base_uri": "https://localhost:8080/",
          "height": 49
        },
        "outputId": "4b173bb6-8dea-451f-d8cd-e39a0c7e6fda"
      },
      "source": [
        "pydf[pydf['repo'] == '']"
      ],
      "execution_count": 101,
      "outputs": [
        {
          "output_type": "execute_result",
          "data": {
            "text/html": [
              "<div>\n",
              "<style scoped>\n",
              "    .dataframe tbody tr th:only-of-type {\n",
              "        vertical-align: middle;\n",
              "    }\n",
              "\n",
              "    .dataframe tbody tr th {\n",
              "        vertical-align: top;\n",
              "    }\n",
              "\n",
              "    .dataframe thead th {\n",
              "        text-align: right;\n",
              "    }\n",
              "</style>\n",
              "<table border=\"1\" class=\"dataframe\">\n",
              "  <thead>\n",
              "    <tr style=\"text-align: right;\">\n",
              "      <th></th>\n",
              "      <th>repo</th>\n",
              "      <th>path</th>\n",
              "      <th>url</th>\n",
              "      <th>func_name</th>\n",
              "      <th>code</th>\n",
              "      <th>code_tokens</th>\n",
              "      <th>docstring</th>\n",
              "      <th>docstring_tokens</th>\n",
              "    </tr>\n",
              "  </thead>\n",
              "  <tbody>\n",
              "  </tbody>\n",
              "</table>\n",
              "</div>"
            ],
            "text/plain": [
              "Empty DataFrame\n",
              "Columns: [repo, path, url, func_name, code, code_tokens, docstring, docstring_tokens]\n",
              "Index: []"
            ]
          },
          "metadata": {
            "tags": []
          },
          "execution_count": 101
        }
      ]
    },
    {
      "cell_type": "code",
      "metadata": {
        "id": "i8r22_VXDeN1",
        "colab_type": "code",
        "colab": {
          "base_uri": "https://localhost:8080/",
          "height": 238
        },
        "outputId": "bfd0a9ce-e4e3-447e-c912-30dc5a1d5aca"
      },
      "source": [
        "# So looks like the repo column is having no null values or empty string\n",
        "# Taking a look at the dataframe\n",
        "pydf.info()"
      ],
      "execution_count": 102,
      "outputs": [
        {
          "output_type": "stream",
          "text": [
            "<class 'pandas.core.frame.DataFrame'>\n",
            "Int64Index: 457461 entries, 0 to 23106\n",
            "Data columns (total 8 columns):\n",
            "repo                457461 non-null object\n",
            "path                457461 non-null object\n",
            "url                 457461 non-null object\n",
            "func_name           457461 non-null object\n",
            "code                457461 non-null object\n",
            "code_tokens         457461 non-null object\n",
            "docstring           457461 non-null object\n",
            "docstring_tokens    457461 non-null object\n",
            "dtypes: object(8)\n",
            "memory usage: 31.4+ MB\n"
          ],
          "name": "stdout"
        }
      ]
    },
    {
      "cell_type": "code",
      "metadata": {
        "id": "WZ4xKxx3D0w9",
        "colab_type": "code",
        "colab": {
          "base_uri": "https://localhost:8080/",
          "height": 34
        },
        "outputId": "0e35625e-1fb6-410a-8e30-616e4488e535"
      },
      "source": [
        "# Looks like we have no null values\n",
        "# Length of the dataframe\n",
        "len(pydf)"
      ],
      "execution_count": 103,
      "outputs": [
        {
          "output_type": "execute_result",
          "data": {
            "text/plain": [
              "457461"
            ]
          },
          "metadata": {
            "tags": []
          },
          "execution_count": 103
        }
      ]
    },
    {
      "cell_type": "code",
      "metadata": {
        "id": "Gzjcg__kEOdu",
        "colab_type": "code",
        "colab": {
          "base_uri": "https://localhost:8080/",
          "height": 221
        },
        "outputId": "0c3029d8-65ff-4685-92a4-4ef908ddcfbb"
      },
      "source": [
        "# So we have 0.45M samples, we will increase our dataset if we need to by exploring more repos.\n",
        "unique_repo_name_series = pydf.repo.drop_duplicates()\n",
        "unique_repo_name_series"
      ],
      "execution_count": 104,
      "outputs": [
        {
          "output_type": "execute_result",
          "data": {
            "text/plain": [
              "0                       soimort/you-get\n",
              "52                       apache/airflow\n",
              "849                      pytorch/vision\n",
              "900                      asciimoo/searx\n",
              "910              tensorflow/probability\n",
              "                      ...              \n",
              "23018           praekelt/python-ambient\n",
              "23024                   zenreach/py-era\n",
              "23090    TakesxiSximada/custom_settings\n",
              "23095              openpermissions/bass\n",
              "23099                 xnuinside/clifier\n",
              "Name: repo, Length: 13590, dtype: object"
            ]
          },
          "metadata": {
            "tags": []
          },
          "execution_count": 104
        }
      ]
    },
    {
      "cell_type": "code",
      "metadata": {
        "id": "Ta0zP4DFFSlX",
        "colab_type": "code",
        "colab": {}
      },
      "source": [
        "# Turns out that for API request, we can only make up to 5000 request per hour\n",
        "# So, I will not do this for now and explore other means to get the star information\n",
        "repo_star_map = {}\n",
        "'''\n",
        "first_4900_unique_repo_name_series = unique_repo_name_series[:4900]\n",
        "for index, repo_name in first_4900_unique_repo_name_series.items():\n",
        "  r = requests.get(url + repo_name)\n",
        "  r_json = r.json()\n",
        "  if r_json['stargazers_count']:\n",
        "    repo_star_map[repo_name] = r_json['stargazers_count']\n",
        "'''"
      ],
      "execution_count": 0,
      "outputs": []
    },
    {
      "cell_type": "code",
      "metadata": {
        "id": "12tw50JeNarm",
        "colab_type": "code",
        "colab": {
          "base_uri": "https://localhost:8080/",
          "height": 1000
        },
        "outputId": "9e8e520e-2da0-42c6-a4cb-505dc50fef9e"
      },
      "source": [
        "repo_star_map"
      ],
      "execution_count": 111,
      "outputs": [
        {
          "output_type": "execute_result",
          "data": {
            "text/plain": [
              "{'3DLIRIOUS/MeshLabXML': 117,\n",
              " 'Azure/azure-sdk-for-python': 909,\n",
              " 'CITGuru/PyInquirer': 560,\n",
              " 'Danielhiversen/PyXiaomiGateway': 102,\n",
              " 'Microsoft/botbuilder-python': 265,\n",
              " 'Nekmo/amazon-dash': 567,\n",
              " 'PyCQA/pylint': 2417,\n",
              " 'Qiskit/qiskit-terra': 2632,\n",
              " 'SectorLabs/django-postgres-extra': 253,\n",
              " 'Tivix/django-rest-auth': 1847,\n",
              " 'alpacahq/alpaca-trade-api-python': 223,\n",
              " 'ansible/ansible-lint': 1858,\n",
              " 'apache/airflow': 14533,\n",
              " 'asciimoo/searx': 5591,\n",
              " 'bloomreach/s4cmd': 929,\n",
              " 'bluedisk/hangul-toolkit': 154,\n",
              " 'celiao/tmdbsimple': 249,\n",
              " 'chaoss/grimoirelab-perceval': 140,\n",
              " 'dagster-io/dagster': 983,\n",
              " 'deepmipt/DeepPavlov': 3666,\n",
              " 'ekzhu/datasketch': 1087,\n",
              " 'geopython/OWSLib': 187,\n",
              " 'google/brotli': 7915,\n",
              " 'google/gin-config': 578,\n",
              " 'graphql-python/graphene-sqlalchemy': 603,\n",
              " 'h2oai/h2o-3': 4433,\n",
              " 'howie6879/ruia': 1027,\n",
              " 'instagrambot/instabot': 2703,\n",
              " 'intel-analytics/BigDL': 3181,\n",
              " 'kennethreitz/twitter-scraper': 1884,\n",
              " 'lensacom/sparkit-learn': 989,\n",
              " 'lepture/flask-oauthlib': 1384,\n",
              " 'librosa/librosa': 3115,\n",
              " 'maxcountryman/flask-uploads': 144,\n",
              " 'mopidy/mopidy-spotify': 626,\n",
              " 'mordred-descriptor/mordred': 75,\n",
              " 'mozilla-iot/webthing-python': 127,\n",
              " 'nesdis/djongo': 713,\n",
              " 'nvdv/vprof': 3545,\n",
              " 'open-mmlab/mmcv': 1172,\n",
              " 'pltrdy/rouge': 208,\n",
              " 'pyca/pyopenssl': 626,\n",
              " 'pydanny/cookiecutter-django': 6001,\n",
              " 'python/performance': 289,\n",
              " 'pytorch/vision': 4837,\n",
              " 'ralphbean/bugwarrior': 444,\n",
              " 'rollbar/pyrollbar': 158,\n",
              " 'rsennrich/Bleualign': 146,\n",
              " 'savoirfairelinux/num2words': 302,\n",
              " 'scrapinghub/dateparser': 1332,\n",
              " 'soimort/you-get': 27917,\n",
              " 'streamlink/streamlink': 3982,\n",
              " 'tensorflow/probability': 2541,\n",
              " 'vaexio/vaex': 1721,\n",
              " 'williamFalcon/test-tube': 510,\n",
              " 'yandex/yandex-tank': 1776,\n",
              " 'yashaka/selene': 322,\n",
              " 'zqfang/GSEApy': 123}"
            ]
          },
          "metadata": {
            "tags": []
          },
          "execution_count": 111
        }
      ]
    },
    {
      "cell_type": "code",
      "metadata": {
        "id": "0z1Um4IST6F3",
        "colab_type": "code",
        "colab": {
          "base_uri": "https://localhost:8080/",
          "height": 193
        },
        "outputId": "9aea20f1-6df0-45bc-8132-5d58b030dd1f"
      },
      "source": [
        "# Append a column in the pydf dataframe called star that contains the star information we have discovered so far\n",
        "pydf.head(3)"
      ],
      "execution_count": 113,
      "outputs": [
        {
          "output_type": "execute_result",
          "data": {
            "text/html": [
              "<div>\n",
              "<style scoped>\n",
              "    .dataframe tbody tr th:only-of-type {\n",
              "        vertical-align: middle;\n",
              "    }\n",
              "\n",
              "    .dataframe tbody tr th {\n",
              "        vertical-align: top;\n",
              "    }\n",
              "\n",
              "    .dataframe thead th {\n",
              "        text-align: right;\n",
              "    }\n",
              "</style>\n",
              "<table border=\"1\" class=\"dataframe\">\n",
              "  <thead>\n",
              "    <tr style=\"text-align: right;\">\n",
              "      <th></th>\n",
              "      <th>repo</th>\n",
              "      <th>path</th>\n",
              "      <th>url</th>\n",
              "      <th>func_name</th>\n",
              "      <th>code</th>\n",
              "      <th>code_tokens</th>\n",
              "      <th>docstring</th>\n",
              "      <th>docstring_tokens</th>\n",
              "    </tr>\n",
              "  </thead>\n",
              "  <tbody>\n",
              "    <tr>\n",
              "      <th>0</th>\n",
              "      <td>soimort/you-get</td>\n",
              "      <td>src/you_get/extractors/youtube.py</td>\n",
              "      <td>https://github.com/soimort/you-get/blob/b746ac...</td>\n",
              "      <td>YouTube.get_vid_from_url</td>\n",
              "      <td>def get_vid_from_url(url):\\n        \"\"\"Extract...</td>\n",
              "      <td>[def, get_vid_from_url, (, url, ), :, return, ...</td>\n",
              "      <td>Extracts video ID from URL.</td>\n",
              "      <td>[Extracts, video, ID, from, URL, .]</td>\n",
              "    </tr>\n",
              "    <tr>\n",
              "      <th>1</th>\n",
              "      <td>soimort/you-get</td>\n",
              "      <td>src/you_get/extractors/miomio.py</td>\n",
              "      <td>https://github.com/soimort/you-get/blob/b746ac...</td>\n",
              "      <td>sina_xml_to_url_list</td>\n",
              "      <td>def sina_xml_to_url_list(xml_data):\\n    \"\"\"st...</td>\n",
              "      <td>[def, sina_xml_to_url_list, (, xml_data, ), :,...</td>\n",
              "      <td>str-&gt;list\\n    Convert XML to URL List.\\n    F...</td>\n",
              "      <td>[str, -, &gt;, list, Convert, XML, to, URL, List,...</td>\n",
              "    </tr>\n",
              "    <tr>\n",
              "      <th>2</th>\n",
              "      <td>soimort/you-get</td>\n",
              "      <td>src/you_get/extractors/fc2video.py</td>\n",
              "      <td>https://github.com/soimort/you-get/blob/b746ac...</td>\n",
              "      <td>makeMimi</td>\n",
              "      <td>def makeMimi(upid):\\n    \"\"\"From http://cdn37....</td>\n",
              "      <td>[def, makeMimi, (, upid, ), :, strSeed, =, \"gG...</td>\n",
              "      <td>From http://cdn37.atwikiimg.com/sitescript/pub...</td>\n",
              "      <td>[From, http, :, //, cdn37, ., atwikiimg, ., co...</td>\n",
              "    </tr>\n",
              "  </tbody>\n",
              "</table>\n",
              "</div>"
            ],
            "text/plain": [
              "              repo  ...                                   docstring_tokens\n",
              "0  soimort/you-get  ...                [Extracts, video, ID, from, URL, .]\n",
              "1  soimort/you-get  ...  [str, -, >, list, Convert, XML, to, URL, List,...\n",
              "2  soimort/you-get  ...  [From, http, :, //, cdn37, ., atwikiimg, ., co...\n",
              "\n",
              "[3 rows x 8 columns]"
            ]
          },
          "metadata": {
            "tags": []
          },
          "execution_count": 113
        }
      ]
    },
    {
      "cell_type": "code",
      "metadata": {
        "id": "eR_SBgnzVXO7",
        "colab_type": "code",
        "colab": {
          "base_uri": "https://localhost:8080/",
          "height": 745
        },
        "outputId": "226b1ccf-2eeb-4120-e6d0-5cadb5303fbd"
      },
      "source": [
        "pydf_with_star = pydf\n",
        "pydf_with_star['star'] = \"\"\n",
        "for index, row in pydf_with_star.iterrows():\n",
        "  if row['repo'] in repo_star_map:\n",
        "    row['star'] = repo_star_map[row['repo']]\n",
        "pydf_with_star"
      ],
      "execution_count": 125,
      "outputs": [
        {
          "output_type": "execute_result",
          "data": {
            "text/html": [
              "<div>\n",
              "<style scoped>\n",
              "    .dataframe tbody tr th:only-of-type {\n",
              "        vertical-align: middle;\n",
              "    }\n",
              "\n",
              "    .dataframe tbody tr th {\n",
              "        vertical-align: top;\n",
              "    }\n",
              "\n",
              "    .dataframe thead th {\n",
              "        text-align: right;\n",
              "    }\n",
              "</style>\n",
              "<table border=\"1\" class=\"dataframe\">\n",
              "  <thead>\n",
              "    <tr style=\"text-align: right;\">\n",
              "      <th></th>\n",
              "      <th>repo</th>\n",
              "      <th>path</th>\n",
              "      <th>url</th>\n",
              "      <th>func_name</th>\n",
              "      <th>code</th>\n",
              "      <th>code_tokens</th>\n",
              "      <th>docstring</th>\n",
              "      <th>docstring_tokens</th>\n",
              "      <th>star</th>\n",
              "    </tr>\n",
              "  </thead>\n",
              "  <tbody>\n",
              "    <tr>\n",
              "      <th>0</th>\n",
              "      <td>soimort/you-get</td>\n",
              "      <td>src/you_get/extractors/youtube.py</td>\n",
              "      <td>https://github.com/soimort/you-get/blob/b746ac...</td>\n",
              "      <td>YouTube.get_vid_from_url</td>\n",
              "      <td>def get_vid_from_url(url):\\n        \"\"\"Extract...</td>\n",
              "      <td>[def, get_vid_from_url, (, url, ), :, return, ...</td>\n",
              "      <td>Extracts video ID from URL.</td>\n",
              "      <td>[Extracts, video, ID, from, URL, .]</td>\n",
              "      <td>27917</td>\n",
              "    </tr>\n",
              "    <tr>\n",
              "      <th>1</th>\n",
              "      <td>soimort/you-get</td>\n",
              "      <td>src/you_get/extractors/miomio.py</td>\n",
              "      <td>https://github.com/soimort/you-get/blob/b746ac...</td>\n",
              "      <td>sina_xml_to_url_list</td>\n",
              "      <td>def sina_xml_to_url_list(xml_data):\\n    \"\"\"st...</td>\n",
              "      <td>[def, sina_xml_to_url_list, (, xml_data, ), :,...</td>\n",
              "      <td>str-&gt;list\\n    Convert XML to URL List.\\n    F...</td>\n",
              "      <td>[str, -, &gt;, list, Convert, XML, to, URL, List,...</td>\n",
              "      <td>27917</td>\n",
              "    </tr>\n",
              "    <tr>\n",
              "      <th>2</th>\n",
              "      <td>soimort/you-get</td>\n",
              "      <td>src/you_get/extractors/fc2video.py</td>\n",
              "      <td>https://github.com/soimort/you-get/blob/b746ac...</td>\n",
              "      <td>makeMimi</td>\n",
              "      <td>def makeMimi(upid):\\n    \"\"\"From http://cdn37....</td>\n",
              "      <td>[def, makeMimi, (, upid, ), :, strSeed, =, \"gG...</td>\n",
              "      <td>From http://cdn37.atwikiimg.com/sitescript/pub...</td>\n",
              "      <td>[From, http, :, //, cdn37, ., atwikiimg, ., co...</td>\n",
              "      <td>27917</td>\n",
              "    </tr>\n",
              "    <tr>\n",
              "      <th>3</th>\n",
              "      <td>soimort/you-get</td>\n",
              "      <td>src/you_get/extractors/fc2video.py</td>\n",
              "      <td>https://github.com/soimort/you-get/blob/b746ac...</td>\n",
              "      <td>fc2video_download</td>\n",
              "      <td>def fc2video_download(url, output_dir = '.', m...</td>\n",
              "      <td>[def, fc2video_download, (, url, ,, output_dir...</td>\n",
              "      <td>wrapper</td>\n",
              "      <td>[wrapper]</td>\n",
              "      <td>27917</td>\n",
              "    </tr>\n",
              "    <tr>\n",
              "      <th>4</th>\n",
              "      <td>soimort/you-get</td>\n",
              "      <td>src/you_get/extractors/dailymotion.py</td>\n",
              "      <td>https://github.com/soimort/you-get/blob/b746ac...</td>\n",
              "      <td>dailymotion_download</td>\n",
              "      <td>def dailymotion_download(url, output_dir='.', ...</td>\n",
              "      <td>[def, dailymotion_download, (, url, ,, output_...</td>\n",
              "      <td>Downloads Dailymotion videos by URL.</td>\n",
              "      <td>[Downloads, Dailymotion, videos, by, URL, .]</td>\n",
              "      <td>27917</td>\n",
              "    </tr>\n",
              "    <tr>\n",
              "      <th>...</th>\n",
              "      <td>...</td>\n",
              "      <td>...</td>\n",
              "      <td>...</td>\n",
              "      <td>...</td>\n",
              "      <td>...</td>\n",
              "      <td>...</td>\n",
              "      <td>...</td>\n",
              "      <td>...</td>\n",
              "      <td>...</td>\n",
              "    </tr>\n",
              "    <tr>\n",
              "      <th>23102</th>\n",
              "      <td>xnuinside/clifier</td>\n",
              "      <td>clifier/clifier.py</td>\n",
              "      <td>https://github.com/xnuinside/clifier/blob/3d70...</td>\n",
              "      <td>Clifier.show_version</td>\n",
              "      <td>def show_version(self):\\n        \"\"\" custom co...</td>\n",
              "      <td>[def, show_version, (, self, ), :, class, Show...</td>\n",
              "      <td>custom command line  action to show version</td>\n",
              "      <td>[custom, command, line, action, to, show, vers...</td>\n",
              "      <td></td>\n",
              "    </tr>\n",
              "    <tr>\n",
              "      <th>23103</th>\n",
              "      <td>xnuinside/clifier</td>\n",
              "      <td>clifier/clifier.py</td>\n",
              "      <td>https://github.com/xnuinside/clifier/blob/3d70...</td>\n",
              "      <td>Clifier.check_path_action</td>\n",
              "      <td>def check_path_action(self):\\n        \"\"\" cust...</td>\n",
              "      <td>[def, check_path_action, (, self, ), :, class,...</td>\n",
              "      <td>custom command line action to check file exist</td>\n",
              "      <td>[custom, command, line, action, to, check, fil...</td>\n",
              "      <td></td>\n",
              "    </tr>\n",
              "    <tr>\n",
              "      <th>23104</th>\n",
              "      <td>tklovett/PyShirtsIO</td>\n",
              "      <td>interactive_console.py</td>\n",
              "      <td>https://github.com/tklovett/PyShirtsIO/blob/ff...</td>\n",
              "      <td>new_user</td>\n",
              "      <td>def new_user(yaml_path):\\n    '''\\n    Return ...</td>\n",
              "      <td>[def, new_user, (, yaml_path, ), :, print, 'Re...</td>\n",
              "      <td>Return the consumer and oauth tokens with thre...</td>\n",
              "      <td>[Return, the, consumer, and, oauth, tokens, wi...</td>\n",
              "      <td></td>\n",
              "    </tr>\n",
              "    <tr>\n",
              "      <th>23105</th>\n",
              "      <td>ibelie/typy</td>\n",
              "      <td>typy/google/protobuf/internal/python_message.py</td>\n",
              "      <td>https://github.com/ibelie/typy/blob/3616845fb9...</td>\n",
              "      <td>_AddPropertiesForExtensions</td>\n",
              "      <td>def _AddPropertiesForExtensions(descriptor, cl...</td>\n",
              "      <td>[def, _AddPropertiesForExtensions, (, descript...</td>\n",
              "      <td>Adds properties for all fields in this protoco...</td>\n",
              "      <td>[Adds, properties, for, all, fields, in, this,...</td>\n",
              "      <td></td>\n",
              "    </tr>\n",
              "    <tr>\n",
              "      <th>23106</th>\n",
              "      <td>ibelie/typy</td>\n",
              "      <td>typy/google/protobuf/internal/python_message.py</td>\n",
              "      <td>https://github.com/ibelie/typy/blob/3616845fb9...</td>\n",
              "      <td>_InternalUnpackAny</td>\n",
              "      <td>def _InternalUnpackAny(msg):\\n  \"\"\"Unpacks Any...</td>\n",
              "      <td>[def, _InternalUnpackAny, (, msg, ), :, type_u...</td>\n",
              "      <td>Unpacks Any message and returns the unpacked m...</td>\n",
              "      <td>[Unpacks, Any, message, and, returns, the, unp...</td>\n",
              "      <td></td>\n",
              "    </tr>\n",
              "  </tbody>\n",
              "</table>\n",
              "<p>457461 rows × 9 columns</p>\n",
              "</div>"
            ],
            "text/plain": [
              "                      repo  ...   star\n",
              "0          soimort/you-get  ...  27917\n",
              "1          soimort/you-get  ...  27917\n",
              "2          soimort/you-get  ...  27917\n",
              "3          soimort/you-get  ...  27917\n",
              "4          soimort/you-get  ...  27917\n",
              "...                    ...  ...    ...\n",
              "23102    xnuinside/clifier  ...       \n",
              "23103    xnuinside/clifier  ...       \n",
              "23104  tklovett/PyShirtsIO  ...       \n",
              "23105          ibelie/typy  ...       \n",
              "23106          ibelie/typy  ...       \n",
              "\n",
              "[457461 rows x 9 columns]"
            ]
          },
          "metadata": {
            "tags": []
          },
          "execution_count": 125
        }
      ]
    },
    {
      "cell_type": "code",
      "metadata": {
        "id": "ivGY7EXXWPnI",
        "colab_type": "code",
        "colab": {}
      },
      "source": [
        ""
      ],
      "execution_count": 0,
      "outputs": []
    }
  ]
}