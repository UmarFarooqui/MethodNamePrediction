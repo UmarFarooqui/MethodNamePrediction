{
  "nbformat": 4,
  "nbformat_minor": 0,
  "metadata": {
    "colab": {
      "name": "Data_Wrangling.ipynb",
      "provenance": [],
      "collapsed_sections": [],
      "include_colab_link": true
    },
    "kernelspec": {
      "name": "python3",
      "display_name": "Python 3"
    }
  },
  "cells": [
    {
      "cell_type": "markdown",
      "metadata": {
        "id": "view-in-github",
        "colab_type": "text"
      },
      "source": [
        "<a href=\"https://colab.research.google.com/github/UmarFarooqui/Springboard/blob/master/Data_Wrangling.ipynb\" target=\"_parent\"><img src=\"https://colab.research.google.com/assets/colab-badge.svg\" alt=\"Open In Colab\"/></a>"
      ]
    },
    {
      "cell_type": "code",
      "metadata": {
        "id": "bZHSpPRZe6S8",
        "colab_type": "code",
        "colab": {}
      },
      "source": [
        "from pprint import pprint\n",
        "import json"
      ],
      "execution_count": 0,
      "outputs": []
    },
    {
      "cell_type": "code",
      "metadata": {
        "id": "0BVqz5V0Xymp",
        "colab_type": "code",
        "colab": {
          "base_uri": "https://localhost:8080/",
          "height": 34
        },
        "outputId": "81b7584b-3473-4901-b480-4d12cfda6d45"
      },
      "source": [
        "# Mounting the google drive\n",
        "from google.colab import drive\n",
        "drive.mount('/content/drive')"
      ],
      "execution_count": 15,
      "outputs": [
        {
          "output_type": "stream",
          "text": [
            "Drive already mounted at /content/drive; to attempt to forcibly remount, call drive.mount(\"/content/drive\", force_remount=True).\n"
          ],
          "name": "stdout"
        }
      ]
    },
    {
      "cell_type": "code",
      "metadata": {
        "id": "2Cyo08SEacmY",
        "colab_type": "code",
        "colab": {
          "base_uri": "https://localhost:8080/",
          "height": 34
        },
        "outputId": "524ee5c0-96b0-4457-9651-26ee66cc60b0"
      },
      "source": [
        "# Uploaded the dataset to google drive. Checking.\n",
        "!ls \"/content/drive/My Drive/data\""
      ],
      "execution_count": 16,
      "outputs": [
        {
          "output_type": "stream",
          "text": [
            "codesearchnet_python.zip\n"
          ],
          "name": "stdout"
        }
      ]
    },
    {
      "cell_type": "code",
      "metadata": {
        "id": "PkNaFKp9c3D7",
        "colab_type": "code",
        "colab": {
          "base_uri": "https://localhost:8080/",
          "height": 442
        },
        "outputId": "66584df9-9536-403f-8082-fc3463c85e32"
      },
      "source": [
        "!unzip \"/content/drive/My Drive/data/codesearchnet_python.zip\""
      ],
      "execution_count": 9,
      "outputs": [
        {
          "output_type": "stream",
          "text": [
            "Archive:  /content/drive/My Drive/data/codesearchnet_python.zip\n",
            "   creating: python/\n",
            "   creating: python/final/\n",
            "   creating: python/final/jsonl/\n",
            "   creating: python/final/jsonl/train/\n",
            "  inflating: python/final/jsonl/train/python_train_9.jsonl.gz  \n",
            "  inflating: python/final/jsonl/train/python_train_12.jsonl.gz  \n",
            "  inflating: python/final/jsonl/train/python_train_10.jsonl.gz  \n",
            "  inflating: python/final/jsonl/train/python_train_0.jsonl.gz  \n",
            "  inflating: python/final/jsonl/train/python_train_6.jsonl.gz  \n",
            "  inflating: python/final/jsonl/train/python_train_2.jsonl.gz  \n",
            "  inflating: python/final/jsonl/train/python_train_4.jsonl.gz  \n",
            "  inflating: python/final/jsonl/train/python_train_8.jsonl.gz  \n",
            "  inflating: python/final/jsonl/train/python_train_11.jsonl.gz  \n",
            "  inflating: python/final/jsonl/train/python_train_5.jsonl.gz  \n",
            "  inflating: python/final/jsonl/train/python_train_13.jsonl.gz  \n",
            "  inflating: python/final/jsonl/train/python_train_3.jsonl.gz  \n",
            "  inflating: python/final/jsonl/train/python_train_1.jsonl.gz  \n",
            "  inflating: python/final/jsonl/train/python_train_7.jsonl.gz  \n",
            "   creating: python/final/jsonl/test/\n",
            "  inflating: python/final/jsonl/test/python_test_0.jsonl.gz  \n",
            "   creating: python/final/jsonl/valid/\n",
            "  inflating: python/final/jsonl/valid/python_valid_0.jsonl.gz  \n",
            "  inflating: python_dedupe_definitions_v2.pkl  \n",
            "  inflating: python_licenses.pkl     \n"
          ],
          "name": "stdout"
        }
      ]
    },
    {
      "cell_type": "code",
      "metadata": {
        "id": "WnvYF9rBdXtI",
        "colab_type": "code",
        "colab": {}
      },
      "source": [
        "# Lets inspect python/final/jsonl/test/python_test_0.jsonl.gz to see its contents\n",
        "# decompress this gzip file\n",
        "!gzip -d python/final/jsonl/test/python_test_0.jsonl.gz"
      ],
      "execution_count": 0,
      "outputs": []
    },
    {
      "cell_type": "code",
      "metadata": {
        "id": "fQcV9O03eD9i",
        "colab_type": "code",
        "colab": {
          "base_uri": "https://localhost:8080/",
          "height": 54
        },
        "outputId": "605b18a9-ac0d-4239-c4bb-586e2d310b9a"
      },
      "source": [
        "# Read in the file and display the first row. The data is stored in JSON Lines format\n",
        "with open('python/final/jsonl/test/python_test_0.jsonl', 'r') as f:\n",
        "    sample_file = f.readlines()\n",
        "sample_file[0]"
      ],
      "execution_count": 11,
      "outputs": [
        {
          "output_type": "execute_result",
          "data": {
            "text/plain": [
              "'{\"repo\": \"soimort/you-get\", \"path\": \"src/you_get/extractors/youtube.py\", \"func_name\": \"YouTube.get_vid_from_url\", \"original_string\": \"def get_vid_from_url(url):\\\\n        \\\\\"\\\\\"\\\\\"Extracts video ID from URL.\\\\n        \\\\\"\\\\\"\\\\\"\\\\n        return match1(url, r\\'youtu\\\\\\\\.be/([^?/]+)\\') or \\\\\\\\\\\\n          match1(url, r\\'youtube\\\\\\\\.com/embed/([^/?]+)\\') or \\\\\\\\\\\\n          match1(url, r\\'youtube\\\\\\\\.com/v/([^/?]+)\\') or \\\\\\\\\\\\n          match1(url, r\\'youtube\\\\\\\\.com/watch/([^/?]+)\\') or \\\\\\\\\\\\n          parse_query_param(url, \\'v\\') or \\\\\\\\\\\\n          parse_query_param(parse_query_param(url, \\'u\\'), \\'v\\')\", \"language\": \"python\", \"code\": \"def get_vid_from_url(url):\\\\n        \\\\\"\\\\\"\\\\\"Extracts video ID from URL.\\\\n        \\\\\"\\\\\"\\\\\"\\\\n        return match1(url, r\\'youtu\\\\\\\\.be/([^?/]+)\\') or \\\\\\\\\\\\n          match1(url, r\\'youtube\\\\\\\\.com/embed/([^/?]+)\\') or \\\\\\\\\\\\n          match1(url, r\\'youtube\\\\\\\\.com/v/([^/?]+)\\') or \\\\\\\\\\\\n          match1(url, r\\'youtube\\\\\\\\.com/watch/([^/?]+)\\') or \\\\\\\\\\\\n          parse_query_param(url, \\'v\\') or \\\\\\\\\\\\n          parse_query_param(parse_query_param(url, \\'u\\'), \\'v\\')\", \"code_tokens\": [\"def\", \"get_vid_from_url\", \"(\", \"url\", \")\", \":\", \"return\", \"match1\", \"(\", \"url\", \",\", \"r\\'youtu\\\\\\\\.be/([^?/]+)\\'\", \")\", \"or\", \"match1\", \"(\", \"url\", \",\", \"r\\'youtube\\\\\\\\.com/embed/([^/?]+)\\'\", \")\", \"or\", \"match1\", \"(\", \"url\", \",\", \"r\\'youtube\\\\\\\\.com/v/([^/?]+)\\'\", \")\", \"or\", \"match1\", \"(\", \"url\", \",\", \"r\\'youtube\\\\\\\\.com/watch/([^/?]+)\\'\", \")\", \"or\", \"parse_query_param\", \"(\", \"url\", \",\", \"\\'v\\'\", \")\", \"or\", \"parse_query_param\", \"(\", \"parse_query_param\", \"(\", \"url\", \",\", \"\\'u\\'\", \")\", \",\", \"\\'v\\'\", \")\"], \"docstring\": \"Extracts video ID from URL.\", \"docstring_tokens\": [\"Extracts\", \"video\", \"ID\", \"from\", \"URL\", \".\"], \"sha\": \"b746ac01c9f39de94cac2d56f665285b0523b974\", \"url\": \"https://github.com/soimort/you-get/blob/b746ac01c9f39de94cac2d56f665285b0523b974/src/you_get/extractors/youtube.py#L135-L143\", \"partition\": \"test\"}\\n'"
            ]
          },
          "metadata": {
            "tags": []
          },
          "execution_count": 11
        }
      ]
    },
    {
      "cell_type": "code",
      "metadata": {
        "id": "New3p_hNeOEL",
        "colab_type": "code",
        "colab": {
          "base_uri": "https://localhost:8080/",
          "height": 1000
        },
        "outputId": "37034090-2bb4-4c1d-88f1-7bb4598c0f6a"
      },
      "source": [
        "# We can utilize the fact that each line in the file is valid json, and display the first row in a more human readable form\n",
        "pprint(json.loads(sample_file[0]))"
      ],
      "execution_count": 19,
      "outputs": [
        {
          "output_type": "stream",
          "text": [
            "{'code': 'def get_vid_from_url(url):\\n'\n",
            "         '        \"\"\"Extracts video ID from URL.\\n'\n",
            "         '        \"\"\"\\n'\n",
            "         \"        return match1(url, r'youtu\\\\.be/([^?/]+)') or \\\\\\n\"\n",
            "         \"          match1(url, r'youtube\\\\.com/embed/([^/?]+)') or \\\\\\n\"\n",
            "         \"          match1(url, r'youtube\\\\.com/v/([^/?]+)') or \\\\\\n\"\n",
            "         \"          match1(url, r'youtube\\\\.com/watch/([^/?]+)') or \\\\\\n\"\n",
            "         \"          parse_query_param(url, 'v') or \\\\\\n\"\n",
            "         \"          parse_query_param(parse_query_param(url, 'u'), 'v')\",\n",
            " 'code_tokens': ['def',\n",
            "                 'get_vid_from_url',\n",
            "                 '(',\n",
            "                 'url',\n",
            "                 ')',\n",
            "                 ':',\n",
            "                 'return',\n",
            "                 'match1',\n",
            "                 '(',\n",
            "                 'url',\n",
            "                 ',',\n",
            "                 \"r'youtu\\\\.be/([^?/]+)'\",\n",
            "                 ')',\n",
            "                 'or',\n",
            "                 'match1',\n",
            "                 '(',\n",
            "                 'url',\n",
            "                 ',',\n",
            "                 \"r'youtube\\\\.com/embed/([^/?]+)'\",\n",
            "                 ')',\n",
            "                 'or',\n",
            "                 'match1',\n",
            "                 '(',\n",
            "                 'url',\n",
            "                 ',',\n",
            "                 \"r'youtube\\\\.com/v/([^/?]+)'\",\n",
            "                 ')',\n",
            "                 'or',\n",
            "                 'match1',\n",
            "                 '(',\n",
            "                 'url',\n",
            "                 ',',\n",
            "                 \"r'youtube\\\\.com/watch/([^/?]+)'\",\n",
            "                 ')',\n",
            "                 'or',\n",
            "                 'parse_query_param',\n",
            "                 '(',\n",
            "                 'url',\n",
            "                 ',',\n",
            "                 \"'v'\",\n",
            "                 ')',\n",
            "                 'or',\n",
            "                 'parse_query_param',\n",
            "                 '(',\n",
            "                 'parse_query_param',\n",
            "                 '(',\n",
            "                 'url',\n",
            "                 ',',\n",
            "                 \"'u'\",\n",
            "                 ')',\n",
            "                 ',',\n",
            "                 \"'v'\",\n",
            "                 ')'],\n",
            " 'docstring': 'Extracts video ID from URL.',\n",
            " 'docstring_tokens': ['Extracts', 'video', 'ID', 'from', 'URL', '.'],\n",
            " 'func_name': 'YouTube.get_vid_from_url',\n",
            " 'language': 'python',\n",
            " 'original_string': 'def get_vid_from_url(url):\\n'\n",
            "                    '        \"\"\"Extracts video ID from URL.\\n'\n",
            "                    '        \"\"\"\\n'\n",
            "                    \"        return match1(url, r'youtu\\\\.be/([^?/]+)') or \\\\\\n\"\n",
            "                    \"          match1(url, r'youtube\\\\.com/embed/([^/?]+)') or \"\n",
            "                    '\\\\\\n'\n",
            "                    \"          match1(url, r'youtube\\\\.com/v/([^/?]+)') or \\\\\\n\"\n",
            "                    \"          match1(url, r'youtube\\\\.com/watch/([^/?]+)') or \"\n",
            "                    '\\\\\\n'\n",
            "                    \"          parse_query_param(url, 'v') or \\\\\\n\"\n",
            "                    \"          parse_query_param(parse_query_param(url, 'u'), \"\n",
            "                    \"'v')\",\n",
            " 'partition': 'test',\n",
            " 'path': 'src/you_get/extractors/youtube.py',\n",
            " 'repo': 'soimort/you-get',\n",
            " 'sha': 'b746ac01c9f39de94cac2d56f665285b0523b974',\n",
            " 'url': 'https://github.com/soimort/you-get/blob/b746ac01c9f39de94cac2d56f665285b0523b974/src/you_get/extractors/youtube.py#L135-L143'}\n"
          ],
          "name": "stdout"
        }
      ]
    },
    {
      "cell_type": "code",
      "metadata": {
        "id": "dcxXTIRgeZeT",
        "colab_type": "code",
        "colab": {}
      },
      "source": [
        ""
      ],
      "execution_count": 0,
      "outputs": []
    }
  ]
}