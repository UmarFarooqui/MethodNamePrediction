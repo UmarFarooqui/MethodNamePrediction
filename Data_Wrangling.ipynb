{
  "nbformat": 4,
  "nbformat_minor": 0,
  "metadata": {
    "colab": {
      "name": "Data_Wrangling.ipynb",
      "provenance": [],
      "collapsed_sections": [],
      "include_colab_link": true
    },
    "kernelspec": {
      "name": "python3",
      "display_name": "Python 3"
    }
  },
  "cells": [
    {
      "cell_type": "markdown",
      "metadata": {
        "id": "view-in-github",
        "colab_type": "text"
      },
      "source": [
        "<a href=\"https://colab.research.google.com/github/UmarFarooqui/Springboard/blob/master/Data_Wrangling.ipynb\" target=\"_parent\"><img src=\"https://colab.research.google.com/assets/colab-badge.svg\" alt=\"Open In Colab\"/></a>"
      ]
    },
    {
      "cell_type": "code",
      "metadata": {
        "id": "bZHSpPRZe6S8",
        "colab_type": "code",
        "colab": {}
      },
      "source": [
        "from pprint import pprint\n",
        "import json\n",
        "from pathlib import Path\n",
        "import pandas as pd\n",
        "import requests\n",
        "from google.colab import files"
      ],
      "execution_count": 0,
      "outputs": []
    },
    {
      "cell_type": "code",
      "metadata": {
        "id": "0BVqz5V0Xymp",
        "colab_type": "code",
        "outputId": "4bb09b03-5a75-443b-aeb2-17db938cc8b5",
        "colab": {
          "base_uri": "https://localhost:8080/",
          "height": 122
        }
      },
      "source": [
        "# Mounting the google drive\n",
        "from google.colab import drive\n",
        "drive.mount('/content/drive')"
      ],
      "execution_count": 4,
      "outputs": [
        {
          "output_type": "stream",
          "text": [
            "Go to this URL in a browser: https://accounts.google.com/o/oauth2/auth?client_id=947318989803-6bn6qk8qdgf4n4g3pfee6491hc0brc4i.apps.googleusercontent.com&redirect_uri=urn%3Aietf%3Awg%3Aoauth%3A2.0%3Aoob&scope=email%20https%3A%2F%2Fwww.googleapis.com%2Fauth%2Fdocs.test%20https%3A%2F%2Fwww.googleapis.com%2Fauth%2Fdrive%20https%3A%2F%2Fwww.googleapis.com%2Fauth%2Fdrive.photos.readonly%20https%3A%2F%2Fwww.googleapis.com%2Fauth%2Fpeopleapi.readonly&response_type=code\n",
            "\n",
            "Enter your authorization code:\n",
            "··········\n",
            "Mounted at /content/drive\n"
          ],
          "name": "stdout"
        }
      ]
    },
    {
      "cell_type": "code",
      "metadata": {
        "id": "2Cyo08SEacmY",
        "colab_type": "code",
        "outputId": "dc07e0e9-3de6-4ae6-cae5-52d74007f24e",
        "colab": {
          "base_uri": "https://localhost:8080/",
          "height": 34
        }
      },
      "source": [
        "# Uploaded the dataset to google drive. Checking.\n",
        "!ls \"/content/drive/My Drive/data\""
      ],
      "execution_count": 5,
      "outputs": [
        {
          "output_type": "stream",
          "text": [
            "codesearchnet_python.zip\n"
          ],
          "name": "stdout"
        }
      ]
    },
    {
      "cell_type": "code",
      "metadata": {
        "id": "PkNaFKp9c3D7",
        "colab_type": "code",
        "outputId": "9911c21d-fa84-4296-8bb3-00cbc4b6e366",
        "colab": {
          "base_uri": "https://localhost:8080/",
          "height": 442
        }
      },
      "source": [
        "!unzip \"/content/drive/My Drive/data/codesearchnet_python.zip\""
      ],
      "execution_count": 6,
      "outputs": [
        {
          "output_type": "stream",
          "text": [
            "Archive:  /content/drive/My Drive/data/codesearchnet_python.zip\n",
            "   creating: python/\n",
            "   creating: python/final/\n",
            "   creating: python/final/jsonl/\n",
            "   creating: python/final/jsonl/train/\n",
            "  inflating: python/final/jsonl/train/python_train_9.jsonl.gz  \n",
            "  inflating: python/final/jsonl/train/python_train_12.jsonl.gz  \n",
            "  inflating: python/final/jsonl/train/python_train_10.jsonl.gz  \n",
            "  inflating: python/final/jsonl/train/python_train_0.jsonl.gz  \n",
            "  inflating: python/final/jsonl/train/python_train_6.jsonl.gz  \n",
            "  inflating: python/final/jsonl/train/python_train_2.jsonl.gz  \n",
            "  inflating: python/final/jsonl/train/python_train_4.jsonl.gz  \n",
            "  inflating: python/final/jsonl/train/python_train_8.jsonl.gz  \n",
            "  inflating: python/final/jsonl/train/python_train_11.jsonl.gz  \n",
            "  inflating: python/final/jsonl/train/python_train_5.jsonl.gz  \n",
            "  inflating: python/final/jsonl/train/python_train_13.jsonl.gz  \n",
            "  inflating: python/final/jsonl/train/python_train_3.jsonl.gz  \n",
            "  inflating: python/final/jsonl/train/python_train_1.jsonl.gz  \n",
            "  inflating: python/final/jsonl/train/python_train_7.jsonl.gz  \n",
            "   creating: python/final/jsonl/test/\n",
            "  inflating: python/final/jsonl/test/python_test_0.jsonl.gz  \n",
            "   creating: python/final/jsonl/valid/\n",
            "  inflating: python/final/jsonl/valid/python_valid_0.jsonl.gz  \n",
            "  inflating: python_dedupe_definitions_v2.pkl  \n",
            "  inflating: python_licenses.pkl     \n"
          ],
          "name": "stdout"
        }
      ]
    },
    {
      "cell_type": "code",
      "metadata": {
        "id": "dcxXTIRgeZeT",
        "colab_type": "code",
        "colab": {}
      },
      "source": [
        "# Exploring the full dataset\n",
        "python_files = sorted(Path('python/').glob('**/*.gz'))"
      ],
      "execution_count": 0,
      "outputs": []
    },
    {
      "cell_type": "code",
      "metadata": {
        "id": "J6J_UNP9xhiJ",
        "colab_type": "code",
        "outputId": "45b51363-7d58-4665-fa58-961c32b45fde",
        "colab": {
          "base_uri": "https://localhost:8080/",
          "height": 289
        }
      },
      "source": [
        "python_files"
      ],
      "execution_count": 8,
      "outputs": [
        {
          "output_type": "execute_result",
          "data": {
            "text/plain": [
              "[PosixPath('python/final/jsonl/test/python_test_0.jsonl.gz'),\n",
              " PosixPath('python/final/jsonl/train/python_train_0.jsonl.gz'),\n",
              " PosixPath('python/final/jsonl/train/python_train_1.jsonl.gz'),\n",
              " PosixPath('python/final/jsonl/train/python_train_10.jsonl.gz'),\n",
              " PosixPath('python/final/jsonl/train/python_train_11.jsonl.gz'),\n",
              " PosixPath('python/final/jsonl/train/python_train_12.jsonl.gz'),\n",
              " PosixPath('python/final/jsonl/train/python_train_13.jsonl.gz'),\n",
              " PosixPath('python/final/jsonl/train/python_train_2.jsonl.gz'),\n",
              " PosixPath('python/final/jsonl/train/python_train_3.jsonl.gz'),\n",
              " PosixPath('python/final/jsonl/train/python_train_4.jsonl.gz'),\n",
              " PosixPath('python/final/jsonl/train/python_train_5.jsonl.gz'),\n",
              " PosixPath('python/final/jsonl/train/python_train_6.jsonl.gz'),\n",
              " PosixPath('python/final/jsonl/train/python_train_7.jsonl.gz'),\n",
              " PosixPath('python/final/jsonl/train/python_train_8.jsonl.gz'),\n",
              " PosixPath('python/final/jsonl/train/python_train_9.jsonl.gz'),\n",
              " PosixPath('python/final/jsonl/valid/python_valid_0.jsonl.gz')]"
            ]
          },
          "metadata": {
            "tags": []
          },
          "execution_count": 8
        }
      ]
    },
    {
      "cell_type": "code",
      "metadata": {
        "id": "MIMzWL-bxwx-",
        "colab_type": "code",
        "outputId": "465b139f-0185-4feb-aad6-68d3bb9230db",
        "colab": {
          "base_uri": "https://localhost:8080/",
          "height": 34
        }
      },
      "source": [
        "print(f'Total number of files: {len(python_files)}')"
      ],
      "execution_count": 9,
      "outputs": [
        {
          "output_type": "stream",
          "text": [
            "Total number of files: 16\n"
          ],
          "name": "stdout"
        }
      ]
    },
    {
      "cell_type": "code",
      "metadata": {
        "id": "zAAGuPgJzKFC",
        "colab_type": "code",
        "colab": {}
      },
      "source": [
        "columns_list = ['repo', 'path', 'url', 'func_name', 'code', 'code_tokens', 'docstring', 'docstring_tokens']"
      ],
      "execution_count": 0,
      "outputs": []
    },
    {
      "cell_type": "code",
      "metadata": {
        "id": "MPuHC-fZztIS",
        "colab_type": "code",
        "colab": {}
      },
      "source": [
        "def jsonl_list_to_dataframe(file_list, columns=columns_list):\n",
        "  \"\"\"Load a list of jsonl.gz files into a pandas dataframe.\"\"\"\n",
        "  return pd.concat([pd.read_json(f, orient='records', compression='gzip', lines=True)[columns] for f in file_list], sort=False) "
      ],
      "execution_count": 0,
      "outputs": []
    },
    {
      "cell_type": "code",
      "metadata": {
        "id": "3ySkokME0cd6",
        "colab_type": "code",
        "colab": {}
      },
      "source": [
        "pydf = jsonl_list_to_dataframe(python_files)"
      ],
      "execution_count": 0,
      "outputs": []
    },
    {
      "cell_type": "code",
      "metadata": {
        "id": "NHtXH6QQ0inj",
        "colab_type": "code",
        "outputId": "54318c73-6236-45f4-97d6-ce594b298d70",
        "colab": {
          "base_uri": "https://localhost:8080/",
          "height": 193
        }
      },
      "source": [
        "pydf.head(3)"
      ],
      "execution_count": 14,
      "outputs": [
        {
          "output_type": "execute_result",
          "data": {
            "text/html": [
              "<div>\n",
              "<style scoped>\n",
              "    .dataframe tbody tr th:only-of-type {\n",
              "        vertical-align: middle;\n",
              "    }\n",
              "\n",
              "    .dataframe tbody tr th {\n",
              "        vertical-align: top;\n",
              "    }\n",
              "\n",
              "    .dataframe thead th {\n",
              "        text-align: right;\n",
              "    }\n",
              "</style>\n",
              "<table border=\"1\" class=\"dataframe\">\n",
              "  <thead>\n",
              "    <tr style=\"text-align: right;\">\n",
              "      <th></th>\n",
              "      <th>repo</th>\n",
              "      <th>path</th>\n",
              "      <th>url</th>\n",
              "      <th>func_name</th>\n",
              "      <th>code</th>\n",
              "      <th>code_tokens</th>\n",
              "      <th>docstring</th>\n",
              "      <th>docstring_tokens</th>\n",
              "    </tr>\n",
              "  </thead>\n",
              "  <tbody>\n",
              "    <tr>\n",
              "      <th>0</th>\n",
              "      <td>soimort/you-get</td>\n",
              "      <td>src/you_get/extractors/youtube.py</td>\n",
              "      <td>https://github.com/soimort/you-get/blob/b746ac...</td>\n",
              "      <td>YouTube.get_vid_from_url</td>\n",
              "      <td>def get_vid_from_url(url):\\n        \"\"\"Extract...</td>\n",
              "      <td>[def, get_vid_from_url, (, url, ), :, return, ...</td>\n",
              "      <td>Extracts video ID from URL.</td>\n",
              "      <td>[Extracts, video, ID, from, URL, .]</td>\n",
              "    </tr>\n",
              "    <tr>\n",
              "      <th>1</th>\n",
              "      <td>soimort/you-get</td>\n",
              "      <td>src/you_get/extractors/miomio.py</td>\n",
              "      <td>https://github.com/soimort/you-get/blob/b746ac...</td>\n",
              "      <td>sina_xml_to_url_list</td>\n",
              "      <td>def sina_xml_to_url_list(xml_data):\\n    \"\"\"st...</td>\n",
              "      <td>[def, sina_xml_to_url_list, (, xml_data, ), :,...</td>\n",
              "      <td>str-&gt;list\\n    Convert XML to URL List.\\n    F...</td>\n",
              "      <td>[str, -, &gt;, list, Convert, XML, to, URL, List,...</td>\n",
              "    </tr>\n",
              "    <tr>\n",
              "      <th>2</th>\n",
              "      <td>soimort/you-get</td>\n",
              "      <td>src/you_get/extractors/fc2video.py</td>\n",
              "      <td>https://github.com/soimort/you-get/blob/b746ac...</td>\n",
              "      <td>makeMimi</td>\n",
              "      <td>def makeMimi(upid):\\n    \"\"\"From http://cdn37....</td>\n",
              "      <td>[def, makeMimi, (, upid, ), :, strSeed, =, \"gG...</td>\n",
              "      <td>From http://cdn37.atwikiimg.com/sitescript/pub...</td>\n",
              "      <td>[From, http, :, //, cdn37, ., atwikiimg, ., co...</td>\n",
              "    </tr>\n",
              "  </tbody>\n",
              "</table>\n",
              "</div>"
            ],
            "text/plain": [
              "              repo  ...                                   docstring_tokens\n",
              "0  soimort/you-get  ...                [Extracts, video, ID, from, URL, .]\n",
              "1  soimort/you-get  ...  [str, -, >, list, Convert, XML, to, URL, List,...\n",
              "2  soimort/you-get  ...  [From, http, :, //, cdn37, ., atwikiimg, ., co...\n",
              "\n",
              "[3 rows x 8 columns]"
            ]
          },
          "metadata": {
            "tags": []
          },
          "execution_count": 14
        }
      ]
    },
    {
      "cell_type": "code",
      "metadata": {
        "id": "R_f038v-1LL0",
        "colab_type": "code",
        "outputId": "0cab52c7-af4c-4e1b-cd74-0fec65ed84f5",
        "colab": {
          "base_uri": "https://localhost:8080/",
          "height": 238
        }
      },
      "source": [
        "# The columns which will be used for our purpose would be func_name, code, code_tokens, docstring, docstring_tokens\n",
        "pydf.groupby(['repo'])['code'].count()"
      ],
      "execution_count": 15,
      "outputs": [
        {
          "output_type": "execute_result",
          "data": {
            "text/plain": [
              "repo\n",
              "0101/pipetools                   12\n",
              "02strich/django-auth-kerberos     1\n",
              "05bit/peewee-async               42\n",
              "0compute/xtraceback               2\n",
              "0k/kids.cache                     4\n",
              "                                 ..\n",
              "zyga/python-glibc                32\n",
              "zyga/python-phablet               6\n",
              "zzyztyy/pyIGRF                    6\n",
              "zzzsochi/includer                 2\n",
              "zzzsochi/resolver_deco            1\n",
              "Name: code, Length: 13590, dtype: int64"
            ]
          },
          "metadata": {
            "tags": []
          },
          "execution_count": 15
        }
      ]
    },
    {
      "cell_type": "code",
      "metadata": {
        "id": "SoE9mDnB7LDJ",
        "colab_type": "code",
        "colab": {
          "base_uri": "https://localhost:8080/",
          "height": 34
        },
        "outputId": "d24866e2-30bc-49e6-e960-33f185884322"
      },
      "source": [
        "# As a starting point we will use the repos with a high star count\n",
        "# Example of how to do it\n",
        "url = 'http://api.github.com/repos/'\n",
        "repo_name = '0101/pipetools'\n",
        "r = requests.get(url + repo_name)\n",
        "r_json = r.json()\n",
        "r_json['stargazers_count']"
      ],
      "execution_count": 16,
      "outputs": [
        {
          "output_type": "execute_result",
          "data": {
            "text/plain": [
              "81"
            ]
          },
          "metadata": {
            "tags": []
          },
          "execution_count": 16
        }
      ]
    },
    {
      "cell_type": "code",
      "metadata": {
        "id": "heKZTqdKCbhW",
        "colab_type": "code",
        "outputId": "e2070e7d-3308-442a-bf59-db7c636f4bc5",
        "colab": {
          "base_uri": "https://localhost:8080/",
          "height": 34
        }
      },
      "source": [
        "# Now we will add this as the last column in our dataframe\n",
        "# First check if we have no null values in the repo column\n",
        "pydf.repo.isnull().any()"
      ],
      "execution_count": 17,
      "outputs": [
        {
          "output_type": "execute_result",
          "data": {
            "text/plain": [
              "False"
            ]
          },
          "metadata": {
            "tags": []
          },
          "execution_count": 17
        }
      ]
    },
    {
      "cell_type": "code",
      "metadata": {
        "id": "fle1H_cbDH9-",
        "colab_type": "code",
        "outputId": "616b330f-6094-4cb5-dcaf-8997fd397044",
        "colab": {
          "base_uri": "https://localhost:8080/",
          "height": 49
        }
      },
      "source": [
        "pydf[pydf['repo'] == '']"
      ],
      "execution_count": 18,
      "outputs": [
        {
          "output_type": "execute_result",
          "data": {
            "text/html": [
              "<div>\n",
              "<style scoped>\n",
              "    .dataframe tbody tr th:only-of-type {\n",
              "        vertical-align: middle;\n",
              "    }\n",
              "\n",
              "    .dataframe tbody tr th {\n",
              "        vertical-align: top;\n",
              "    }\n",
              "\n",
              "    .dataframe thead th {\n",
              "        text-align: right;\n",
              "    }\n",
              "</style>\n",
              "<table border=\"1\" class=\"dataframe\">\n",
              "  <thead>\n",
              "    <tr style=\"text-align: right;\">\n",
              "      <th></th>\n",
              "      <th>repo</th>\n",
              "      <th>path</th>\n",
              "      <th>url</th>\n",
              "      <th>func_name</th>\n",
              "      <th>code</th>\n",
              "      <th>code_tokens</th>\n",
              "      <th>docstring</th>\n",
              "      <th>docstring_tokens</th>\n",
              "    </tr>\n",
              "  </thead>\n",
              "  <tbody>\n",
              "  </tbody>\n",
              "</table>\n",
              "</div>"
            ],
            "text/plain": [
              "Empty DataFrame\n",
              "Columns: [repo, path, url, func_name, code, code_tokens, docstring, docstring_tokens]\n",
              "Index: []"
            ]
          },
          "metadata": {
            "tags": []
          },
          "execution_count": 18
        }
      ]
    },
    {
      "cell_type": "code",
      "metadata": {
        "id": "i8r22_VXDeN1",
        "colab_type": "code",
        "outputId": "9aa4520f-32a5-4870-e4b8-cfc35ae5c1c1",
        "colab": {
          "base_uri": "https://localhost:8080/",
          "height": 238
        }
      },
      "source": [
        "# So looks like the repo column is having no null values or empty string\n",
        "# Taking a look at the dataframe\n",
        "pydf.info()"
      ],
      "execution_count": 19,
      "outputs": [
        {
          "output_type": "stream",
          "text": [
            "<class 'pandas.core.frame.DataFrame'>\n",
            "Int64Index: 457461 entries, 0 to 23106\n",
            "Data columns (total 8 columns):\n",
            "repo                457461 non-null object\n",
            "path                457461 non-null object\n",
            "url                 457461 non-null object\n",
            "func_name           457461 non-null object\n",
            "code                457461 non-null object\n",
            "code_tokens         457461 non-null object\n",
            "docstring           457461 non-null object\n",
            "docstring_tokens    457461 non-null object\n",
            "dtypes: object(8)\n",
            "memory usage: 31.4+ MB\n"
          ],
          "name": "stdout"
        }
      ]
    },
    {
      "cell_type": "code",
      "metadata": {
        "id": "WZ4xKxx3D0w9",
        "colab_type": "code",
        "outputId": "b7b18a43-aa62-47fc-b891-ba762d4def7f",
        "colab": {
          "base_uri": "https://localhost:8080/",
          "height": 34
        }
      },
      "source": [
        "# Looks like we have no null values\n",
        "# Length of the dataframe\n",
        "len(pydf)"
      ],
      "execution_count": 20,
      "outputs": [
        {
          "output_type": "execute_result",
          "data": {
            "text/plain": [
              "457461"
            ]
          },
          "metadata": {
            "tags": []
          },
          "execution_count": 20
        }
      ]
    },
    {
      "cell_type": "code",
      "metadata": {
        "id": "Gzjcg__kEOdu",
        "colab_type": "code",
        "outputId": "53a4f1db-e02a-42da-84e5-26f2463d3b01",
        "colab": {
          "base_uri": "https://localhost:8080/",
          "height": 221
        }
      },
      "source": [
        "# So we have 0.45M samples, we will increase our dataset if we need to by exploring more repos.\n",
        "unique_repo_name_series = pydf.repo.drop_duplicates()\n",
        "unique_repo_name_series"
      ],
      "execution_count": 21,
      "outputs": [
        {
          "output_type": "execute_result",
          "data": {
            "text/plain": [
              "0                       soimort/you-get\n",
              "52                       apache/airflow\n",
              "849                      pytorch/vision\n",
              "900                      asciimoo/searx\n",
              "910              tensorflow/probability\n",
              "                      ...              \n",
              "23018           praekelt/python-ambient\n",
              "23024                   zenreach/py-era\n",
              "23090    TakesxiSximada/custom_settings\n",
              "23095              openpermissions/bass\n",
              "23099                 xnuinside/clifier\n",
              "Name: repo, Length: 13590, dtype: object"
            ]
          },
          "metadata": {
            "tags": []
          },
          "execution_count": 21
        }
      ]
    },
    {
      "cell_type": "code",
      "metadata": {
        "id": "Ta0zP4DFFSlX",
        "colab_type": "code",
        "colab": {
          "base_uri": "https://localhost:8080/",
          "height": 214
        },
        "outputId": "77f649ec-661a-4bc1-eca8-b883a975f060"
      },
      "source": [
        "# Turns out that for API request, we can only make up to 5000 request per hour\n",
        "# So, I will not do this for now and explore other means to get the star information\n",
        "repo_star_map = {}\n",
        "first_4000_unique_repo_name_series = unique_repo_name_series[:4000]\n",
        "for index, repo_name in first_4000_unique_repo_name_series.items():\n",
        "  r = requests.get(url + repo_name)\n",
        "  r_json = r.json()\n",
        "  if r_json['stargazers_count']:\n",
        "    repo_star_map[repo_name] = r_json['stargazers_count']"
      ],
      "execution_count": 23,
      "outputs": [
        {
          "output_type": "error",
          "ename": "KeyError",
          "evalue": "ignored",
          "traceback": [
            "\u001b[0;31m---------------------------------------------------------------------------\u001b[0m",
            "\u001b[0;31mKeyError\u001b[0m                                  Traceback (most recent call last)",
            "\u001b[0;32m<ipython-input-23-d09dcf472027>\u001b[0m in \u001b[0;36m<module>\u001b[0;34m()\u001b[0m\n\u001b[1;32m      4\u001b[0m   \u001b[0mr\u001b[0m \u001b[0;34m=\u001b[0m \u001b[0mrequests\u001b[0m\u001b[0;34m.\u001b[0m\u001b[0mget\u001b[0m\u001b[0;34m(\u001b[0m\u001b[0murl\u001b[0m \u001b[0;34m+\u001b[0m \u001b[0mrepo_name\u001b[0m\u001b[0;34m)\u001b[0m\u001b[0;34m\u001b[0m\u001b[0;34m\u001b[0m\u001b[0m\n\u001b[1;32m      5\u001b[0m   \u001b[0mr_json\u001b[0m \u001b[0;34m=\u001b[0m \u001b[0mr\u001b[0m\u001b[0;34m.\u001b[0m\u001b[0mjson\u001b[0m\u001b[0;34m(\u001b[0m\u001b[0;34m)\u001b[0m\u001b[0;34m\u001b[0m\u001b[0;34m\u001b[0m\u001b[0m\n\u001b[0;32m----> 6\u001b[0;31m   \u001b[0;32mif\u001b[0m \u001b[0mr_json\u001b[0m\u001b[0;34m[\u001b[0m\u001b[0;34m'stargazers_count'\u001b[0m\u001b[0;34m]\u001b[0m\u001b[0;34m:\u001b[0m\u001b[0;34m\u001b[0m\u001b[0;34m\u001b[0m\u001b[0m\n\u001b[0m\u001b[1;32m      7\u001b[0m     \u001b[0mrepo_star_map\u001b[0m\u001b[0;34m[\u001b[0m\u001b[0mrepo_name\u001b[0m\u001b[0;34m]\u001b[0m \u001b[0;34m=\u001b[0m \u001b[0mr_json\u001b[0m\u001b[0;34m[\u001b[0m\u001b[0;34m'stargazers_count'\u001b[0m\u001b[0;34m]\u001b[0m\u001b[0;34m\u001b[0m\u001b[0;34m\u001b[0m\u001b[0m\n",
            "\u001b[0;31mKeyError\u001b[0m: 'stargazers_count'"
          ]
        }
      ]
    },
    {
      "cell_type": "code",
      "metadata": {
        "id": "12tw50JeNarm",
        "colab_type": "code",
        "outputId": "cf2f8999-7c90-4293-b44c-a3d3da072e40",
        "colab": {
          "base_uri": "https://localhost:8080/",
          "height": 986
        }
      },
      "source": [
        "repo_star_map"
      ],
      "execution_count": 24,
      "outputs": [
        {
          "output_type": "execute_result",
          "data": {
            "text/plain": [
              "{'3DLIRIOUS/MeshLabXML': 117,\n",
              " 'Azure/azure-sdk-for-python': 909,\n",
              " 'CITGuru/PyInquirer': 561,\n",
              " 'Danielhiversen/PyXiaomiGateway': 102,\n",
              " 'Microsoft/botbuilder-python': 265,\n",
              " 'Nekmo/amazon-dash': 567,\n",
              " 'PyCQA/pylint': 2417,\n",
              " 'Qiskit/qiskit-terra': 2634,\n",
              " 'SectorLabs/django-postgres-extra': 254,\n",
              " 'Tivix/django-rest-auth': 1848,\n",
              " 'alpacahq/alpaca-trade-api-python': 224,\n",
              " 'ansible/ansible-lint': 1859,\n",
              " 'apache/airflow': 14535,\n",
              " 'asciimoo/searx': 5598,\n",
              " 'bloomreach/s4cmd': 929,\n",
              " 'bluedisk/hangul-toolkit': 154,\n",
              " 'celiao/tmdbsimple': 250,\n",
              " 'chaoss/grimoirelab-perceval': 140,\n",
              " 'dagster-io/dagster': 983,\n",
              " 'deepmipt/DeepPavlov': 3668,\n",
              " 'ekzhu/datasketch': 1087,\n",
              " 'geopython/OWSLib': 187,\n",
              " 'google/brotli': 7916,\n",
              " 'google/gin-config': 581,\n",
              " 'graphql-python/graphene-sqlalchemy': 603,\n",
              " 'h2oai/h2o-3': 4434,\n",
              " 'howie6879/ruia': 1028,\n",
              " 'instagrambot/instabot': 2705,\n",
              " 'intel-analytics/BigDL': 3182,\n",
              " 'kennethreitz/twitter-scraper': 1886,\n",
              " 'lensacom/sparkit-learn': 989,\n",
              " 'lepture/flask-oauthlib': 1384,\n",
              " 'librosa/librosa': 3115,\n",
              " 'maxcountryman/flask-uploads': 144,\n",
              " 'mopidy/mopidy-spotify': 626,\n",
              " 'mordred-descriptor/mordred': 75,\n",
              " 'mozilla-iot/webthing-python': 127,\n",
              " 'nesdis/djongo': 713,\n",
              " 'nvdv/vprof': 3545,\n",
              " 'open-mmlab/mmcv': 1172,\n",
              " 'pltrdy/rouge': 208,\n",
              " 'pyca/pyopenssl': 626,\n",
              " 'pydanny/cookiecutter-django': 6003,\n",
              " 'python/performance': 289,\n",
              " 'pytorch/vision': 4840,\n",
              " 'ralphbean/bugwarrior': 444,\n",
              " 'rollbar/pyrollbar': 158,\n",
              " 'rsennrich/Bleualign': 146,\n",
              " 'savoirfairelinux/num2words': 302,\n",
              " 'scrapinghub/dateparser': 1331,\n",
              " 'soimort/you-get': 27926,\n",
              " 'streamlink/streamlink': 3985,\n",
              " 'tensorflow/probability': 2543,\n",
              " 'vaexio/vaex': 1722,\n",
              " 'williamFalcon/test-tube': 511,\n",
              " 'yandex/yandex-tank': 1780,\n",
              " 'zqfang/GSEApy': 123}"
            ]
          },
          "metadata": {
            "tags": []
          },
          "execution_count": 24
        }
      ]
    },
    {
      "cell_type": "code",
      "metadata": {
        "id": "Uz_6Bqw4V8Mo",
        "colab_type": "code",
        "colab": {}
      },
      "source": [
        "# Persisting the dataframe containing star information for the repositories\n",
        "with open('repository_star_info.json', 'w') as outfile:\n",
        "  json.dump(repo_star_map, outfile)\n",
        "files.download('repository_star_info.json')"
      ],
      "execution_count": 0,
      "outputs": []
    },
    {
      "cell_type": "code",
      "metadata": {
        "id": "iQLau5TCY3-F",
        "colab_type": "code",
        "colab": {
          "base_uri": "https://localhost:8080/",
          "height": 34
        },
        "outputId": "cc35d67f-e9b1-488b-c7ef-967bb0ebb41d"
      },
      "source": [
        "# Uploaded the downloaded file to the gdrive, checking if the system recognizes it\n",
        "!ls \"/content/drive/My Drive/data\""
      ],
      "execution_count": 37,
      "outputs": [
        {
          "output_type": "stream",
          "text": [
            "codesearchnet_python.zip  repository_star_info.json\n"
          ],
          "name": "stdout"
        }
      ]
    },
    {
      "cell_type": "code",
      "metadata": {
        "id": "YsLkeqmdZNez",
        "colab_type": "code",
        "colab": {
          "base_uri": "https://localhost:8080/",
          "height": 986
        },
        "outputId": "309f231c-7658-4ec0-c52d-e3ea8e7ebcaf"
      },
      "source": [
        "# Reading the json from the file\n",
        "with open('repository_star_info.json') as json_file:\n",
        "  repository_metadata_info = json.load(json_file)\n",
        "repository_metadata_info"
      ],
      "execution_count": 38,
      "outputs": [
        {
          "output_type": "execute_result",
          "data": {
            "text/plain": [
              "{'3DLIRIOUS/MeshLabXML': 117,\n",
              " 'Azure/azure-sdk-for-python': 909,\n",
              " 'CITGuru/PyInquirer': 561,\n",
              " 'Danielhiversen/PyXiaomiGateway': 102,\n",
              " 'Microsoft/botbuilder-python': 265,\n",
              " 'Nekmo/amazon-dash': 567,\n",
              " 'PyCQA/pylint': 2417,\n",
              " 'Qiskit/qiskit-terra': 2634,\n",
              " 'SectorLabs/django-postgres-extra': 254,\n",
              " 'Tivix/django-rest-auth': 1848,\n",
              " 'alpacahq/alpaca-trade-api-python': 224,\n",
              " 'ansible/ansible-lint': 1859,\n",
              " 'apache/airflow': 14535,\n",
              " 'asciimoo/searx': 5598,\n",
              " 'bloomreach/s4cmd': 929,\n",
              " 'bluedisk/hangul-toolkit': 154,\n",
              " 'celiao/tmdbsimple': 250,\n",
              " 'chaoss/grimoirelab-perceval': 140,\n",
              " 'dagster-io/dagster': 983,\n",
              " 'deepmipt/DeepPavlov': 3668,\n",
              " 'ekzhu/datasketch': 1087,\n",
              " 'geopython/OWSLib': 187,\n",
              " 'google/brotli': 7916,\n",
              " 'google/gin-config': 581,\n",
              " 'graphql-python/graphene-sqlalchemy': 603,\n",
              " 'h2oai/h2o-3': 4434,\n",
              " 'howie6879/ruia': 1028,\n",
              " 'instagrambot/instabot': 2705,\n",
              " 'intel-analytics/BigDL': 3182,\n",
              " 'kennethreitz/twitter-scraper': 1886,\n",
              " 'lensacom/sparkit-learn': 989,\n",
              " 'lepture/flask-oauthlib': 1384,\n",
              " 'librosa/librosa': 3115,\n",
              " 'maxcountryman/flask-uploads': 144,\n",
              " 'mopidy/mopidy-spotify': 626,\n",
              " 'mordred-descriptor/mordred': 75,\n",
              " 'mozilla-iot/webthing-python': 127,\n",
              " 'nesdis/djongo': 713,\n",
              " 'nvdv/vprof': 3545,\n",
              " 'open-mmlab/mmcv': 1172,\n",
              " 'pltrdy/rouge': 208,\n",
              " 'pyca/pyopenssl': 626,\n",
              " 'pydanny/cookiecutter-django': 6003,\n",
              " 'python/performance': 289,\n",
              " 'pytorch/vision': 4840,\n",
              " 'ralphbean/bugwarrior': 444,\n",
              " 'rollbar/pyrollbar': 158,\n",
              " 'rsennrich/Bleualign': 146,\n",
              " 'savoirfairelinux/num2words': 302,\n",
              " 'scrapinghub/dateparser': 1331,\n",
              " 'soimort/you-get': 27926,\n",
              " 'streamlink/streamlink': 3985,\n",
              " 'tensorflow/probability': 2543,\n",
              " 'vaexio/vaex': 1722,\n",
              " 'williamFalcon/test-tube': 511,\n",
              " 'yandex/yandex-tank': 1780,\n",
              " 'zqfang/GSEApy': 123}"
            ]
          },
          "metadata": {
            "tags": []
          },
          "execution_count": 38
        }
      ]
    },
    {
      "cell_type": "code",
      "metadata": {
        "id": "0z1Um4IST6F3",
        "colab_type": "code",
        "outputId": "dc743ceb-c5de-4140-8ce1-cd8d6d721e7e",
        "colab": {
          "base_uri": "https://localhost:8080/",
          "height": 193
        }
      },
      "source": [
        "# Append a column in the pydf dataframe called star that contains the star information we have discovered so far\n",
        "pydf.head(3)"
      ],
      "execution_count": 39,
      "outputs": [
        {
          "output_type": "execute_result",
          "data": {
            "text/html": [
              "<div>\n",
              "<style scoped>\n",
              "    .dataframe tbody tr th:only-of-type {\n",
              "        vertical-align: middle;\n",
              "    }\n",
              "\n",
              "    .dataframe tbody tr th {\n",
              "        vertical-align: top;\n",
              "    }\n",
              "\n",
              "    .dataframe thead th {\n",
              "        text-align: right;\n",
              "    }\n",
              "</style>\n",
              "<table border=\"1\" class=\"dataframe\">\n",
              "  <thead>\n",
              "    <tr style=\"text-align: right;\">\n",
              "      <th></th>\n",
              "      <th>repo</th>\n",
              "      <th>path</th>\n",
              "      <th>url</th>\n",
              "      <th>func_name</th>\n",
              "      <th>code</th>\n",
              "      <th>code_tokens</th>\n",
              "      <th>docstring</th>\n",
              "      <th>docstring_tokens</th>\n",
              "    </tr>\n",
              "  </thead>\n",
              "  <tbody>\n",
              "    <tr>\n",
              "      <th>0</th>\n",
              "      <td>soimort/you-get</td>\n",
              "      <td>src/you_get/extractors/youtube.py</td>\n",
              "      <td>https://github.com/soimort/you-get/blob/b746ac...</td>\n",
              "      <td>YouTube.get_vid_from_url</td>\n",
              "      <td>def get_vid_from_url(url):\\n        \"\"\"Extract...</td>\n",
              "      <td>[def, get_vid_from_url, (, url, ), :, return, ...</td>\n",
              "      <td>Extracts video ID from URL.</td>\n",
              "      <td>[Extracts, video, ID, from, URL, .]</td>\n",
              "    </tr>\n",
              "    <tr>\n",
              "      <th>1</th>\n",
              "      <td>soimort/you-get</td>\n",
              "      <td>src/you_get/extractors/miomio.py</td>\n",
              "      <td>https://github.com/soimort/you-get/blob/b746ac...</td>\n",
              "      <td>sina_xml_to_url_list</td>\n",
              "      <td>def sina_xml_to_url_list(xml_data):\\n    \"\"\"st...</td>\n",
              "      <td>[def, sina_xml_to_url_list, (, xml_data, ), :,...</td>\n",
              "      <td>str-&gt;list\\n    Convert XML to URL List.\\n    F...</td>\n",
              "      <td>[str, -, &gt;, list, Convert, XML, to, URL, List,...</td>\n",
              "    </tr>\n",
              "    <tr>\n",
              "      <th>2</th>\n",
              "      <td>soimort/you-get</td>\n",
              "      <td>src/you_get/extractors/fc2video.py</td>\n",
              "      <td>https://github.com/soimort/you-get/blob/b746ac...</td>\n",
              "      <td>makeMimi</td>\n",
              "      <td>def makeMimi(upid):\\n    \"\"\"From http://cdn37....</td>\n",
              "      <td>[def, makeMimi, (, upid, ), :, strSeed, =, \"gG...</td>\n",
              "      <td>From http://cdn37.atwikiimg.com/sitescript/pub...</td>\n",
              "      <td>[From, http, :, //, cdn37, ., atwikiimg, ., co...</td>\n",
              "    </tr>\n",
              "  </tbody>\n",
              "</table>\n",
              "</div>"
            ],
            "text/plain": [
              "              repo  ...                                   docstring_tokens\n",
              "0  soimort/you-get  ...                [Extracts, video, ID, from, URL, .]\n",
              "1  soimort/you-get  ...  [str, -, >, list, Convert, XML, to, URL, List,...\n",
              "2  soimort/you-get  ...  [From, http, :, //, cdn37, ., atwikiimg, ., co...\n",
              "\n",
              "[3 rows x 8 columns]"
            ]
          },
          "metadata": {
            "tags": []
          },
          "execution_count": 39
        }
      ]
    },
    {
      "cell_type": "code",
      "metadata": {
        "id": "eR_SBgnzVXO7",
        "colab_type": "code",
        "outputId": "8a0b8e83-6f03-4a20-92dd-1c1e7cc63667",
        "colab": {
          "base_uri": "https://localhost:8080/",
          "height": 745
        }
      },
      "source": [
        "pydf_with_star = pydf\n",
        "pydf_with_star['star'] = \"\"\n",
        "for index, row in pydf_with_star.iterrows():\n",
        "  if row['repo'] in repository_metadata_info:\n",
        "    row['star'] = repository_metadata_info[row['repo']]\n",
        "pydf_with_star"
      ],
      "execution_count": 41,
      "outputs": [
        {
          "output_type": "execute_result",
          "data": {
            "text/html": [
              "<div>\n",
              "<style scoped>\n",
              "    .dataframe tbody tr th:only-of-type {\n",
              "        vertical-align: middle;\n",
              "    }\n",
              "\n",
              "    .dataframe tbody tr th {\n",
              "        vertical-align: top;\n",
              "    }\n",
              "\n",
              "    .dataframe thead th {\n",
              "        text-align: right;\n",
              "    }\n",
              "</style>\n",
              "<table border=\"1\" class=\"dataframe\">\n",
              "  <thead>\n",
              "    <tr style=\"text-align: right;\">\n",
              "      <th></th>\n",
              "      <th>repo</th>\n",
              "      <th>path</th>\n",
              "      <th>url</th>\n",
              "      <th>func_name</th>\n",
              "      <th>code</th>\n",
              "      <th>code_tokens</th>\n",
              "      <th>docstring</th>\n",
              "      <th>docstring_tokens</th>\n",
              "      <th>star</th>\n",
              "    </tr>\n",
              "  </thead>\n",
              "  <tbody>\n",
              "    <tr>\n",
              "      <th>0</th>\n",
              "      <td>soimort/you-get</td>\n",
              "      <td>src/you_get/extractors/youtube.py</td>\n",
              "      <td>https://github.com/soimort/you-get/blob/b746ac...</td>\n",
              "      <td>YouTube.get_vid_from_url</td>\n",
              "      <td>def get_vid_from_url(url):\\n        \"\"\"Extract...</td>\n",
              "      <td>[def, get_vid_from_url, (, url, ), :, return, ...</td>\n",
              "      <td>Extracts video ID from URL.</td>\n",
              "      <td>[Extracts, video, ID, from, URL, .]</td>\n",
              "      <td>27926</td>\n",
              "    </tr>\n",
              "    <tr>\n",
              "      <th>1</th>\n",
              "      <td>soimort/you-get</td>\n",
              "      <td>src/you_get/extractors/miomio.py</td>\n",
              "      <td>https://github.com/soimort/you-get/blob/b746ac...</td>\n",
              "      <td>sina_xml_to_url_list</td>\n",
              "      <td>def sina_xml_to_url_list(xml_data):\\n    \"\"\"st...</td>\n",
              "      <td>[def, sina_xml_to_url_list, (, xml_data, ), :,...</td>\n",
              "      <td>str-&gt;list\\n    Convert XML to URL List.\\n    F...</td>\n",
              "      <td>[str, -, &gt;, list, Convert, XML, to, URL, List,...</td>\n",
              "      <td>27926</td>\n",
              "    </tr>\n",
              "    <tr>\n",
              "      <th>2</th>\n",
              "      <td>soimort/you-get</td>\n",
              "      <td>src/you_get/extractors/fc2video.py</td>\n",
              "      <td>https://github.com/soimort/you-get/blob/b746ac...</td>\n",
              "      <td>makeMimi</td>\n",
              "      <td>def makeMimi(upid):\\n    \"\"\"From http://cdn37....</td>\n",
              "      <td>[def, makeMimi, (, upid, ), :, strSeed, =, \"gG...</td>\n",
              "      <td>From http://cdn37.atwikiimg.com/sitescript/pub...</td>\n",
              "      <td>[From, http, :, //, cdn37, ., atwikiimg, ., co...</td>\n",
              "      <td>27926</td>\n",
              "    </tr>\n",
              "    <tr>\n",
              "      <th>3</th>\n",
              "      <td>soimort/you-get</td>\n",
              "      <td>src/you_get/extractors/fc2video.py</td>\n",
              "      <td>https://github.com/soimort/you-get/blob/b746ac...</td>\n",
              "      <td>fc2video_download</td>\n",
              "      <td>def fc2video_download(url, output_dir = '.', m...</td>\n",
              "      <td>[def, fc2video_download, (, url, ,, output_dir...</td>\n",
              "      <td>wrapper</td>\n",
              "      <td>[wrapper]</td>\n",
              "      <td>27926</td>\n",
              "    </tr>\n",
              "    <tr>\n",
              "      <th>4</th>\n",
              "      <td>soimort/you-get</td>\n",
              "      <td>src/you_get/extractors/dailymotion.py</td>\n",
              "      <td>https://github.com/soimort/you-get/blob/b746ac...</td>\n",
              "      <td>dailymotion_download</td>\n",
              "      <td>def dailymotion_download(url, output_dir='.', ...</td>\n",
              "      <td>[def, dailymotion_download, (, url, ,, output_...</td>\n",
              "      <td>Downloads Dailymotion videos by URL.</td>\n",
              "      <td>[Downloads, Dailymotion, videos, by, URL, .]</td>\n",
              "      <td>27926</td>\n",
              "    </tr>\n",
              "    <tr>\n",
              "      <th>...</th>\n",
              "      <td>...</td>\n",
              "      <td>...</td>\n",
              "      <td>...</td>\n",
              "      <td>...</td>\n",
              "      <td>...</td>\n",
              "      <td>...</td>\n",
              "      <td>...</td>\n",
              "      <td>...</td>\n",
              "      <td>...</td>\n",
              "    </tr>\n",
              "    <tr>\n",
              "      <th>23102</th>\n",
              "      <td>xnuinside/clifier</td>\n",
              "      <td>clifier/clifier.py</td>\n",
              "      <td>https://github.com/xnuinside/clifier/blob/3d70...</td>\n",
              "      <td>Clifier.show_version</td>\n",
              "      <td>def show_version(self):\\n        \"\"\" custom co...</td>\n",
              "      <td>[def, show_version, (, self, ), :, class, Show...</td>\n",
              "      <td>custom command line  action to show version</td>\n",
              "      <td>[custom, command, line, action, to, show, vers...</td>\n",
              "      <td></td>\n",
              "    </tr>\n",
              "    <tr>\n",
              "      <th>23103</th>\n",
              "      <td>xnuinside/clifier</td>\n",
              "      <td>clifier/clifier.py</td>\n",
              "      <td>https://github.com/xnuinside/clifier/blob/3d70...</td>\n",
              "      <td>Clifier.check_path_action</td>\n",
              "      <td>def check_path_action(self):\\n        \"\"\" cust...</td>\n",
              "      <td>[def, check_path_action, (, self, ), :, class,...</td>\n",
              "      <td>custom command line action to check file exist</td>\n",
              "      <td>[custom, command, line, action, to, check, fil...</td>\n",
              "      <td></td>\n",
              "    </tr>\n",
              "    <tr>\n",
              "      <th>23104</th>\n",
              "      <td>tklovett/PyShirtsIO</td>\n",
              "      <td>interactive_console.py</td>\n",
              "      <td>https://github.com/tklovett/PyShirtsIO/blob/ff...</td>\n",
              "      <td>new_user</td>\n",
              "      <td>def new_user(yaml_path):\\n    '''\\n    Return ...</td>\n",
              "      <td>[def, new_user, (, yaml_path, ), :, print, 'Re...</td>\n",
              "      <td>Return the consumer and oauth tokens with thre...</td>\n",
              "      <td>[Return, the, consumer, and, oauth, tokens, wi...</td>\n",
              "      <td></td>\n",
              "    </tr>\n",
              "    <tr>\n",
              "      <th>23105</th>\n",
              "      <td>ibelie/typy</td>\n",
              "      <td>typy/google/protobuf/internal/python_message.py</td>\n",
              "      <td>https://github.com/ibelie/typy/blob/3616845fb9...</td>\n",
              "      <td>_AddPropertiesForExtensions</td>\n",
              "      <td>def _AddPropertiesForExtensions(descriptor, cl...</td>\n",
              "      <td>[def, _AddPropertiesForExtensions, (, descript...</td>\n",
              "      <td>Adds properties for all fields in this protoco...</td>\n",
              "      <td>[Adds, properties, for, all, fields, in, this,...</td>\n",
              "      <td></td>\n",
              "    </tr>\n",
              "    <tr>\n",
              "      <th>23106</th>\n",
              "      <td>ibelie/typy</td>\n",
              "      <td>typy/google/protobuf/internal/python_message.py</td>\n",
              "      <td>https://github.com/ibelie/typy/blob/3616845fb9...</td>\n",
              "      <td>_InternalUnpackAny</td>\n",
              "      <td>def _InternalUnpackAny(msg):\\n  \"\"\"Unpacks Any...</td>\n",
              "      <td>[def, _InternalUnpackAny, (, msg, ), :, type_u...</td>\n",
              "      <td>Unpacks Any message and returns the unpacked m...</td>\n",
              "      <td>[Unpacks, Any, message, and, returns, the, unp...</td>\n",
              "      <td></td>\n",
              "    </tr>\n",
              "  </tbody>\n",
              "</table>\n",
              "<p>457461 rows × 9 columns</p>\n",
              "</div>"
            ],
            "text/plain": [
              "                      repo  ...   star\n",
              "0          soimort/you-get  ...  27926\n",
              "1          soimort/you-get  ...  27926\n",
              "2          soimort/you-get  ...  27926\n",
              "3          soimort/you-get  ...  27926\n",
              "4          soimort/you-get  ...  27926\n",
              "...                    ...  ...    ...\n",
              "23102    xnuinside/clifier  ...       \n",
              "23103    xnuinside/clifier  ...       \n",
              "23104  tklovett/PyShirtsIO  ...       \n",
              "23105          ibelie/typy  ...       \n",
              "23106          ibelie/typy  ...       \n",
              "\n",
              "[457461 rows x 9 columns]"
            ]
          },
          "metadata": {
            "tags": []
          },
          "execution_count": 41
        }
      ]
    },
    {
      "cell_type": "code",
      "metadata": {
        "id": "ivGY7EXXWPnI",
        "colab_type": "code",
        "colab": {
          "base_uri": "https://localhost:8080/",
          "height": 606
        },
        "outputId": "9899d213-6fab-4753-edda-df1f9f29d44f"
      },
      "source": [
        "# Lets sort on the stars to see what are the high ranked repos we have so far\n",
        "pydf_valid_star_df = pydf_with_star[pydf_with_star['star'] != '']\n",
        "pydf_valid_star_df"
      ],
      "execution_count": 52,
      "outputs": [
        {
          "output_type": "execute_result",
          "data": {
            "text/html": [
              "<div>\n",
              "<style scoped>\n",
              "    .dataframe tbody tr th:only-of-type {\n",
              "        vertical-align: middle;\n",
              "    }\n",
              "\n",
              "    .dataframe tbody tr th {\n",
              "        vertical-align: top;\n",
              "    }\n",
              "\n",
              "    .dataframe thead th {\n",
              "        text-align: right;\n",
              "    }\n",
              "</style>\n",
              "<table border=\"1\" class=\"dataframe\">\n",
              "  <thead>\n",
              "    <tr style=\"text-align: right;\">\n",
              "      <th></th>\n",
              "      <th>repo</th>\n",
              "      <th>path</th>\n",
              "      <th>url</th>\n",
              "      <th>func_name</th>\n",
              "      <th>code</th>\n",
              "      <th>code_tokens</th>\n",
              "      <th>docstring</th>\n",
              "      <th>docstring_tokens</th>\n",
              "      <th>star</th>\n",
              "    </tr>\n",
              "  </thead>\n",
              "  <tbody>\n",
              "    <tr>\n",
              "      <th>0</th>\n",
              "      <td>soimort/you-get</td>\n",
              "      <td>src/you_get/extractors/youtube.py</td>\n",
              "      <td>https://github.com/soimort/you-get/blob/b746ac...</td>\n",
              "      <td>YouTube.get_vid_from_url</td>\n",
              "      <td>def get_vid_from_url(url):\\n        \"\"\"Extract...</td>\n",
              "      <td>[def, get_vid_from_url, (, url, ), :, return, ...</td>\n",
              "      <td>Extracts video ID from URL.</td>\n",
              "      <td>[Extracts, video, ID, from, URL, .]</td>\n",
              "      <td>27926</td>\n",
              "    </tr>\n",
              "    <tr>\n",
              "      <th>1</th>\n",
              "      <td>soimort/you-get</td>\n",
              "      <td>src/you_get/extractors/miomio.py</td>\n",
              "      <td>https://github.com/soimort/you-get/blob/b746ac...</td>\n",
              "      <td>sina_xml_to_url_list</td>\n",
              "      <td>def sina_xml_to_url_list(xml_data):\\n    \"\"\"st...</td>\n",
              "      <td>[def, sina_xml_to_url_list, (, xml_data, ), :,...</td>\n",
              "      <td>str-&gt;list\\n    Convert XML to URL List.\\n    F...</td>\n",
              "      <td>[str, -, &gt;, list, Convert, XML, to, URL, List,...</td>\n",
              "      <td>27926</td>\n",
              "    </tr>\n",
              "    <tr>\n",
              "      <th>2</th>\n",
              "      <td>soimort/you-get</td>\n",
              "      <td>src/you_get/extractors/fc2video.py</td>\n",
              "      <td>https://github.com/soimort/you-get/blob/b746ac...</td>\n",
              "      <td>makeMimi</td>\n",
              "      <td>def makeMimi(upid):\\n    \"\"\"From http://cdn37....</td>\n",
              "      <td>[def, makeMimi, (, upid, ), :, strSeed, =, \"gG...</td>\n",
              "      <td>From http://cdn37.atwikiimg.com/sitescript/pub...</td>\n",
              "      <td>[From, http, :, //, cdn37, ., atwikiimg, ., co...</td>\n",
              "      <td>27926</td>\n",
              "    </tr>\n",
              "    <tr>\n",
              "      <th>3</th>\n",
              "      <td>soimort/you-get</td>\n",
              "      <td>src/you_get/extractors/fc2video.py</td>\n",
              "      <td>https://github.com/soimort/you-get/blob/b746ac...</td>\n",
              "      <td>fc2video_download</td>\n",
              "      <td>def fc2video_download(url, output_dir = '.', m...</td>\n",
              "      <td>[def, fc2video_download, (, url, ,, output_dir...</td>\n",
              "      <td>wrapper</td>\n",
              "      <td>[wrapper]</td>\n",
              "      <td>27926</td>\n",
              "    </tr>\n",
              "    <tr>\n",
              "      <th>4</th>\n",
              "      <td>soimort/you-get</td>\n",
              "      <td>src/you_get/extractors/dailymotion.py</td>\n",
              "      <td>https://github.com/soimort/you-get/blob/b746ac...</td>\n",
              "      <td>dailymotion_download</td>\n",
              "      <td>def dailymotion_download(url, output_dir='.', ...</td>\n",
              "      <td>[def, dailymotion_download, (, url, ,, output_...</td>\n",
              "      <td>Downloads Dailymotion videos by URL.</td>\n",
              "      <td>[Downloads, Dailymotion, videos, by, URL, .]</td>\n",
              "      <td>27926</td>\n",
              "    </tr>\n",
              "    <tr>\n",
              "      <th>...</th>\n",
              "      <td>...</td>\n",
              "      <td>...</td>\n",
              "      <td>...</td>\n",
              "      <td>...</td>\n",
              "      <td>...</td>\n",
              "      <td>...</td>\n",
              "      <td>...</td>\n",
              "      <td>...</td>\n",
              "      <td>...</td>\n",
              "    </tr>\n",
              "    <tr>\n",
              "      <th>6547</th>\n",
              "      <td>Nekmo/amazon-dash</td>\n",
              "      <td>amazon_dash/listener.py</td>\n",
              "      <td>https://github.com/Nekmo/amazon-dash/blob/0e2b...</td>\n",
              "      <td>Device.send_confirmation</td>\n",
              "      <td>def send_confirmation(self, message, success=T...</td>\n",
              "      <td>[def, send_confirmation, (, self, ,, message, ...</td>\n",
              "      <td>Send success or error message to configured co...</td>\n",
              "      <td>[Send, success, or, error, message, to, config...</td>\n",
              "      <td>567</td>\n",
              "    </tr>\n",
              "    <tr>\n",
              "      <th>6548</th>\n",
              "      <td>Nekmo/amazon-dash</td>\n",
              "      <td>amazon_dash/listener.py</td>\n",
              "      <td>https://github.com/Nekmo/amazon-dash/blob/0e2b...</td>\n",
              "      <td>Listener.on_push</td>\n",
              "      <td>def on_push(self, device):\\n        \"\"\"Press b...</td>\n",
              "      <td>[def, on_push, (, self, ,, device, ), :, src, ...</td>\n",
              "      <td>Press button. Check DEFAULT_DELAY.\\n\\n        ...</td>\n",
              "      <td>[Press, button, ., Check, DEFAULT_DELAY, .]</td>\n",
              "      <td>567</td>\n",
              "    </tr>\n",
              "    <tr>\n",
              "      <th>6549</th>\n",
              "      <td>Nekmo/amazon-dash</td>\n",
              "      <td>amazon_dash/listener.py</td>\n",
              "      <td>https://github.com/Nekmo/amazon-dash/blob/0e2b...</td>\n",
              "      <td>Listener.execute</td>\n",
              "      <td>def execute(self, device):\\n        \"\"\"Execute...</td>\n",
              "      <td>[def, execute, (, self, ,, device, ), :, src, ...</td>\n",
              "      <td>Execute a device. Used if the time between exe...</td>\n",
              "      <td>[Execute, a, device, ., Used, if, the, time, b...</td>\n",
              "      <td>567</td>\n",
              "    </tr>\n",
              "    <tr>\n",
              "      <th>6550</th>\n",
              "      <td>Nekmo/amazon-dash</td>\n",
              "      <td>amazon_dash/listener.py</td>\n",
              "      <td>https://github.com/Nekmo/amazon-dash/blob/0e2b...</td>\n",
              "      <td>Listener.run</td>\n",
              "      <td>def run(self, root_allowed=False):\\n        \"\"...</td>\n",
              "      <td>[def, run, (, self, ,, root_allowed, =, False,...</td>\n",
              "      <td>Start daemon mode\\n\\n        :param bool root_...</td>\n",
              "      <td>[Start, daemon, mode]</td>\n",
              "      <td>567</td>\n",
              "    </tr>\n",
              "    <tr>\n",
              "      <th>6551</th>\n",
              "      <td>Nekmo/amazon-dash</td>\n",
              "      <td>amazon_dash/scan.py</td>\n",
              "      <td>https://github.com/Nekmo/amazon-dash/blob/0e2b...</td>\n",
              "      <td>scan_devices</td>\n",
              "      <td>def scan_devices(fn, lfilter, iface=None):\\n  ...</td>\n",
              "      <td>[def, scan_devices, (, fn, ,, lfilter, ,, ifac...</td>\n",
              "      <td>Sniff packages\\n\\n    :param fn: callback on p...</td>\n",
              "      <td>[Sniff, packages]</td>\n",
              "      <td>567</td>\n",
              "    </tr>\n",
              "  </tbody>\n",
              "</table>\n",
              "<p>6552 rows × 9 columns</p>\n",
              "</div>"
            ],
            "text/plain": [
              "                   repo  ...   star\n",
              "0       soimort/you-get  ...  27926\n",
              "1       soimort/you-get  ...  27926\n",
              "2       soimort/you-get  ...  27926\n",
              "3       soimort/you-get  ...  27926\n",
              "4       soimort/you-get  ...  27926\n",
              "...                 ...  ...    ...\n",
              "6547  Nekmo/amazon-dash  ...    567\n",
              "6548  Nekmo/amazon-dash  ...    567\n",
              "6549  Nekmo/amazon-dash  ...    567\n",
              "6550  Nekmo/amazon-dash  ...    567\n",
              "6551  Nekmo/amazon-dash  ...    567\n",
              "\n",
              "[6552 rows x 9 columns]"
            ]
          },
          "metadata": {
            "tags": []
          },
          "execution_count": 52
        }
      ]
    },
    {
      "cell_type": "code",
      "metadata": {
        "id": "ObuZEAKC8atO",
        "colab_type": "code",
        "colab": {
          "base_uri": "https://localhost:8080/",
          "height": 34
        },
        "outputId": "93d5dcb3-7f40-4d07-bec4-87b908ca309c"
      },
      "source": [
        "pydf_valid_star_df['star'].max()"
      ],
      "execution_count": 53,
      "outputs": [
        {
          "output_type": "execute_result",
          "data": {
            "text/plain": [
              "27926"
            ]
          },
          "metadata": {
            "tags": []
          },
          "execution_count": 53
        }
      ]
    },
    {
      "cell_type": "code",
      "metadata": {
        "id": "vGF3PpPu88JV",
        "colab_type": "code",
        "colab": {
          "base_uri": "https://localhost:8080/",
          "height": 34
        },
        "outputId": "9d3aa31e-53d1-4e73-f8de-9c9a9f5fb67e"
      },
      "source": [
        "pydf_valid_star_df['star'].min()"
      ],
      "execution_count": 54,
      "outputs": [
        {
          "output_type": "execute_result",
          "data": {
            "text/plain": [
              "75"
            ]
          },
          "metadata": {
            "tags": []
          },
          "execution_count": 54
        }
      ]
    },
    {
      "cell_type": "code",
      "metadata": {
        "id": "2oQWjKu99jNf",
        "colab_type": "code",
        "colab": {
          "base_uri": "https://localhost:8080/",
          "height": 1000
        },
        "outputId": "21d2dc78-23fe-4410-d48b-d0d5fe8d9555"
      },
      "source": [
        "# For testing, choosing the top rated repository\n",
        "pydf_highest_star_df = pydf_valid_star_df[pydf_valid_star_df['star'] == pydf_valid_star_df['star'].max()]\n",
        "pydf_highest_star_df"
      ],
      "execution_count": 56,
      "outputs": [
        {
          "output_type": "execute_result",
          "data": {
            "text/html": [
              "<div>\n",
              "<style scoped>\n",
              "    .dataframe tbody tr th:only-of-type {\n",
              "        vertical-align: middle;\n",
              "    }\n",
              "\n",
              "    .dataframe tbody tr th {\n",
              "        vertical-align: top;\n",
              "    }\n",
              "\n",
              "    .dataframe thead th {\n",
              "        text-align: right;\n",
              "    }\n",
              "</style>\n",
              "<table border=\"1\" class=\"dataframe\">\n",
              "  <thead>\n",
              "    <tr style=\"text-align: right;\">\n",
              "      <th></th>\n",
              "      <th>repo</th>\n",
              "      <th>path</th>\n",
              "      <th>url</th>\n",
              "      <th>func_name</th>\n",
              "      <th>code</th>\n",
              "      <th>code_tokens</th>\n",
              "      <th>docstring</th>\n",
              "      <th>docstring_tokens</th>\n",
              "      <th>star</th>\n",
              "    </tr>\n",
              "  </thead>\n",
              "  <tbody>\n",
              "    <tr>\n",
              "      <th>0</th>\n",
              "      <td>soimort/you-get</td>\n",
              "      <td>src/you_get/extractors/youtube.py</td>\n",
              "      <td>https://github.com/soimort/you-get/blob/b746ac...</td>\n",
              "      <td>YouTube.get_vid_from_url</td>\n",
              "      <td>def get_vid_from_url(url):\\n        \"\"\"Extract...</td>\n",
              "      <td>[def, get_vid_from_url, (, url, ), :, return, ...</td>\n",
              "      <td>Extracts video ID from URL.</td>\n",
              "      <td>[Extracts, video, ID, from, URL, .]</td>\n",
              "      <td>27926</td>\n",
              "    </tr>\n",
              "    <tr>\n",
              "      <th>1</th>\n",
              "      <td>soimort/you-get</td>\n",
              "      <td>src/you_get/extractors/miomio.py</td>\n",
              "      <td>https://github.com/soimort/you-get/blob/b746ac...</td>\n",
              "      <td>sina_xml_to_url_list</td>\n",
              "      <td>def sina_xml_to_url_list(xml_data):\\n    \"\"\"st...</td>\n",
              "      <td>[def, sina_xml_to_url_list, (, xml_data, ), :,...</td>\n",
              "      <td>str-&gt;list\\n    Convert XML to URL List.\\n    F...</td>\n",
              "      <td>[str, -, &gt;, list, Convert, XML, to, URL, List,...</td>\n",
              "      <td>27926</td>\n",
              "    </tr>\n",
              "    <tr>\n",
              "      <th>2</th>\n",
              "      <td>soimort/you-get</td>\n",
              "      <td>src/you_get/extractors/fc2video.py</td>\n",
              "      <td>https://github.com/soimort/you-get/blob/b746ac...</td>\n",
              "      <td>makeMimi</td>\n",
              "      <td>def makeMimi(upid):\\n    \"\"\"From http://cdn37....</td>\n",
              "      <td>[def, makeMimi, (, upid, ), :, strSeed, =, \"gG...</td>\n",
              "      <td>From http://cdn37.atwikiimg.com/sitescript/pub...</td>\n",
              "      <td>[From, http, :, //, cdn37, ., atwikiimg, ., co...</td>\n",
              "      <td>27926</td>\n",
              "    </tr>\n",
              "    <tr>\n",
              "      <th>3</th>\n",
              "      <td>soimort/you-get</td>\n",
              "      <td>src/you_get/extractors/fc2video.py</td>\n",
              "      <td>https://github.com/soimort/you-get/blob/b746ac...</td>\n",
              "      <td>fc2video_download</td>\n",
              "      <td>def fc2video_download(url, output_dir = '.', m...</td>\n",
              "      <td>[def, fc2video_download, (, url, ,, output_dir...</td>\n",
              "      <td>wrapper</td>\n",
              "      <td>[wrapper]</td>\n",
              "      <td>27926</td>\n",
              "    </tr>\n",
              "    <tr>\n",
              "      <th>4</th>\n",
              "      <td>soimort/you-get</td>\n",
              "      <td>src/you_get/extractors/dailymotion.py</td>\n",
              "      <td>https://github.com/soimort/you-get/blob/b746ac...</td>\n",
              "      <td>dailymotion_download</td>\n",
              "      <td>def dailymotion_download(url, output_dir='.', ...</td>\n",
              "      <td>[def, dailymotion_download, (, url, ,, output_...</td>\n",
              "      <td>Downloads Dailymotion videos by URL.</td>\n",
              "      <td>[Downloads, Dailymotion, videos, by, URL, .]</td>\n",
              "      <td>27926</td>\n",
              "    </tr>\n",
              "    <tr>\n",
              "      <th>5</th>\n",
              "      <td>soimort/you-get</td>\n",
              "      <td>src/you_get/extractors/ucas.py</td>\n",
              "      <td>https://github.com/soimort/you-get/blob/b746ac...</td>\n",
              "      <td>dictify</td>\n",
              "      <td>def dictify(r,root=True):\\n    \"\"\"http://stack...</td>\n",
              "      <td>[def, dictify, (, r, ,, root, =, True, ), :, i...</td>\n",
              "      <td>http://stackoverflow.com/a/30923963/2946714</td>\n",
              "      <td>[http, :, //, stackoverflow, ., com, /, a, /, ...</td>\n",
              "      <td>27926</td>\n",
              "    </tr>\n",
              "    <tr>\n",
              "      <th>6</th>\n",
              "      <td>soimort/you-get</td>\n",
              "      <td>src/you_get/extractors/ucas.py</td>\n",
              "      <td>https://github.com/soimort/you-get/blob/b746ac...</td>\n",
              "      <td>ucas_download_single</td>\n",
              "      <td>def ucas_download_single(url, output_dir = '.'...</td>\n",
              "      <td>[def, ucas_download_single, (, url, ,, output_...</td>\n",
              "      <td>video page</td>\n",
              "      <td>[video, page]</td>\n",
              "      <td>27926</td>\n",
              "    </tr>\n",
              "    <tr>\n",
              "      <th>7</th>\n",
              "      <td>soimort/you-get</td>\n",
              "      <td>src/you_get/extractors/ucas.py</td>\n",
              "      <td>https://github.com/soimort/you-get/blob/b746ac...</td>\n",
              "      <td>ucas_download_playlist</td>\n",
              "      <td>def ucas_download_playlist(url, output_dir = '...</td>\n",
              "      <td>[def, ucas_download_playlist, (, url, ,, outpu...</td>\n",
              "      <td>course page</td>\n",
              "      <td>[course, page]</td>\n",
              "      <td>27926</td>\n",
              "    </tr>\n",
              "    <tr>\n",
              "      <th>8</th>\n",
              "      <td>soimort/you-get</td>\n",
              "      <td>src/you_get/extractors/sina.py</td>\n",
              "      <td>https://github.com/soimort/you-get/blob/b746ac...</td>\n",
              "      <td>sina_download_by_vid</td>\n",
              "      <td>def sina_download_by_vid(vid, title=None, outp...</td>\n",
              "      <td>[def, sina_download_by_vid, (, vid, ,, title, ...</td>\n",
              "      <td>Downloads a Sina video by its unique vid.\\n   ...</td>\n",
              "      <td>[Downloads, a, Sina, video, by, its, unique, v...</td>\n",
              "      <td>27926</td>\n",
              "    </tr>\n",
              "    <tr>\n",
              "      <th>9</th>\n",
              "      <td>soimort/you-get</td>\n",
              "      <td>src/you_get/extractors/sina.py</td>\n",
              "      <td>https://github.com/soimort/you-get/blob/b746ac...</td>\n",
              "      <td>sina_download_by_vkey</td>\n",
              "      <td>def sina_download_by_vkey(vkey, title=None, ou...</td>\n",
              "      <td>[def, sina_download_by_vkey, (, vkey, ,, title...</td>\n",
              "      <td>Downloads a Sina video by its unique vkey.\\n  ...</td>\n",
              "      <td>[Downloads, a, Sina, video, by, its, unique, v...</td>\n",
              "      <td>27926</td>\n",
              "    </tr>\n",
              "    <tr>\n",
              "      <th>10</th>\n",
              "      <td>soimort/you-get</td>\n",
              "      <td>src/you_get/extractors/sina.py</td>\n",
              "      <td>https://github.com/soimort/you-get/blob/b746ac...</td>\n",
              "      <td>sina_download</td>\n",
              "      <td>def sina_download(url, output_dir='.', merge=T...</td>\n",
              "      <td>[def, sina_download, (, url, ,, output_dir, =,...</td>\n",
              "      <td>Downloads Sina videos by URL.</td>\n",
              "      <td>[Downloads, Sina, videos, by, URL, .]</td>\n",
              "      <td>27926</td>\n",
              "    </tr>\n",
              "    <tr>\n",
              "      <th>11</th>\n",
              "      <td>soimort/you-get</td>\n",
              "      <td>src/you_get/extractors/yixia.py</td>\n",
              "      <td>https://github.com/soimort/you-get/blob/b746ac...</td>\n",
              "      <td>yixia_download</td>\n",
              "      <td>def yixia_download(url, output_dir = '.', merg...</td>\n",
              "      <td>[def, yixia_download, (, url, ,, output_dir, =...</td>\n",
              "      <td>wrapper</td>\n",
              "      <td>[wrapper]</td>\n",
              "      <td>27926</td>\n",
              "    </tr>\n",
              "    <tr>\n",
              "      <th>12</th>\n",
              "      <td>soimort/you-get</td>\n",
              "      <td>src/you_get/extractors/veoh.py</td>\n",
              "      <td>https://github.com/soimort/you-get/blob/b746ac...</td>\n",
              "      <td>veoh_download</td>\n",
              "      <td>def veoh_download(url, output_dir = '.', merge...</td>\n",
              "      <td>[def, veoh_download, (, url, ,, output_dir, =,...</td>\n",
              "      <td>Get item_id</td>\n",
              "      <td>[Get, item_id]</td>\n",
              "      <td>27926</td>\n",
              "    </tr>\n",
              "    <tr>\n",
              "      <th>13</th>\n",
              "      <td>soimort/you-get</td>\n",
              "      <td>src/you_get/extractors/veoh.py</td>\n",
              "      <td>https://github.com/soimort/you-get/blob/b746ac...</td>\n",
              "      <td>veoh_download_by_id</td>\n",
              "      <td>def veoh_download_by_id(item_id, output_dir = ...</td>\n",
              "      <td>[def, veoh_download_by_id, (, item_id, ,, outp...</td>\n",
              "      <td>Source: Android mobile</td>\n",
              "      <td>[Source, :, Android, mobile]</td>\n",
              "      <td>27926</td>\n",
              "    </tr>\n",
              "    <tr>\n",
              "      <th>14</th>\n",
              "      <td>soimort/you-get</td>\n",
              "      <td>src/you_get/extractors/bokecc.py</td>\n",
              "      <td>https://github.com/soimort/you-get/blob/b746ac...</td>\n",
              "      <td>BokeCC.download_by_id</td>\n",
              "      <td>def download_by_id(self, vid = '', title = Non...</td>\n",
              "      <td>[def, download_by_id, (, self, ,, vid, =, '', ...</td>\n",
              "      <td>self, str-&gt;None\\n        \\n        Keyword arg...</td>\n",
              "      <td>[self, str, -, &gt;, None, Keyword, arguments, :,...</td>\n",
              "      <td>27926</td>\n",
              "    </tr>\n",
              "    <tr>\n",
              "      <th>15</th>\n",
              "      <td>soimort/you-get</td>\n",
              "      <td>src/you_get/extractors/qie.py</td>\n",
              "      <td>https://github.com/soimort/you-get/blob/b746ac...</td>\n",
              "      <td>QiE.get_vid_from_url</td>\n",
              "      <td>def get_vid_from_url(self, url):\\n        \"\"\"E...</td>\n",
              "      <td>[def, get_vid_from_url, (, self, ,, url, ), :,...</td>\n",
              "      <td>Extracts video ID from live.qq.com.</td>\n",
              "      <td>[Extracts, video, ID, from, live, ., qq, ., co...</td>\n",
              "      <td>27926</td>\n",
              "    </tr>\n",
              "    <tr>\n",
              "      <th>16</th>\n",
              "      <td>soimort/you-get</td>\n",
              "      <td>src/you_get/util/log.py</td>\n",
              "      <td>https://github.com/soimort/you-get/blob/b746ac...</td>\n",
              "      <td>sprint</td>\n",
              "      <td>def sprint(text, *colors):\\n    \"\"\"Format text...</td>\n",
              "      <td>[def, sprint, (, text, ,, *, colors, ), :, ret...</td>\n",
              "      <td>Format text with color or other effects into A...</td>\n",
              "      <td>[Format, text, with, color, or, other, effects...</td>\n",
              "      <td>27926</td>\n",
              "    </tr>\n",
              "    <tr>\n",
              "      <th>17</th>\n",
              "      <td>soimort/you-get</td>\n",
              "      <td>src/you_get/util/log.py</td>\n",
              "      <td>https://github.com/soimort/you-get/blob/b746ac...</td>\n",
              "      <td>print_log</td>\n",
              "      <td>def print_log(text, *colors):\\n    \"\"\"Print a ...</td>\n",
              "      <td>[def, print_log, (, text, ,, *, colors, ), :, ...</td>\n",
              "      <td>Print a log message to standard error.</td>\n",
              "      <td>[Print, a, log, message, to, standard, error, .]</td>\n",
              "      <td>27926</td>\n",
              "    </tr>\n",
              "    <tr>\n",
              "      <th>18</th>\n",
              "      <td>soimort/you-get</td>\n",
              "      <td>src/you_get/util/log.py</td>\n",
              "      <td>https://github.com/soimort/you-get/blob/b746ac...</td>\n",
              "      <td>e</td>\n",
              "      <td>def e(message, exit_code=None):\\n    \"\"\"Print ...</td>\n",
              "      <td>[def, e, (, message, ,, exit_code, =, None, ),...</td>\n",
              "      <td>Print an error log message.</td>\n",
              "      <td>[Print, an, error, log, message, .]</td>\n",
              "      <td>27926</td>\n",
              "    </tr>\n",
              "    <tr>\n",
              "      <th>19</th>\n",
              "      <td>soimort/you-get</td>\n",
              "      <td>src/you_get/util/log.py</td>\n",
              "      <td>https://github.com/soimort/you-get/blob/b746ac...</td>\n",
              "      <td>wtf</td>\n",
              "      <td>def wtf(message, exit_code=1):\\n    \"\"\"What a ...</td>\n",
              "      <td>[def, wtf, (, message, ,, exit_code, =, 1, ), ...</td>\n",
              "      <td>What a Terrible Failure!</td>\n",
              "      <td>[What, a, Terrible, Failure!]</td>\n",
              "      <td>27926</td>\n",
              "    </tr>\n",
              "    <tr>\n",
              "      <th>20</th>\n",
              "      <td>soimort/you-get</td>\n",
              "      <td>src/you_get/util/os.py</td>\n",
              "      <td>https://github.com/soimort/you-get/blob/b746ac...</td>\n",
              "      <td>detect_os</td>\n",
              "      <td>def detect_os():\\n    \"\"\"Detect operating syst...</td>\n",
              "      <td>[def, detect_os, (, ), :, # Inspired by:, # ht...</td>\n",
              "      <td>Detect operating system.</td>\n",
              "      <td>[Detect, operating, system, .]</td>\n",
              "      <td>27926</td>\n",
              "    </tr>\n",
              "    <tr>\n",
              "      <th>21</th>\n",
              "      <td>soimort/you-get</td>\n",
              "      <td>src/you_get/extractors/miaopai.py</td>\n",
              "      <td>https://github.com/soimort/you-get/blob/b746ac...</td>\n",
              "      <td>miaopai_download_by_fid</td>\n",
              "      <td>def miaopai_download_by_fid(fid, output_dir = ...</td>\n",
              "      <td>[def, miaopai_download_by_fid, (, fid, ,, outp...</td>\n",
              "      <td>Source: Android mobile</td>\n",
              "      <td>[Source, :, Android, mobile]</td>\n",
              "      <td>27926</td>\n",
              "    </tr>\n",
              "    <tr>\n",
              "      <th>22</th>\n",
              "      <td>soimort/you-get</td>\n",
              "      <td>src/you_get/extractors/vimeo.py</td>\n",
              "      <td>https://github.com/soimort/you-get/blob/b746ac...</td>\n",
              "      <td>vimeo_download_by_channel</td>\n",
              "      <td>def vimeo_download_by_channel(url, output_dir=...</td>\n",
              "      <td>[def, vimeo_download_by_channel, (, url, ,, ou...</td>\n",
              "      <td>str-&gt;None</td>\n",
              "      <td>[str, -, &gt;, None]</td>\n",
              "      <td>27926</td>\n",
              "    </tr>\n",
              "    <tr>\n",
              "      <th>23</th>\n",
              "      <td>soimort/you-get</td>\n",
              "      <td>src/you_get/extractors/vimeo.py</td>\n",
              "      <td>https://github.com/soimort/you-get/blob/b746ac...</td>\n",
              "      <td>vimeo_download_by_channel_id</td>\n",
              "      <td>def vimeo_download_by_channel_id(channel_id, o...</td>\n",
              "      <td>[def, vimeo_download_by_channel_id, (, channel...</td>\n",
              "      <td>str/int-&gt;None</td>\n",
              "      <td>[str, /, int, -, &gt;, None]</td>\n",
              "      <td>27926</td>\n",
              "    </tr>\n",
              "    <tr>\n",
              "      <th>24</th>\n",
              "      <td>soimort/you-get</td>\n",
              "      <td>src/you_get/extractors/vimeo.py</td>\n",
              "      <td>https://github.com/soimort/you-get/blob/b746ac...</td>\n",
              "      <td>vimeo_download_by_id</td>\n",
              "      <td>def vimeo_download_by_id(id, title=None, outpu...</td>\n",
              "      <td>[def, vimeo_download_by_id, (, id, ,, title, =...</td>\n",
              "      <td>try:\\n        # normal Vimeo video\\n        ht...</td>\n",
              "      <td>[try, :, #, normal, Vimeo, video, html, =, get...</td>\n",
              "      <td>27926</td>\n",
              "    </tr>\n",
              "    <tr>\n",
              "      <th>25</th>\n",
              "      <td>soimort/you-get</td>\n",
              "      <td>src/you_get/extractors/ckplayer.py</td>\n",
              "      <td>https://github.com/soimort/you-get/blob/b746ac...</td>\n",
              "      <td>ckplayer_get_info_by_xml</td>\n",
              "      <td>def ckplayer_get_info_by_xml(ckinfo):\\n    \"\"\"...</td>\n",
              "      <td>[def, ckplayer_get_info_by_xml, (, ckinfo, ), ...</td>\n",
              "      <td>str-&gt;dict\\n    Information for CKPlayer API co...</td>\n",
              "      <td>[str, -, &gt;, dict, Information, for, CKPlayer, ...</td>\n",
              "      <td>27926</td>\n",
              "    </tr>\n",
              "    <tr>\n",
              "      <th>26</th>\n",
              "      <td>soimort/you-get</td>\n",
              "      <td>src/you_get/extractors/ixigua.py</td>\n",
              "      <td>https://github.com/soimort/you-get/blob/b746ac...</td>\n",
              "      <td>get_video_url_from_video_id</td>\n",
              "      <td>def get_video_url_from_video_id(video_id):\\n  ...</td>\n",
              "      <td>[def, get_video_url_from_video_id, (, video_id...</td>\n",
              "      <td>Splicing URLs according to video ID to get vid...</td>\n",
              "      <td>[Splicing, URLs, according, to, video, ID, to,...</td>\n",
              "      <td>27926</td>\n",
              "    </tr>\n",
              "    <tr>\n",
              "      <th>27</th>\n",
              "      <td>soimort/you-get</td>\n",
              "      <td>src/you_get/extractors/mgtv.py</td>\n",
              "      <td>https://github.com/soimort/you-get/blob/b746ac...</td>\n",
              "      <td>MGTV.get_vid_from_url</td>\n",
              "      <td>def get_vid_from_url(url):\\n        \"\"\"Extract...</td>\n",
              "      <td>[def, get_vid_from_url, (, url, ), :, vid, =, ...</td>\n",
              "      <td>Extracts video ID from URL.</td>\n",
              "      <td>[Extracts, video, ID, from, URL, .]</td>\n",
              "      <td>27926</td>\n",
              "    </tr>\n",
              "    <tr>\n",
              "      <th>28</th>\n",
              "      <td>soimort/you-get</td>\n",
              "      <td>src/you_get/extractors/mgtv.py</td>\n",
              "      <td>https://github.com/soimort/you-get/blob/b746ac...</td>\n",
              "      <td>MGTV.get_mgtv_real_url</td>\n",
              "      <td>def get_mgtv_real_url(url):\\n        \"\"\"str-&gt;l...</td>\n",
              "      <td>[def, get_mgtv_real_url, (, url, ), :, content...</td>\n",
              "      <td>str-&gt;list of str\\n        Give you the real URLs.</td>\n",
              "      <td>[str, -, &gt;, list, of, str, Give, you, the, rea...</td>\n",
              "      <td>27926</td>\n",
              "    </tr>\n",
              "    <tr>\n",
              "      <th>29</th>\n",
              "      <td>soimort/you-get</td>\n",
              "      <td>src/you_get/util/git.py</td>\n",
              "      <td>https://github.com/soimort/you-get/blob/b746ac...</td>\n",
              "      <td>get_head</td>\n",
              "      <td>def get_head(repo_path):\\n    \"\"\"Get (branch, ...</td>\n",
              "      <td>[def, get_head, (, repo_path, ), :, try, :, re...</td>\n",
              "      <td>Get (branch, commit) from HEAD of a git repo.</td>\n",
              "      <td>[Get, (, branch, commit, ), from, HEAD, of, a,...</td>\n",
              "      <td>27926</td>\n",
              "    </tr>\n",
              "    <tr>\n",
              "      <th>30</th>\n",
              "      <td>soimort/you-get</td>\n",
              "      <td>src/you_get/util/fs.py</td>\n",
              "      <td>https://github.com/soimort/you-get/blob/b746ac...</td>\n",
              "      <td>legitimize</td>\n",
              "      <td>def legitimize(text, os=detect_os()):\\n    \"\"\"...</td>\n",
              "      <td>[def, legitimize, (, text, ,, os, =, detect_os...</td>\n",
              "      <td>Converts a string to a valid filename.</td>\n",
              "      <td>[Converts, a, string, to, a, valid, filename, .]</td>\n",
              "      <td>27926</td>\n",
              "    </tr>\n",
              "    <tr>\n",
              "      <th>31</th>\n",
              "      <td>soimort/you-get</td>\n",
              "      <td>src/you_get/util/term.py</td>\n",
              "      <td>https://github.com/soimort/you-get/blob/b746ac...</td>\n",
              "      <td>get_terminal_size</td>\n",
              "      <td>def get_terminal_size():\\n    \"\"\"Get (width, h...</td>\n",
              "      <td>[def, get_terminal_size, (, ), :, try, :, impo...</td>\n",
              "      <td>Get (width, height) of the current terminal.</td>\n",
              "      <td>[Get, (, width, height, ), of, the, current, t...</td>\n",
              "      <td>27926</td>\n",
              "    </tr>\n",
              "    <tr>\n",
              "      <th>32</th>\n",
              "      <td>soimort/you-get</td>\n",
              "      <td>src/you_get/extractors/cbs.py</td>\n",
              "      <td>https://github.com/soimort/you-get/blob/b746ac...</td>\n",
              "      <td>cbs_download</td>\n",
              "      <td>def cbs_download(url, output_dir='.', merge=Tr...</td>\n",
              "      <td>[def, cbs_download, (, url, ,, output_dir, =, ...</td>\n",
              "      <td>Downloads CBS videos by URL.</td>\n",
              "      <td>[Downloads, CBS, videos, by, URL, .]</td>\n",
              "      <td>27926</td>\n",
              "    </tr>\n",
              "    <tr>\n",
              "      <th>33</th>\n",
              "      <td>soimort/you-get</td>\n",
              "      <td>src/you_get/extractors/iqiyi.py</td>\n",
              "      <td>https://github.com/soimort/you-get/blob/b746ac...</td>\n",
              "      <td>Iqiyi.download</td>\n",
              "      <td>def download(self, **kwargs):\\n        \"\"\"Over...</td>\n",
              "      <td>[def, download, (, self, ,, *, *, kwargs, ), :...</td>\n",
              "      <td>Override the original one\\n        Ugly ugly d...</td>\n",
              "      <td>[Override, the, original, one, Ugly, ugly, dir...</td>\n",
              "      <td>27926</td>\n",
              "    </tr>\n",
              "    <tr>\n",
              "      <th>34</th>\n",
              "      <td>soimort/you-get</td>\n",
              "      <td>src/you_get/extractors/acfun.py</td>\n",
              "      <td>https://github.com/soimort/you-get/blob/b746ac...</td>\n",
              "      <td>acfun_download_by_vid</td>\n",
              "      <td>def acfun_download_by_vid(vid, title, output_d...</td>\n",
              "      <td>[def, acfun_download_by_vid, (, vid, ,, title,...</td>\n",
              "      <td>str, str, str, bool, bool -&gt;None\\n\\n    Downlo...</td>\n",
              "      <td>[str, str, str, bool, bool, -, &gt;, None]</td>\n",
              "      <td>27926</td>\n",
              "    </tr>\n",
              "    <tr>\n",
              "      <th>35</th>\n",
              "      <td>soimort/you-get</td>\n",
              "      <td>src/you_get/__main__.py</td>\n",
              "      <td>https://github.com/soimort/you-get/blob/b746ac...</td>\n",
              "      <td>main_dev</td>\n",
              "      <td>def main_dev(**kwargs):\\n    \"\"\"Main entry poi...</td>\n",
              "      <td>[def, main_dev, (, *, *, kwargs, ), :, # Get (...</td>\n",
              "      <td>Main entry point.\\n    you-get-dev</td>\n",
              "      <td>[Main, entry, point, ., you, -, get, -, dev]</td>\n",
              "      <td>27926</td>\n",
              "    </tr>\n",
              "    <tr>\n",
              "      <th>36</th>\n",
              "      <td>soimort/you-get</td>\n",
              "      <td>src/you_get/processor/ffmpeg.py</td>\n",
              "      <td>https://github.com/soimort/you-get/blob/b746ac...</td>\n",
              "      <td>ffmpeg_download_stream</td>\n",
              "      <td>def ffmpeg_download_stream(files, title, ext, ...</td>\n",
              "      <td>[def, ffmpeg_download_stream, (, files, ,, tit...</td>\n",
              "      <td>str, str-&gt;True\\n    WARNING: NOT THE SAME PARM...</td>\n",
              "      <td>[str, str, -, &gt;, True, WARNING, :, NOT, THE, S...</td>\n",
              "      <td>27926</td>\n",
              "    </tr>\n",
              "    <tr>\n",
              "      <th>37</th>\n",
              "      <td>soimort/you-get</td>\n",
              "      <td>src/you_get/common.py</td>\n",
              "      <td>https://github.com/soimort/you-get/blob/b746ac...</td>\n",
              "      <td>match1</td>\n",
              "      <td>def match1(text, *patterns):\\n    \"\"\"Scans thr...</td>\n",
              "      <td>[def, match1, (, text, ,, *, patterns, ), :, i...</td>\n",
              "      <td>Scans through a string for substrings matched ...</td>\n",
              "      <td>[Scans, through, a, string, for, substrings, m...</td>\n",
              "      <td>27926</td>\n",
              "    </tr>\n",
              "    <tr>\n",
              "      <th>38</th>\n",
              "      <td>soimort/you-get</td>\n",
              "      <td>src/you_get/common.py</td>\n",
              "      <td>https://github.com/soimort/you-get/blob/b746ac...</td>\n",
              "      <td>matchall</td>\n",
              "      <td>def matchall(text, patterns):\\n    \"\"\"Scans th...</td>\n",
              "      <td>[def, matchall, (, text, ,, patterns, ), :, re...</td>\n",
              "      <td>Scans through a string for substrings matched ...</td>\n",
              "      <td>[Scans, through, a, string, for, substrings, m...</td>\n",
              "      <td>27926</td>\n",
              "    </tr>\n",
              "    <tr>\n",
              "      <th>39</th>\n",
              "      <td>soimort/you-get</td>\n",
              "      <td>src/you_get/common.py</td>\n",
              "      <td>https://github.com/soimort/you-get/blob/b746ac...</td>\n",
              "      <td>parse_query_param</td>\n",
              "      <td>def parse_query_param(url, param):\\n    \"\"\"Par...</td>\n",
              "      <td>[def, parse_query_param, (, url, ,, param, ), ...</td>\n",
              "      <td>Parses the query string of a URL and returns t...</td>\n",
              "      <td>[Parses, the, query, string, of, a, URL, and, ...</td>\n",
              "      <td>27926</td>\n",
              "    </tr>\n",
              "    <tr>\n",
              "      <th>40</th>\n",
              "      <td>soimort/you-get</td>\n",
              "      <td>src/you_get/common.py</td>\n",
              "      <td>https://github.com/soimort/you-get/blob/b746ac...</td>\n",
              "      <td>ungzip</td>\n",
              "      <td>def ungzip(data):\\n    \"\"\"Decompresses data fo...</td>\n",
              "      <td>[def, ungzip, (, data, ), :, from, io, import,...</td>\n",
              "      <td>Decompresses data for Content-Encoding: gzip.</td>\n",
              "      <td>[Decompresses, data, for, Content, -, Encoding...</td>\n",
              "      <td>27926</td>\n",
              "    </tr>\n",
              "    <tr>\n",
              "      <th>41</th>\n",
              "      <td>soimort/you-get</td>\n",
              "      <td>src/you_get/common.py</td>\n",
              "      <td>https://github.com/soimort/you-get/blob/b746ac...</td>\n",
              "      <td>undeflate</td>\n",
              "      <td>def undeflate(data):\\n    \"\"\"Decompresses data...</td>\n",
              "      <td>[def, undeflate, (, data, ), :, import, zlib, ...</td>\n",
              "      <td>Decompresses data for Content-Encoding: deflat...</td>\n",
              "      <td>[Decompresses, data, for, Content, -, Encoding...</td>\n",
              "      <td>27926</td>\n",
              "    </tr>\n",
              "    <tr>\n",
              "      <th>42</th>\n",
              "      <td>soimort/you-get</td>\n",
              "      <td>src/you_get/common.py</td>\n",
              "      <td>https://github.com/soimort/you-get/blob/b746ac...</td>\n",
              "      <td>get_content</td>\n",
              "      <td>def get_content(url, headers={}, decoded=True)...</td>\n",
              "      <td>[def, get_content, (, url, ,, headers, =, {, }...</td>\n",
              "      <td>Gets the content of a URL via sending a HTTP G...</td>\n",
              "      <td>[Gets, the, content, of, a, URL, via, sending,...</td>\n",
              "      <td>27926</td>\n",
              "    </tr>\n",
              "    <tr>\n",
              "      <th>43</th>\n",
              "      <td>soimort/you-get</td>\n",
              "      <td>src/you_get/common.py</td>\n",
              "      <td>https://github.com/soimort/you-get/blob/b746ac...</td>\n",
              "      <td>post_content</td>\n",
              "      <td>def post_content(url, headers={}, post_data={}...</td>\n",
              "      <td>[def, post_content, (, url, ,, headers, =, {, ...</td>\n",
              "      <td>Post the content of a URL via sending a HTTP P...</td>\n",
              "      <td>[Post, the, content, of, a, URL, via, sending,...</td>\n",
              "      <td>27926</td>\n",
              "    </tr>\n",
              "    <tr>\n",
              "      <th>44</th>\n",
              "      <td>soimort/you-get</td>\n",
              "      <td>src/you_get/common.py</td>\n",
              "      <td>https://github.com/soimort/you-get/blob/b746ac...</td>\n",
              "      <td>parse_host</td>\n",
              "      <td>def parse_host(host):\\n    \"\"\"Parses host name...</td>\n",
              "      <td>[def, parse_host, (, host, ), :, if, re, ., ma...</td>\n",
              "      <td>Parses host name and port number from a string.</td>\n",
              "      <td>[Parses, host, name, and, port, number, from, ...</td>\n",
              "      <td>27926</td>\n",
              "    </tr>\n",
              "    <tr>\n",
              "      <th>45</th>\n",
              "      <td>soimort/you-get</td>\n",
              "      <td>src/you_get/common.py</td>\n",
              "      <td>https://github.com/soimort/you-get/blob/b746ac...</td>\n",
              "      <td>print_more_compatible</td>\n",
              "      <td>def print_more_compatible(*args, **kwargs):\\n ...</td>\n",
              "      <td>[def, print_more_compatible, (, *, args, ,, *,...</td>\n",
              "      <td>Overload default print function as py (&lt;3.3) d...</td>\n",
              "      <td>[Overload, default, print, function, as, py, (...</td>\n",
              "      <td>27926</td>\n",
              "    </tr>\n",
              "    <tr>\n",
              "      <th>46</th>\n",
              "      <td>soimort/you-get</td>\n",
              "      <td>src/you_get/extractors/showroom.py</td>\n",
              "      <td>https://github.com/soimort/you-get/blob/b746ac...</td>\n",
              "      <td>showroom_get_roomid_by_room_url_key</td>\n",
              "      <td>def showroom_get_roomid_by_room_url_key(room_u...</td>\n",
              "      <td>[def, showroom_get_roomid_by_room_url_key, (, ...</td>\n",
              "      <td>str-&gt;str</td>\n",
              "      <td>[str, -, &gt;, str]</td>\n",
              "      <td>27926</td>\n",
              "    </tr>\n",
              "    <tr>\n",
              "      <th>47</th>\n",
              "      <td>soimort/you-get</td>\n",
              "      <td>src/you_get/extractors/showroom.py</td>\n",
              "      <td>https://github.com/soimort/you-get/blob/b746ac...</td>\n",
              "      <td>showroom_download_by_room_id</td>\n",
              "      <td>def showroom_download_by_room_id(room_id, outp...</td>\n",
              "      <td>[def, showroom_download_by_room_id, (, room_id...</td>\n",
              "      <td>Source: Android mobile</td>\n",
              "      <td>[Source, :, Android, mobile]</td>\n",
              "      <td>27926</td>\n",
              "    </tr>\n",
              "    <tr>\n",
              "      <th>48</th>\n",
              "      <td>soimort/you-get</td>\n",
              "      <td>src/you_get/extractors/wanmen.py</td>\n",
              "      <td>https://github.com/soimort/you-get/blob/b746ac...</td>\n",
              "      <td>_wanmen_get_title_by_json_topic_part</td>\n",
              "      <td>def _wanmen_get_title_by_json_topic_part(json_...</td>\n",
              "      <td>[def, _wanmen_get_title_by_json_topic_part, (,...</td>\n",
              "      <td>JSON, int, int, int-&gt;str\\n    \\n    Get a prop...</td>\n",
              "      <td>[JSON, int, int, int, -, &gt;, str, Get, a, prope...</td>\n",
              "      <td>27926</td>\n",
              "    </tr>\n",
              "    <tr>\n",
              "      <th>49</th>\n",
              "      <td>soimort/you-get</td>\n",
              "      <td>src/you_get/extractors/wanmen.py</td>\n",
              "      <td>https://github.com/soimort/you-get/blob/b746ac...</td>\n",
              "      <td>wanmen_download_by_course</td>\n",
              "      <td>def wanmen_download_by_course(json_api_content...</td>\n",
              "      <td>[def, wanmen_download_by_course, (, json_api_c...</td>\n",
              "      <td>int-&gt;None\\n    \\n    Download a WHOLE course.\\...</td>\n",
              "      <td>[int, -, &gt;, None, Download, a, WHOLE, course, ...</td>\n",
              "      <td>27926</td>\n",
              "    </tr>\n",
              "    <tr>\n",
              "      <th>50</th>\n",
              "      <td>soimort/you-get</td>\n",
              "      <td>src/you_get/extractors/wanmen.py</td>\n",
              "      <td>https://github.com/soimort/you-get/blob/b746ac...</td>\n",
              "      <td>wanmen_download_by_course_topic_part</td>\n",
              "      <td>def wanmen_download_by_course_topic_part(json_...</td>\n",
              "      <td>[def, wanmen_download_by_course_topic_part, (,...</td>\n",
              "      <td>int, int, int-&gt;None\\n    \\n    Download ONE PA...</td>\n",
              "      <td>[int, int, int, -, &gt;, None, Download, ONE, PAR...</td>\n",
              "      <td>27926</td>\n",
              "    </tr>\n",
              "    <tr>\n",
              "      <th>51</th>\n",
              "      <td>soimort/you-get</td>\n",
              "      <td>src/you_get/extractors/bigthink.py</td>\n",
              "      <td>https://github.com/soimort/you-get/blob/b746ac...</td>\n",
              "      <td>Bigthink.get_streams_by_id</td>\n",
              "      <td>def get_streams_by_id(account_number, video_id...</td>\n",
              "      <td>[def, get_streams_by_id, (, account_number, ,,...</td>\n",
              "      <td>int, int-&gt;list\\n        \\n        Get the heig...</td>\n",
              "      <td>[int, int, -, &gt;, list, Get, the, height, of, t...</td>\n",
              "      <td>27926</td>\n",
              "    </tr>\n",
              "  </tbody>\n",
              "</table>\n",
              "</div>"
            ],
            "text/plain": [
              "               repo  ...   star\n",
              "0   soimort/you-get  ...  27926\n",
              "1   soimort/you-get  ...  27926\n",
              "2   soimort/you-get  ...  27926\n",
              "3   soimort/you-get  ...  27926\n",
              "4   soimort/you-get  ...  27926\n",
              "5   soimort/you-get  ...  27926\n",
              "6   soimort/you-get  ...  27926\n",
              "7   soimort/you-get  ...  27926\n",
              "8   soimort/you-get  ...  27926\n",
              "9   soimort/you-get  ...  27926\n",
              "10  soimort/you-get  ...  27926\n",
              "11  soimort/you-get  ...  27926\n",
              "12  soimort/you-get  ...  27926\n",
              "13  soimort/you-get  ...  27926\n",
              "14  soimort/you-get  ...  27926\n",
              "15  soimort/you-get  ...  27926\n",
              "16  soimort/you-get  ...  27926\n",
              "17  soimort/you-get  ...  27926\n",
              "18  soimort/you-get  ...  27926\n",
              "19  soimort/you-get  ...  27926\n",
              "20  soimort/you-get  ...  27926\n",
              "21  soimort/you-get  ...  27926\n",
              "22  soimort/you-get  ...  27926\n",
              "23  soimort/you-get  ...  27926\n",
              "24  soimort/you-get  ...  27926\n",
              "25  soimort/you-get  ...  27926\n",
              "26  soimort/you-get  ...  27926\n",
              "27  soimort/you-get  ...  27926\n",
              "28  soimort/you-get  ...  27926\n",
              "29  soimort/you-get  ...  27926\n",
              "30  soimort/you-get  ...  27926\n",
              "31  soimort/you-get  ...  27926\n",
              "32  soimort/you-get  ...  27926\n",
              "33  soimort/you-get  ...  27926\n",
              "34  soimort/you-get  ...  27926\n",
              "35  soimort/you-get  ...  27926\n",
              "36  soimort/you-get  ...  27926\n",
              "37  soimort/you-get  ...  27926\n",
              "38  soimort/you-get  ...  27926\n",
              "39  soimort/you-get  ...  27926\n",
              "40  soimort/you-get  ...  27926\n",
              "41  soimort/you-get  ...  27926\n",
              "42  soimort/you-get  ...  27926\n",
              "43  soimort/you-get  ...  27926\n",
              "44  soimort/you-get  ...  27926\n",
              "45  soimort/you-get  ...  27926\n",
              "46  soimort/you-get  ...  27926\n",
              "47  soimort/you-get  ...  27926\n",
              "48  soimort/you-get  ...  27926\n",
              "49  soimort/you-get  ...  27926\n",
              "50  soimort/you-get  ...  27926\n",
              "51  soimort/you-get  ...  27926\n",
              "\n",
              "[52 rows x 9 columns]"
            ]
          },
          "metadata": {
            "tags": []
          },
          "execution_count": 56
        }
      ]
    },
    {
      "cell_type": "code",
      "metadata": {
        "id": "36385D4G-L8X",
        "colab_type": "code",
        "colab": {
          "base_uri": "https://localhost:8080/",
          "height": 255
        },
        "outputId": "ca928fc3-bc17-4924-eede-7d69e8f29e16"
      },
      "source": [
        "pydf_highest_star_df.info()"
      ],
      "execution_count": 57,
      "outputs": [
        {
          "output_type": "stream",
          "text": [
            "<class 'pandas.core.frame.DataFrame'>\n",
            "Int64Index: 52 entries, 0 to 51\n",
            "Data columns (total 9 columns):\n",
            "repo                52 non-null object\n",
            "path                52 non-null object\n",
            "url                 52 non-null object\n",
            "func_name           52 non-null object\n",
            "code                52 non-null object\n",
            "code_tokens         52 non-null object\n",
            "docstring           52 non-null object\n",
            "docstring_tokens    52 non-null object\n",
            "star                52 non-null object\n",
            "dtypes: object(9)\n",
            "memory usage: 4.1+ KB\n"
          ],
          "name": "stdout"
        }
      ]
    },
    {
      "cell_type": "code",
      "metadata": {
        "id": "RvY9B3Nm-ahg",
        "colab_type": "code",
        "colab": {
          "base_uri": "https://localhost:8080/",
          "height": 34
        },
        "outputId": "060c47b9-b8f5-431c-9f69-83ae39ab6b17"
      },
      "source": [
        "# Checking how many unique repositories are having the highest star value we got from last step\n",
        "pydf_highest_star_df.repo.unique()"
      ],
      "execution_count": 58,
      "outputs": [
        {
          "output_type": "execute_result",
          "data": {
            "text/plain": [
              "array(['soimort/you-get'], dtype=object)"
            ]
          },
          "metadata": {
            "tags": []
          },
          "execution_count": 58
        }
      ]
    },
    {
      "cell_type": "code",
      "metadata": {
        "id": "GkDCFLhF-6RZ",
        "colab_type": "code",
        "colab": {}
      },
      "source": [
        "# Now lets get the AST path representation of this dataframe using the AST miner tool\n"
      ],
      "execution_count": 0,
      "outputs": []
    }
  ]
}