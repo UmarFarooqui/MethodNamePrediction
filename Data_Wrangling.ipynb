{
  "nbformat": 4,
  "nbformat_minor": 0,
  "metadata": {
    "colab": {
      "name": "Data_Wrangling.ipynb",
      "provenance": [],
      "collapsed_sections": [],
      "include_colab_link": true
    },
    "kernelspec": {
      "name": "python3",
      "display_name": "Python 3"
    }
  },
  "cells": [
    {
      "cell_type": "markdown",
      "metadata": {
        "id": "view-in-github",
        "colab_type": "text"
      },
      "source": [
        "<a href=\"https://colab.research.google.com/github/UmarFarooqui/Springboard/blob/master/Data_Wrangling.ipynb\" target=\"_parent\"><img src=\"https://colab.research.google.com/assets/colab-badge.svg\" alt=\"Open In Colab\"/></a>"
      ]
    },
    {
      "cell_type": "code",
      "metadata": {
        "id": "bZHSpPRZe6S8",
        "colab_type": "code",
        "colab": {}
      },
      "source": [
        "from pprint import pprint\n",
        "import json\n",
        "from pathlib import Path\n",
        "import pandas as pd\n",
        "import requests\n",
        "from google.colab import files"
      ],
      "execution_count": 0,
      "outputs": []
    },
    {
      "cell_type": "code",
      "metadata": {
        "id": "0BVqz5V0Xymp",
        "colab_type": "code",
        "outputId": "4bb09b03-5a75-443b-aeb2-17db938cc8b5",
        "colab": {
          "base_uri": "https://localhost:8080/",
          "height": 122
        }
      },
      "source": [
        "# Mounting the google drive\n",
        "from google.colab import drive\n",
        "drive.mount('/content/drive')"
      ],
      "execution_count": 4,
      "outputs": [
        {
          "output_type": "stream",
          "text": [
            "Go to this URL in a browser: https://accounts.google.com/o/oauth2/auth?client_id=947318989803-6bn6qk8qdgf4n4g3pfee6491hc0brc4i.apps.googleusercontent.com&redirect_uri=urn%3Aietf%3Awg%3Aoauth%3A2.0%3Aoob&scope=email%20https%3A%2F%2Fwww.googleapis.com%2Fauth%2Fdocs.test%20https%3A%2F%2Fwww.googleapis.com%2Fauth%2Fdrive%20https%3A%2F%2Fwww.googleapis.com%2Fauth%2Fdrive.photos.readonly%20https%3A%2F%2Fwww.googleapis.com%2Fauth%2Fpeopleapi.readonly&response_type=code\n",
            "\n",
            "Enter your authorization code:\n",
            "··········\n",
            "Mounted at /content/drive\n"
          ],
          "name": "stdout"
        }
      ]
    },
    {
      "cell_type": "code",
      "metadata": {
        "id": "2Cyo08SEacmY",
        "colab_type": "code",
        "outputId": "dc07e0e9-3de6-4ae6-cae5-52d74007f24e",
        "colab": {
          "base_uri": "https://localhost:8080/",
          "height": 34
        }
      },
      "source": [
        "# Uploaded the dataset to google drive. Checking.\n",
        "!ls \"/content/drive/My Drive/data\""
      ],
      "execution_count": 5,
      "outputs": [
        {
          "output_type": "stream",
          "text": [
            "codesearchnet_python.zip\n"
          ],
          "name": "stdout"
        }
      ]
    },
    {
      "cell_type": "code",
      "metadata": {
        "id": "PkNaFKp9c3D7",
        "colab_type": "code",
        "outputId": "9911c21d-fa84-4296-8bb3-00cbc4b6e366",
        "colab": {
          "base_uri": "https://localhost:8080/",
          "height": 442
        }
      },
      "source": [
        "!unzip \"/content/drive/My Drive/data/codesearchnet_python.zip\""
      ],
      "execution_count": 6,
      "outputs": [
        {
          "output_type": "stream",
          "text": [
            "Archive:  /content/drive/My Drive/data/codesearchnet_python.zip\n",
            "   creating: python/\n",
            "   creating: python/final/\n",
            "   creating: python/final/jsonl/\n",
            "   creating: python/final/jsonl/train/\n",
            "  inflating: python/final/jsonl/train/python_train_9.jsonl.gz  \n",
            "  inflating: python/final/jsonl/train/python_train_12.jsonl.gz  \n",
            "  inflating: python/final/jsonl/train/python_train_10.jsonl.gz  \n",
            "  inflating: python/final/jsonl/train/python_train_0.jsonl.gz  \n",
            "  inflating: python/final/jsonl/train/python_train_6.jsonl.gz  \n",
            "  inflating: python/final/jsonl/train/python_train_2.jsonl.gz  \n",
            "  inflating: python/final/jsonl/train/python_train_4.jsonl.gz  \n",
            "  inflating: python/final/jsonl/train/python_train_8.jsonl.gz  \n",
            "  inflating: python/final/jsonl/train/python_train_11.jsonl.gz  \n",
            "  inflating: python/final/jsonl/train/python_train_5.jsonl.gz  \n",
            "  inflating: python/final/jsonl/train/python_train_13.jsonl.gz  \n",
            "  inflating: python/final/jsonl/train/python_train_3.jsonl.gz  \n",
            "  inflating: python/final/jsonl/train/python_train_1.jsonl.gz  \n",
            "  inflating: python/final/jsonl/train/python_train_7.jsonl.gz  \n",
            "   creating: python/final/jsonl/test/\n",
            "  inflating: python/final/jsonl/test/python_test_0.jsonl.gz  \n",
            "   creating: python/final/jsonl/valid/\n",
            "  inflating: python/final/jsonl/valid/python_valid_0.jsonl.gz  \n",
            "  inflating: python_dedupe_definitions_v2.pkl  \n",
            "  inflating: python_licenses.pkl     \n"
          ],
          "name": "stdout"
        }
      ]
    },
    {
      "cell_type": "code",
      "metadata": {
        "id": "dcxXTIRgeZeT",
        "colab_type": "code",
        "colab": {}
      },
      "source": [
        "# Exploring the full dataset\n",
        "python_files = sorted(Path('python/').glob('**/*.gz'))"
      ],
      "execution_count": 0,
      "outputs": []
    },
    {
      "cell_type": "code",
      "metadata": {
        "id": "J6J_UNP9xhiJ",
        "colab_type": "code",
        "outputId": "45b51363-7d58-4665-fa58-961c32b45fde",
        "colab": {
          "base_uri": "https://localhost:8080/",
          "height": 289
        }
      },
      "source": [
        "python_files"
      ],
      "execution_count": 8,
      "outputs": [
        {
          "output_type": "execute_result",
          "data": {
            "text/plain": [
              "[PosixPath('python/final/jsonl/test/python_test_0.jsonl.gz'),\n",
              " PosixPath('python/final/jsonl/train/python_train_0.jsonl.gz'),\n",
              " PosixPath('python/final/jsonl/train/python_train_1.jsonl.gz'),\n",
              " PosixPath('python/final/jsonl/train/python_train_10.jsonl.gz'),\n",
              " PosixPath('python/final/jsonl/train/python_train_11.jsonl.gz'),\n",
              " PosixPath('python/final/jsonl/train/python_train_12.jsonl.gz'),\n",
              " PosixPath('python/final/jsonl/train/python_train_13.jsonl.gz'),\n",
              " PosixPath('python/final/jsonl/train/python_train_2.jsonl.gz'),\n",
              " PosixPath('python/final/jsonl/train/python_train_3.jsonl.gz'),\n",
              " PosixPath('python/final/jsonl/train/python_train_4.jsonl.gz'),\n",
              " PosixPath('python/final/jsonl/train/python_train_5.jsonl.gz'),\n",
              " PosixPath('python/final/jsonl/train/python_train_6.jsonl.gz'),\n",
              " PosixPath('python/final/jsonl/train/python_train_7.jsonl.gz'),\n",
              " PosixPath('python/final/jsonl/train/python_train_8.jsonl.gz'),\n",
              " PosixPath('python/final/jsonl/train/python_train_9.jsonl.gz'),\n",
              " PosixPath('python/final/jsonl/valid/python_valid_0.jsonl.gz')]"
            ]
          },
          "metadata": {
            "tags": []
          },
          "execution_count": 8
        }
      ]
    },
    {
      "cell_type": "code",
      "metadata": {
        "id": "MIMzWL-bxwx-",
        "colab_type": "code",
        "outputId": "465b139f-0185-4feb-aad6-68d3bb9230db",
        "colab": {
          "base_uri": "https://localhost:8080/",
          "height": 34
        }
      },
      "source": [
        "print(f'Total number of files: {len(python_files)}')"
      ],
      "execution_count": 9,
      "outputs": [
        {
          "output_type": "stream",
          "text": [
            "Total number of files: 16\n"
          ],
          "name": "stdout"
        }
      ]
    },
    {
      "cell_type": "code",
      "metadata": {
        "id": "zAAGuPgJzKFC",
        "colab_type": "code",
        "colab": {}
      },
      "source": [
        "columns_list = ['repo', 'path', 'url', 'func_name', 'code', 'code_tokens', 'docstring', 'docstring_tokens']"
      ],
      "execution_count": 0,
      "outputs": []
    },
    {
      "cell_type": "code",
      "metadata": {
        "id": "MPuHC-fZztIS",
        "colab_type": "code",
        "colab": {}
      },
      "source": [
        "def jsonl_list_to_dataframe(file_list, columns=columns_list):\n",
        "  \"\"\"Load a list of jsonl.gz files into a pandas dataframe.\"\"\"\n",
        "  return pd.concat([pd.read_json(f, orient='records', compression='gzip', lines=True)[columns] for f in file_list], sort=False) "
      ],
      "execution_count": 0,
      "outputs": []
    },
    {
      "cell_type": "code",
      "metadata": {
        "id": "3ySkokME0cd6",
        "colab_type": "code",
        "colab": {}
      },
      "source": [
        "pydf = jsonl_list_to_dataframe(python_files)"
      ],
      "execution_count": 0,
      "outputs": []
    },
    {
      "cell_type": "code",
      "metadata": {
        "id": "NHtXH6QQ0inj",
        "colab_type": "code",
        "outputId": "54318c73-6236-45f4-97d6-ce594b298d70",
        "colab": {
          "base_uri": "https://localhost:8080/",
          "height": 193
        }
      },
      "source": [
        "pydf.head(3)"
      ],
      "execution_count": 14,
      "outputs": [
        {
          "output_type": "execute_result",
          "data": {
            "text/html": [
              "<div>\n",
              "<style scoped>\n",
              "    .dataframe tbody tr th:only-of-type {\n",
              "        vertical-align: middle;\n",
              "    }\n",
              "\n",
              "    .dataframe tbody tr th {\n",
              "        vertical-align: top;\n",
              "    }\n",
              "\n",
              "    .dataframe thead th {\n",
              "        text-align: right;\n",
              "    }\n",
              "</style>\n",
              "<table border=\"1\" class=\"dataframe\">\n",
              "  <thead>\n",
              "    <tr style=\"text-align: right;\">\n",
              "      <th></th>\n",
              "      <th>repo</th>\n",
              "      <th>path</th>\n",
              "      <th>url</th>\n",
              "      <th>func_name</th>\n",
              "      <th>code</th>\n",
              "      <th>code_tokens</th>\n",
              "      <th>docstring</th>\n",
              "      <th>docstring_tokens</th>\n",
              "    </tr>\n",
              "  </thead>\n",
              "  <tbody>\n",
              "    <tr>\n",
              "      <th>0</th>\n",
              "      <td>soimort/you-get</td>\n",
              "      <td>src/you_get/extractors/youtube.py</td>\n",
              "      <td>https://github.com/soimort/you-get/blob/b746ac...</td>\n",
              "      <td>YouTube.get_vid_from_url</td>\n",
              "      <td>def get_vid_from_url(url):\\n        \"\"\"Extract...</td>\n",
              "      <td>[def, get_vid_from_url, (, url, ), :, return, ...</td>\n",
              "      <td>Extracts video ID from URL.</td>\n",
              "      <td>[Extracts, video, ID, from, URL, .]</td>\n",
              "    </tr>\n",
              "    <tr>\n",
              "      <th>1</th>\n",
              "      <td>soimort/you-get</td>\n",
              "      <td>src/you_get/extractors/miomio.py</td>\n",
              "      <td>https://github.com/soimort/you-get/blob/b746ac...</td>\n",
              "      <td>sina_xml_to_url_list</td>\n",
              "      <td>def sina_xml_to_url_list(xml_data):\\n    \"\"\"st...</td>\n",
              "      <td>[def, sina_xml_to_url_list, (, xml_data, ), :,...</td>\n",
              "      <td>str-&gt;list\\n    Convert XML to URL List.\\n    F...</td>\n",
              "      <td>[str, -, &gt;, list, Convert, XML, to, URL, List,...</td>\n",
              "    </tr>\n",
              "    <tr>\n",
              "      <th>2</th>\n",
              "      <td>soimort/you-get</td>\n",
              "      <td>src/you_get/extractors/fc2video.py</td>\n",
              "      <td>https://github.com/soimort/you-get/blob/b746ac...</td>\n",
              "      <td>makeMimi</td>\n",
              "      <td>def makeMimi(upid):\\n    \"\"\"From http://cdn37....</td>\n",
              "      <td>[def, makeMimi, (, upid, ), :, strSeed, =, \"gG...</td>\n",
              "      <td>From http://cdn37.atwikiimg.com/sitescript/pub...</td>\n",
              "      <td>[From, http, :, //, cdn37, ., atwikiimg, ., co...</td>\n",
              "    </tr>\n",
              "  </tbody>\n",
              "</table>\n",
              "</div>"
            ],
            "text/plain": [
              "              repo  ...                                   docstring_tokens\n",
              "0  soimort/you-get  ...                [Extracts, video, ID, from, URL, .]\n",
              "1  soimort/you-get  ...  [str, -, >, list, Convert, XML, to, URL, List,...\n",
              "2  soimort/you-get  ...  [From, http, :, //, cdn37, ., atwikiimg, ., co...\n",
              "\n",
              "[3 rows x 8 columns]"
            ]
          },
          "metadata": {
            "tags": []
          },
          "execution_count": 14
        }
      ]
    },
    {
      "cell_type": "code",
      "metadata": {
        "id": "R_f038v-1LL0",
        "colab_type": "code",
        "outputId": "0cab52c7-af4c-4e1b-cd74-0fec65ed84f5",
        "colab": {
          "base_uri": "https://localhost:8080/",
          "height": 238
        }
      },
      "source": [
        "# The columns which will be used for our purpose would be func_name, code, code_tokens, docstring, docstring_tokens\n",
        "pydf.groupby(['repo'])['code'].count()"
      ],
      "execution_count": 15,
      "outputs": [
        {
          "output_type": "execute_result",
          "data": {
            "text/plain": [
              "repo\n",
              "0101/pipetools                   12\n",
              "02strich/django-auth-kerberos     1\n",
              "05bit/peewee-async               42\n",
              "0compute/xtraceback               2\n",
              "0k/kids.cache                     4\n",
              "                                 ..\n",
              "zyga/python-glibc                32\n",
              "zyga/python-phablet               6\n",
              "zzyztyy/pyIGRF                    6\n",
              "zzzsochi/includer                 2\n",
              "zzzsochi/resolver_deco            1\n",
              "Name: code, Length: 13590, dtype: int64"
            ]
          },
          "metadata": {
            "tags": []
          },
          "execution_count": 15
        }
      ]
    },
    {
      "cell_type": "code",
      "metadata": {
        "id": "SoE9mDnB7LDJ",
        "colab_type": "code",
        "colab": {
          "base_uri": "https://localhost:8080/",
          "height": 34
        },
        "outputId": "d24866e2-30bc-49e6-e960-33f185884322"
      },
      "source": [
        "# As a starting point we will use the repos with a high star count\n",
        "# Example of how to do it\n",
        "url = 'http://api.github.com/repos/'\n",
        "repo_name = '0101/pipetools'\n",
        "r = requests.get(url + repo_name)\n",
        "r_json = r.json()\n",
        "r_json['stargazers_count']"
      ],
      "execution_count": 16,
      "outputs": [
        {
          "output_type": "execute_result",
          "data": {
            "text/plain": [
              "81"
            ]
          },
          "metadata": {
            "tags": []
          },
          "execution_count": 16
        }
      ]
    },
    {
      "cell_type": "code",
      "metadata": {
        "id": "heKZTqdKCbhW",
        "colab_type": "code",
        "outputId": "e2070e7d-3308-442a-bf59-db7c636f4bc5",
        "colab": {
          "base_uri": "https://localhost:8080/",
          "height": 34
        }
      },
      "source": [
        "# Now we will add this as the last column in our dataframe\n",
        "# First check if we have no null values in the repo column\n",
        "pydf.repo.isnull().any()"
      ],
      "execution_count": 17,
      "outputs": [
        {
          "output_type": "execute_result",
          "data": {
            "text/plain": [
              "False"
            ]
          },
          "metadata": {
            "tags": []
          },
          "execution_count": 17
        }
      ]
    },
    {
      "cell_type": "code",
      "metadata": {
        "id": "fle1H_cbDH9-",
        "colab_type": "code",
        "outputId": "616b330f-6094-4cb5-dcaf-8997fd397044",
        "colab": {
          "base_uri": "https://localhost:8080/",
          "height": 49
        }
      },
      "source": [
        "pydf[pydf['repo'] == '']"
      ],
      "execution_count": 18,
      "outputs": [
        {
          "output_type": "execute_result",
          "data": {
            "text/html": [
              "<div>\n",
              "<style scoped>\n",
              "    .dataframe tbody tr th:only-of-type {\n",
              "        vertical-align: middle;\n",
              "    }\n",
              "\n",
              "    .dataframe tbody tr th {\n",
              "        vertical-align: top;\n",
              "    }\n",
              "\n",
              "    .dataframe thead th {\n",
              "        text-align: right;\n",
              "    }\n",
              "</style>\n",
              "<table border=\"1\" class=\"dataframe\">\n",
              "  <thead>\n",
              "    <tr style=\"text-align: right;\">\n",
              "      <th></th>\n",
              "      <th>repo</th>\n",
              "      <th>path</th>\n",
              "      <th>url</th>\n",
              "      <th>func_name</th>\n",
              "      <th>code</th>\n",
              "      <th>code_tokens</th>\n",
              "      <th>docstring</th>\n",
              "      <th>docstring_tokens</th>\n",
              "    </tr>\n",
              "  </thead>\n",
              "  <tbody>\n",
              "  </tbody>\n",
              "</table>\n",
              "</div>"
            ],
            "text/plain": [
              "Empty DataFrame\n",
              "Columns: [repo, path, url, func_name, code, code_tokens, docstring, docstring_tokens]\n",
              "Index: []"
            ]
          },
          "metadata": {
            "tags": []
          },
          "execution_count": 18
        }
      ]
    },
    {
      "cell_type": "code",
      "metadata": {
        "id": "i8r22_VXDeN1",
        "colab_type": "code",
        "outputId": "9aa4520f-32a5-4870-e4b8-cfc35ae5c1c1",
        "colab": {
          "base_uri": "https://localhost:8080/",
          "height": 238
        }
      },
      "source": [
        "# So looks like the repo column is having no null values or empty string\n",
        "# Taking a look at the dataframe\n",
        "pydf.info()"
      ],
      "execution_count": 19,
      "outputs": [
        {
          "output_type": "stream",
          "text": [
            "<class 'pandas.core.frame.DataFrame'>\n",
            "Int64Index: 457461 entries, 0 to 23106\n",
            "Data columns (total 8 columns):\n",
            "repo                457461 non-null object\n",
            "path                457461 non-null object\n",
            "url                 457461 non-null object\n",
            "func_name           457461 non-null object\n",
            "code                457461 non-null object\n",
            "code_tokens         457461 non-null object\n",
            "docstring           457461 non-null object\n",
            "docstring_tokens    457461 non-null object\n",
            "dtypes: object(8)\n",
            "memory usage: 31.4+ MB\n"
          ],
          "name": "stdout"
        }
      ]
    },
    {
      "cell_type": "code",
      "metadata": {
        "id": "WZ4xKxx3D0w9",
        "colab_type": "code",
        "outputId": "b7b18a43-aa62-47fc-b891-ba762d4def7f",
        "colab": {
          "base_uri": "https://localhost:8080/",
          "height": 34
        }
      },
      "source": [
        "# Looks like we have no null values\n",
        "# Length of the dataframe\n",
        "len(pydf)"
      ],
      "execution_count": 20,
      "outputs": [
        {
          "output_type": "execute_result",
          "data": {
            "text/plain": [
              "457461"
            ]
          },
          "metadata": {
            "tags": []
          },
          "execution_count": 20
        }
      ]
    },
    {
      "cell_type": "code",
      "metadata": {
        "id": "Gzjcg__kEOdu",
        "colab_type": "code",
        "outputId": "53a4f1db-e02a-42da-84e5-26f2463d3b01",
        "colab": {
          "base_uri": "https://localhost:8080/",
          "height": 221
        }
      },
      "source": [
        "# So we have 0.45M samples, we will increase our dataset if we need to by exploring more repos.\n",
        "unique_repo_name_series = pydf.repo.drop_duplicates()\n",
        "unique_repo_name_series"
      ],
      "execution_count": 21,
      "outputs": [
        {
          "output_type": "execute_result",
          "data": {
            "text/plain": [
              "0                       soimort/you-get\n",
              "52                       apache/airflow\n",
              "849                      pytorch/vision\n",
              "900                      asciimoo/searx\n",
              "910              tensorflow/probability\n",
              "                      ...              \n",
              "23018           praekelt/python-ambient\n",
              "23024                   zenreach/py-era\n",
              "23090    TakesxiSximada/custom_settings\n",
              "23095              openpermissions/bass\n",
              "23099                 xnuinside/clifier\n",
              "Name: repo, Length: 13590, dtype: object"
            ]
          },
          "metadata": {
            "tags": []
          },
          "execution_count": 21
        }
      ]
    },
    {
      "cell_type": "code",
      "metadata": {
        "id": "Ta0zP4DFFSlX",
        "colab_type": "code",
        "colab": {
          "base_uri": "https://localhost:8080/",
          "height": 214
        },
        "outputId": "77f649ec-661a-4bc1-eca8-b883a975f060"
      },
      "source": [
        "# Turns out that for API request, we can only make up to 5000 request per hour\n",
        "# So, I will not do this for now and explore other means to get the star information\n",
        "repo_star_map = {}\n",
        "first_4000_unique_repo_name_series = unique_repo_name_series[:4000]\n",
        "for index, repo_name in first_4000_unique_repo_name_series.items():\n",
        "  r = requests.get(url + repo_name)\n",
        "  r_json = r.json()\n",
        "  if r_json['stargazers_count']:\n",
        "    repo_star_map[repo_name] = r_json['stargazers_count']"
      ],
      "execution_count": 23,
      "outputs": [
        {
          "output_type": "error",
          "ename": "KeyError",
          "evalue": "ignored",
          "traceback": [
            "\u001b[0;31m---------------------------------------------------------------------------\u001b[0m",
            "\u001b[0;31mKeyError\u001b[0m                                  Traceback (most recent call last)",
            "\u001b[0;32m<ipython-input-23-d09dcf472027>\u001b[0m in \u001b[0;36m<module>\u001b[0;34m()\u001b[0m\n\u001b[1;32m      4\u001b[0m   \u001b[0mr\u001b[0m \u001b[0;34m=\u001b[0m \u001b[0mrequests\u001b[0m\u001b[0;34m.\u001b[0m\u001b[0mget\u001b[0m\u001b[0;34m(\u001b[0m\u001b[0murl\u001b[0m \u001b[0;34m+\u001b[0m \u001b[0mrepo_name\u001b[0m\u001b[0;34m)\u001b[0m\u001b[0;34m\u001b[0m\u001b[0;34m\u001b[0m\u001b[0m\n\u001b[1;32m      5\u001b[0m   \u001b[0mr_json\u001b[0m \u001b[0;34m=\u001b[0m \u001b[0mr\u001b[0m\u001b[0;34m.\u001b[0m\u001b[0mjson\u001b[0m\u001b[0;34m(\u001b[0m\u001b[0;34m)\u001b[0m\u001b[0;34m\u001b[0m\u001b[0;34m\u001b[0m\u001b[0m\n\u001b[0;32m----> 6\u001b[0;31m   \u001b[0;32mif\u001b[0m \u001b[0mr_json\u001b[0m\u001b[0;34m[\u001b[0m\u001b[0;34m'stargazers_count'\u001b[0m\u001b[0;34m]\u001b[0m\u001b[0;34m:\u001b[0m\u001b[0;34m\u001b[0m\u001b[0;34m\u001b[0m\u001b[0m\n\u001b[0m\u001b[1;32m      7\u001b[0m     \u001b[0mrepo_star_map\u001b[0m\u001b[0;34m[\u001b[0m\u001b[0mrepo_name\u001b[0m\u001b[0;34m]\u001b[0m \u001b[0;34m=\u001b[0m \u001b[0mr_json\u001b[0m\u001b[0;34m[\u001b[0m\u001b[0;34m'stargazers_count'\u001b[0m\u001b[0;34m]\u001b[0m\u001b[0;34m\u001b[0m\u001b[0;34m\u001b[0m\u001b[0m\n",
            "\u001b[0;31mKeyError\u001b[0m: 'stargazers_count'"
          ]
        }
      ]
    },
    {
      "cell_type": "code",
      "metadata": {
        "id": "12tw50JeNarm",
        "colab_type": "code",
        "outputId": "cf2f8999-7c90-4293-b44c-a3d3da072e40",
        "colab": {
          "base_uri": "https://localhost:8080/",
          "height": 986
        }
      },
      "source": [
        "repo_star_map"
      ],
      "execution_count": 24,
      "outputs": [
        {
          "output_type": "execute_result",
          "data": {
            "text/plain": [
              "{'3DLIRIOUS/MeshLabXML': 117,\n",
              " 'Azure/azure-sdk-for-python': 909,\n",
              " 'CITGuru/PyInquirer': 561,\n",
              " 'Danielhiversen/PyXiaomiGateway': 102,\n",
              " 'Microsoft/botbuilder-python': 265,\n",
              " 'Nekmo/amazon-dash': 567,\n",
              " 'PyCQA/pylint': 2417,\n",
              " 'Qiskit/qiskit-terra': 2634,\n",
              " 'SectorLabs/django-postgres-extra': 254,\n",
              " 'Tivix/django-rest-auth': 1848,\n",
              " 'alpacahq/alpaca-trade-api-python': 224,\n",
              " 'ansible/ansible-lint': 1859,\n",
              " 'apache/airflow': 14535,\n",
              " 'asciimoo/searx': 5598,\n",
              " 'bloomreach/s4cmd': 929,\n",
              " 'bluedisk/hangul-toolkit': 154,\n",
              " 'celiao/tmdbsimple': 250,\n",
              " 'chaoss/grimoirelab-perceval': 140,\n",
              " 'dagster-io/dagster': 983,\n",
              " 'deepmipt/DeepPavlov': 3668,\n",
              " 'ekzhu/datasketch': 1087,\n",
              " 'geopython/OWSLib': 187,\n",
              " 'google/brotli': 7916,\n",
              " 'google/gin-config': 581,\n",
              " 'graphql-python/graphene-sqlalchemy': 603,\n",
              " 'h2oai/h2o-3': 4434,\n",
              " 'howie6879/ruia': 1028,\n",
              " 'instagrambot/instabot': 2705,\n",
              " 'intel-analytics/BigDL': 3182,\n",
              " 'kennethreitz/twitter-scraper': 1886,\n",
              " 'lensacom/sparkit-learn': 989,\n",
              " 'lepture/flask-oauthlib': 1384,\n",
              " 'librosa/librosa': 3115,\n",
              " 'maxcountryman/flask-uploads': 144,\n",
              " 'mopidy/mopidy-spotify': 626,\n",
              " 'mordred-descriptor/mordred': 75,\n",
              " 'mozilla-iot/webthing-python': 127,\n",
              " 'nesdis/djongo': 713,\n",
              " 'nvdv/vprof': 3545,\n",
              " 'open-mmlab/mmcv': 1172,\n",
              " 'pltrdy/rouge': 208,\n",
              " 'pyca/pyopenssl': 626,\n",
              " 'pydanny/cookiecutter-django': 6003,\n",
              " 'python/performance': 289,\n",
              " 'pytorch/vision': 4840,\n",
              " 'ralphbean/bugwarrior': 444,\n",
              " 'rollbar/pyrollbar': 158,\n",
              " 'rsennrich/Bleualign': 146,\n",
              " 'savoirfairelinux/num2words': 302,\n",
              " 'scrapinghub/dateparser': 1331,\n",
              " 'soimort/you-get': 27926,\n",
              " 'streamlink/streamlink': 3985,\n",
              " 'tensorflow/probability': 2543,\n",
              " 'vaexio/vaex': 1722,\n",
              " 'williamFalcon/test-tube': 511,\n",
              " 'yandex/yandex-tank': 1780,\n",
              " 'zqfang/GSEApy': 123}"
            ]
          },
          "metadata": {
            "tags": []
          },
          "execution_count": 24
        }
      ]
    },
    {
      "cell_type": "code",
      "metadata": {
        "id": "Uz_6Bqw4V8Mo",
        "colab_type": "code",
        "colab": {}
      },
      "source": [
        "# Persisting the dataframe containing star information for the repositories\n",
        "with open('repository_star_info.json', 'w') as outfile:\n",
        "  json.dump(repo_star_map, outfile)\n",
        "files.download('repository_star_info.json')"
      ],
      "execution_count": 0,
      "outputs": []
    },
    {
      "cell_type": "code",
      "metadata": {
        "id": "iQLau5TCY3-F",
        "colab_type": "code",
        "colab": {
          "base_uri": "https://localhost:8080/",
          "height": 34
        },
        "outputId": "cc35d67f-e9b1-488b-c7ef-967bb0ebb41d"
      },
      "source": [
        "# Uploaded the downloaded file to the gdrive, checking if the system recognizes it\n",
        "!ls \"/content/drive/My Drive/data\""
      ],
      "execution_count": 37,
      "outputs": [
        {
          "output_type": "stream",
          "text": [
            "codesearchnet_python.zip  repository_star_info.json\n"
          ],
          "name": "stdout"
        }
      ]
    },
    {
      "cell_type": "code",
      "metadata": {
        "id": "YsLkeqmdZNez",
        "colab_type": "code",
        "colab": {
          "base_uri": "https://localhost:8080/",
          "height": 986
        },
        "outputId": "309f231c-7658-4ec0-c52d-e3ea8e7ebcaf"
      },
      "source": [
        "# Reading the json from the file\n",
        "with open('repository_star_info.json') as json_file:\n",
        "  repository_metadata_info = json.load(json_file)\n",
        "repository_metadata_info"
      ],
      "execution_count": 38,
      "outputs": [
        {
          "output_type": "execute_result",
          "data": {
            "text/plain": [
              "{'3DLIRIOUS/MeshLabXML': 117,\n",
              " 'Azure/azure-sdk-for-python': 909,\n",
              " 'CITGuru/PyInquirer': 561,\n",
              " 'Danielhiversen/PyXiaomiGateway': 102,\n",
              " 'Microsoft/botbuilder-python': 265,\n",
              " 'Nekmo/amazon-dash': 567,\n",
              " 'PyCQA/pylint': 2417,\n",
              " 'Qiskit/qiskit-terra': 2634,\n",
              " 'SectorLabs/django-postgres-extra': 254,\n",
              " 'Tivix/django-rest-auth': 1848,\n",
              " 'alpacahq/alpaca-trade-api-python': 224,\n",
              " 'ansible/ansible-lint': 1859,\n",
              " 'apache/airflow': 14535,\n",
              " 'asciimoo/searx': 5598,\n",
              " 'bloomreach/s4cmd': 929,\n",
              " 'bluedisk/hangul-toolkit': 154,\n",
              " 'celiao/tmdbsimple': 250,\n",
              " 'chaoss/grimoirelab-perceval': 140,\n",
              " 'dagster-io/dagster': 983,\n",
              " 'deepmipt/DeepPavlov': 3668,\n",
              " 'ekzhu/datasketch': 1087,\n",
              " 'geopython/OWSLib': 187,\n",
              " 'google/brotli': 7916,\n",
              " 'google/gin-config': 581,\n",
              " 'graphql-python/graphene-sqlalchemy': 603,\n",
              " 'h2oai/h2o-3': 4434,\n",
              " 'howie6879/ruia': 1028,\n",
              " 'instagrambot/instabot': 2705,\n",
              " 'intel-analytics/BigDL': 3182,\n",
              " 'kennethreitz/twitter-scraper': 1886,\n",
              " 'lensacom/sparkit-learn': 989,\n",
              " 'lepture/flask-oauthlib': 1384,\n",
              " 'librosa/librosa': 3115,\n",
              " 'maxcountryman/flask-uploads': 144,\n",
              " 'mopidy/mopidy-spotify': 626,\n",
              " 'mordred-descriptor/mordred': 75,\n",
              " 'mozilla-iot/webthing-python': 127,\n",
              " 'nesdis/djongo': 713,\n",
              " 'nvdv/vprof': 3545,\n",
              " 'open-mmlab/mmcv': 1172,\n",
              " 'pltrdy/rouge': 208,\n",
              " 'pyca/pyopenssl': 626,\n",
              " 'pydanny/cookiecutter-django': 6003,\n",
              " 'python/performance': 289,\n",
              " 'pytorch/vision': 4840,\n",
              " 'ralphbean/bugwarrior': 444,\n",
              " 'rollbar/pyrollbar': 158,\n",
              " 'rsennrich/Bleualign': 146,\n",
              " 'savoirfairelinux/num2words': 302,\n",
              " 'scrapinghub/dateparser': 1331,\n",
              " 'soimort/you-get': 27926,\n",
              " 'streamlink/streamlink': 3985,\n",
              " 'tensorflow/probability': 2543,\n",
              " 'vaexio/vaex': 1722,\n",
              " 'williamFalcon/test-tube': 511,\n",
              " 'yandex/yandex-tank': 1780,\n",
              " 'zqfang/GSEApy': 123}"
            ]
          },
          "metadata": {
            "tags": []
          },
          "execution_count": 38
        }
      ]
    },
    {
      "cell_type": "code",
      "metadata": {
        "id": "0z1Um4IST6F3",
        "colab_type": "code",
        "outputId": "dc743ceb-c5de-4140-8ce1-cd8d6d721e7e",
        "colab": {
          "base_uri": "https://localhost:8080/",
          "height": 193
        }
      },
      "source": [
        "# Append a column in the pydf dataframe called star that contains the star information we have discovered so far\n",
        "pydf.head(3)"
      ],
      "execution_count": 39,
      "outputs": [
        {
          "output_type": "execute_result",
          "data": {
            "text/html": [
              "<div>\n",
              "<style scoped>\n",
              "    .dataframe tbody tr th:only-of-type {\n",
              "        vertical-align: middle;\n",
              "    }\n",
              "\n",
              "    .dataframe tbody tr th {\n",
              "        vertical-align: top;\n",
              "    }\n",
              "\n",
              "    .dataframe thead th {\n",
              "        text-align: right;\n",
              "    }\n",
              "</style>\n",
              "<table border=\"1\" class=\"dataframe\">\n",
              "  <thead>\n",
              "    <tr style=\"text-align: right;\">\n",
              "      <th></th>\n",
              "      <th>repo</th>\n",
              "      <th>path</th>\n",
              "      <th>url</th>\n",
              "      <th>func_name</th>\n",
              "      <th>code</th>\n",
              "      <th>code_tokens</th>\n",
              "      <th>docstring</th>\n",
              "      <th>docstring_tokens</th>\n",
              "    </tr>\n",
              "  </thead>\n",
              "  <tbody>\n",
              "    <tr>\n",
              "      <th>0</th>\n",
              "      <td>soimort/you-get</td>\n",
              "      <td>src/you_get/extractors/youtube.py</td>\n",
              "      <td>https://github.com/soimort/you-get/blob/b746ac...</td>\n",
              "      <td>YouTube.get_vid_from_url</td>\n",
              "      <td>def get_vid_from_url(url):\\n        \"\"\"Extract...</td>\n",
              "      <td>[def, get_vid_from_url, (, url, ), :, return, ...</td>\n",
              "      <td>Extracts video ID from URL.</td>\n",
              "      <td>[Extracts, video, ID, from, URL, .]</td>\n",
              "    </tr>\n",
              "    <tr>\n",
              "      <th>1</th>\n",
              "      <td>soimort/you-get</td>\n",
              "      <td>src/you_get/extractors/miomio.py</td>\n",
              "      <td>https://github.com/soimort/you-get/blob/b746ac...</td>\n",
              "      <td>sina_xml_to_url_list</td>\n",
              "      <td>def sina_xml_to_url_list(xml_data):\\n    \"\"\"st...</td>\n",
              "      <td>[def, sina_xml_to_url_list, (, xml_data, ), :,...</td>\n",
              "      <td>str-&gt;list\\n    Convert XML to URL List.\\n    F...</td>\n",
              "      <td>[str, -, &gt;, list, Convert, XML, to, URL, List,...</td>\n",
              "    </tr>\n",
              "    <tr>\n",
              "      <th>2</th>\n",
              "      <td>soimort/you-get</td>\n",
              "      <td>src/you_get/extractors/fc2video.py</td>\n",
              "      <td>https://github.com/soimort/you-get/blob/b746ac...</td>\n",
              "      <td>makeMimi</td>\n",
              "      <td>def makeMimi(upid):\\n    \"\"\"From http://cdn37....</td>\n",
              "      <td>[def, makeMimi, (, upid, ), :, strSeed, =, \"gG...</td>\n",
              "      <td>From http://cdn37.atwikiimg.com/sitescript/pub...</td>\n",
              "      <td>[From, http, :, //, cdn37, ., atwikiimg, ., co...</td>\n",
              "    </tr>\n",
              "  </tbody>\n",
              "</table>\n",
              "</div>"
            ],
            "text/plain": [
              "              repo  ...                                   docstring_tokens\n",
              "0  soimort/you-get  ...                [Extracts, video, ID, from, URL, .]\n",
              "1  soimort/you-get  ...  [str, -, >, list, Convert, XML, to, URL, List,...\n",
              "2  soimort/you-get  ...  [From, http, :, //, cdn37, ., atwikiimg, ., co...\n",
              "\n",
              "[3 rows x 8 columns]"
            ]
          },
          "metadata": {
            "tags": []
          },
          "execution_count": 39
        }
      ]
    },
    {
      "cell_type": "code",
      "metadata": {
        "id": "eR_SBgnzVXO7",
        "colab_type": "code",
        "outputId": "66c9ea85-9afc-4605-8818-53369c99eb50",
        "colab": {
          "base_uri": "https://localhost:8080/",
          "height": 745
        }
      },
      "source": [
        "pydf_with_star = pydf\n",
        "pydf_with_star['star'] = \"\"\n",
        "for index, row in pydf_with_star.iterrows():\n",
        "  if row['repo'] in repository_metadata_info:\n",
        "    row['star'] = repository_metadata_info[row['repo']]\n",
        "pydf_with_star"
      ],
      "execution_count": 40,
      "outputs": [
        {
          "output_type": "execute_result",
          "data": {
            "text/html": [
              "<div>\n",
              "<style scoped>\n",
              "    .dataframe tbody tr th:only-of-type {\n",
              "        vertical-align: middle;\n",
              "    }\n",
              "\n",
              "    .dataframe tbody tr th {\n",
              "        vertical-align: top;\n",
              "    }\n",
              "\n",
              "    .dataframe thead th {\n",
              "        text-align: right;\n",
              "    }\n",
              "</style>\n",
              "<table border=\"1\" class=\"dataframe\">\n",
              "  <thead>\n",
              "    <tr style=\"text-align: right;\">\n",
              "      <th></th>\n",
              "      <th>repo</th>\n",
              "      <th>path</th>\n",
              "      <th>url</th>\n",
              "      <th>func_name</th>\n",
              "      <th>code</th>\n",
              "      <th>code_tokens</th>\n",
              "      <th>docstring</th>\n",
              "      <th>docstring_tokens</th>\n",
              "      <th>star</th>\n",
              "    </tr>\n",
              "  </thead>\n",
              "  <tbody>\n",
              "    <tr>\n",
              "      <th>0</th>\n",
              "      <td>soimort/you-get</td>\n",
              "      <td>src/you_get/extractors/youtube.py</td>\n",
              "      <td>https://github.com/soimort/you-get/blob/b746ac...</td>\n",
              "      <td>YouTube.get_vid_from_url</td>\n",
              "      <td>def get_vid_from_url(url):\\n        \"\"\"Extract...</td>\n",
              "      <td>[def, get_vid_from_url, (, url, ), :, return, ...</td>\n",
              "      <td>Extracts video ID from URL.</td>\n",
              "      <td>[Extracts, video, ID, from, URL, .]</td>\n",
              "      <td>27926</td>\n",
              "    </tr>\n",
              "    <tr>\n",
              "      <th>1</th>\n",
              "      <td>soimort/you-get</td>\n",
              "      <td>src/you_get/extractors/miomio.py</td>\n",
              "      <td>https://github.com/soimort/you-get/blob/b746ac...</td>\n",
              "      <td>sina_xml_to_url_list</td>\n",
              "      <td>def sina_xml_to_url_list(xml_data):\\n    \"\"\"st...</td>\n",
              "      <td>[def, sina_xml_to_url_list, (, xml_data, ), :,...</td>\n",
              "      <td>str-&gt;list\\n    Convert XML to URL List.\\n    F...</td>\n",
              "      <td>[str, -, &gt;, list, Convert, XML, to, URL, List,...</td>\n",
              "      <td>27926</td>\n",
              "    </tr>\n",
              "    <tr>\n",
              "      <th>2</th>\n",
              "      <td>soimort/you-get</td>\n",
              "      <td>src/you_get/extractors/fc2video.py</td>\n",
              "      <td>https://github.com/soimort/you-get/blob/b746ac...</td>\n",
              "      <td>makeMimi</td>\n",
              "      <td>def makeMimi(upid):\\n    \"\"\"From http://cdn37....</td>\n",
              "      <td>[def, makeMimi, (, upid, ), :, strSeed, =, \"gG...</td>\n",
              "      <td>From http://cdn37.atwikiimg.com/sitescript/pub...</td>\n",
              "      <td>[From, http, :, //, cdn37, ., atwikiimg, ., co...</td>\n",
              "      <td>27926</td>\n",
              "    </tr>\n",
              "    <tr>\n",
              "      <th>3</th>\n",
              "      <td>soimort/you-get</td>\n",
              "      <td>src/you_get/extractors/fc2video.py</td>\n",
              "      <td>https://github.com/soimort/you-get/blob/b746ac...</td>\n",
              "      <td>fc2video_download</td>\n",
              "      <td>def fc2video_download(url, output_dir = '.', m...</td>\n",
              "      <td>[def, fc2video_download, (, url, ,, output_dir...</td>\n",
              "      <td>wrapper</td>\n",
              "      <td>[wrapper]</td>\n",
              "      <td>27926</td>\n",
              "    </tr>\n",
              "    <tr>\n",
              "      <th>4</th>\n",
              "      <td>soimort/you-get</td>\n",
              "      <td>src/you_get/extractors/dailymotion.py</td>\n",
              "      <td>https://github.com/soimort/you-get/blob/b746ac...</td>\n",
              "      <td>dailymotion_download</td>\n",
              "      <td>def dailymotion_download(url, output_dir='.', ...</td>\n",
              "      <td>[def, dailymotion_download, (, url, ,, output_...</td>\n",
              "      <td>Downloads Dailymotion videos by URL.</td>\n",
              "      <td>[Downloads, Dailymotion, videos, by, URL, .]</td>\n",
              "      <td>27926</td>\n",
              "    </tr>\n",
              "    <tr>\n",
              "      <th>...</th>\n",
              "      <td>...</td>\n",
              "      <td>...</td>\n",
              "      <td>...</td>\n",
              "      <td>...</td>\n",
              "      <td>...</td>\n",
              "      <td>...</td>\n",
              "      <td>...</td>\n",
              "      <td>...</td>\n",
              "      <td>...</td>\n",
              "    </tr>\n",
              "    <tr>\n",
              "      <th>23102</th>\n",
              "      <td>xnuinside/clifier</td>\n",
              "      <td>clifier/clifier.py</td>\n",
              "      <td>https://github.com/xnuinside/clifier/blob/3d70...</td>\n",
              "      <td>Clifier.show_version</td>\n",
              "      <td>def show_version(self):\\n        \"\"\" custom co...</td>\n",
              "      <td>[def, show_version, (, self, ), :, class, Show...</td>\n",
              "      <td>custom command line  action to show version</td>\n",
              "      <td>[custom, command, line, action, to, show, vers...</td>\n",
              "      <td></td>\n",
              "    </tr>\n",
              "    <tr>\n",
              "      <th>23103</th>\n",
              "      <td>xnuinside/clifier</td>\n",
              "      <td>clifier/clifier.py</td>\n",
              "      <td>https://github.com/xnuinside/clifier/blob/3d70...</td>\n",
              "      <td>Clifier.check_path_action</td>\n",
              "      <td>def check_path_action(self):\\n        \"\"\" cust...</td>\n",
              "      <td>[def, check_path_action, (, self, ), :, class,...</td>\n",
              "      <td>custom command line action to check file exist</td>\n",
              "      <td>[custom, command, line, action, to, check, fil...</td>\n",
              "      <td></td>\n",
              "    </tr>\n",
              "    <tr>\n",
              "      <th>23104</th>\n",
              "      <td>tklovett/PyShirtsIO</td>\n",
              "      <td>interactive_console.py</td>\n",
              "      <td>https://github.com/tklovett/PyShirtsIO/blob/ff...</td>\n",
              "      <td>new_user</td>\n",
              "      <td>def new_user(yaml_path):\\n    '''\\n    Return ...</td>\n",
              "      <td>[def, new_user, (, yaml_path, ), :, print, 'Re...</td>\n",
              "      <td>Return the consumer and oauth tokens with thre...</td>\n",
              "      <td>[Return, the, consumer, and, oauth, tokens, wi...</td>\n",
              "      <td></td>\n",
              "    </tr>\n",
              "    <tr>\n",
              "      <th>23105</th>\n",
              "      <td>ibelie/typy</td>\n",
              "      <td>typy/google/protobuf/internal/python_message.py</td>\n",
              "      <td>https://github.com/ibelie/typy/blob/3616845fb9...</td>\n",
              "      <td>_AddPropertiesForExtensions</td>\n",
              "      <td>def _AddPropertiesForExtensions(descriptor, cl...</td>\n",
              "      <td>[def, _AddPropertiesForExtensions, (, descript...</td>\n",
              "      <td>Adds properties for all fields in this protoco...</td>\n",
              "      <td>[Adds, properties, for, all, fields, in, this,...</td>\n",
              "      <td></td>\n",
              "    </tr>\n",
              "    <tr>\n",
              "      <th>23106</th>\n",
              "      <td>ibelie/typy</td>\n",
              "      <td>typy/google/protobuf/internal/python_message.py</td>\n",
              "      <td>https://github.com/ibelie/typy/blob/3616845fb9...</td>\n",
              "      <td>_InternalUnpackAny</td>\n",
              "      <td>def _InternalUnpackAny(msg):\\n  \"\"\"Unpacks Any...</td>\n",
              "      <td>[def, _InternalUnpackAny, (, msg, ), :, type_u...</td>\n",
              "      <td>Unpacks Any message and returns the unpacked m...</td>\n",
              "      <td>[Unpacks, Any, message, and, returns, the, unp...</td>\n",
              "      <td></td>\n",
              "    </tr>\n",
              "  </tbody>\n",
              "</table>\n",
              "<p>457461 rows × 9 columns</p>\n",
              "</div>"
            ],
            "text/plain": [
              "                      repo  ...   star\n",
              "0          soimort/you-get  ...  27926\n",
              "1          soimort/you-get  ...  27926\n",
              "2          soimort/you-get  ...  27926\n",
              "3          soimort/you-get  ...  27926\n",
              "4          soimort/you-get  ...  27926\n",
              "...                    ...  ...    ...\n",
              "23102    xnuinside/clifier  ...       \n",
              "23103    xnuinside/clifier  ...       \n",
              "23104  tklovett/PyShirtsIO  ...       \n",
              "23105          ibelie/typy  ...       \n",
              "23106          ibelie/typy  ...       \n",
              "\n",
              "[457461 rows x 9 columns]"
            ]
          },
          "metadata": {
            "tags": []
          },
          "execution_count": 40
        }
      ]
    },
    {
      "cell_type": "code",
      "metadata": {
        "id": "ivGY7EXXWPnI",
        "colab_type": "code",
        "colab": {}
      },
      "source": [
        ""
      ],
      "execution_count": 0,
      "outputs": []
    }
  ]
}